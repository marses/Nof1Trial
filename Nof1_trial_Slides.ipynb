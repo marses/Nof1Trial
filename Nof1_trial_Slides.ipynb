{
 "cells": [
  {
   "cell_type": "markdown",
   "metadata": {
    "slideshow": {
     "slide_type": "slide"
    }
   },
   "source": [
    "# Effects of Inhibition on Trial Signals in 'numberStarred' Game\n",
    "\n",
    "## N of 1 Trial Study\n",
    "\n",
    "### By Marko Seslija"
   ]
  },
  {
   "cell_type": "code",
   "execution_count": 33,
   "metadata": {
    "slideshow": {
     "slide_type": "skip"
    }
   },
   "outputs": [
    {
     "data": {
      "text/plain": [
       "''"
      ]
     },
     "execution_count": 33,
     "metadata": {},
     "output_type": "execute_result"
    }
   ],
   "source": [
    "from notebook.services.config import ConfigManager\n",
    "cm = ConfigManager()\n",
    "cm.update('livereveal', {\n",
    "              'scroll': True,\n",
    "})\n",
    "\"\""
   ]
  },
  {
   "cell_type": "markdown",
   "metadata": {
    "slideshow": {
     "slide_type": "slide"
    }
   },
   "source": [
    "## Abstract\n",
    "\n",
    "- In this notebook we explore the effects of inhibition on the movement sensors data.\n",
    "\n",
    "- This is an N of 1 trial. We exclusively concentrate on a specific (any) individual."
   ]
  },
  {
   "cell_type": "markdown",
   "metadata": {
    "slideshow": {
     "slide_type": "slide"
    }
   },
   "source": [
    "## 2nd Order Statistics of Trajectories\n",
    "\n",
    "- Load the data by running *parserGP.py*.\n",
    "\n",
    "- Fit Gaussian processes to the triggering angle (one that cuases app to register event) and the remaining angle.\n",
    "\n",
    "- We use standar RBF kernel."
   ]
  },
  {
   "cell_type": "code",
   "execution_count": 1,
   "metadata": {
    "slideshow": {
     "slide_type": "subslide"
    }
   },
   "outputs": [
    {
     "name": "stdout",
     "output_type": "stream",
     "text": [
      "ID: 35  Game: numbersStarred   Session: 0   Window: 0   Time: 2019-02-09 14:55:54.688111\n",
      "ID: 35  Game: numbersStarred   Session: 0   Window: 1   Time: 2019-02-09 14:55:57.943308\n",
      "ID: 35  Game: numbersStarred   Session: 0   Window: 2   Time: 2019-02-09 14:55:59.860083\n",
      "ID: 35  Game: numbersStarred   Session: 0   Window: 3   Time: 2019-02-09 14:56:06.911953\n",
      "ID: 35  Game: numbersStarred   Session: 0   Window: 4   Time: 2019-02-09 14:56:11.610703\n",
      "ID: 35  Game: numbersStarred   Session: 0   Window: 5   Time: 2019-02-09 14:56:26.061551\n",
      "ID: 35  Game: numbersStarred   Session: 0   Window: 6   Time: 2019-02-09 14:56:37.474946\n",
      "ID: 35  Game: numbersStarred   Session: 0   Window: 7   Time: 2019-02-09 14:56:41.129030\n",
      "ID: 35  Game: numbersStarred   Session: 0   Window: 8   Time: 2019-02-09 14:56:43.012483\n",
      "ID: 35  Game: numbersStarred   Session: 0   Window: 9   Time: 2019-02-09 14:56:44.762590\n",
      "ID: 35  Game: numbersStarred   Session: 0   Window: 10   Time: 2019-02-09 14:56:48.262784\n",
      "ID: 35  Game: numbersStarred   Session: 0   Window: 11   Time: 2019-02-09 14:57:00.413431\n",
      "ID: 35  Game: numbersStarred   Session: 0   Window: 12   Time: 2019-02-09 14:57:04.781522\n",
      "ID: 35  Game: numbersStarred   Session: 0   Window: 13   Time: 2019-02-09 14:57:06.613794\n",
      "ID: 35  Game: numbersStarred   Session: 0   Window: 14   Time: 2019-02-09 14:57:12.114125\n",
      "ID: 35  Game: numbersStarred   Session: 0   Window: 15   Time: 2019-02-09 14:57:16.230990\n",
      "ID: 35  Game: numbersStarred   Session: 0   Window: 16   Time: 2019-02-09 14:57:20.082642\n",
      "ID: 35  Game: numbersStarred   Session: 0   Window: 17   Time: 2019-02-09 14:57:22.948107\n",
      "ID: 35  Game: numbersStarred   Session: 0   Window: 18   Time: 2019-02-09 14:57:25.432783\n",
      "ID: 35  Game: numbersStarred   Session: 0   Window: 19   Time: 2019-02-09 14:57:29.231752\n",
      "ID: 35  Game: numbersStarred   Session: 0   Window: 20   Time: 2019-02-09 14:57:37.648880\n",
      "ID: 35  Game: numbersStarred   Session: 0   Window: 21   Time: 2019-02-09 14:57:41.782431\n",
      "ID: 35  Game: numbersStarred   Session: 0   Window: 22   Time: 2019-02-09 14:57:43.965913\n",
      "ID: 35  Game: numbersStarred   Session: 0   Window: 23   Time: 2019-02-09 14:57:46.000495\n",
      "ID: 35  Game: numbersStarred   Session: 0   Window: 24   Time: 2019-02-09 14:57:48.349477\n",
      "ID: 35  Game: numbersStarred   Session: 0   Window: 25   Time: 2019-02-09 14:57:52.833110\n",
      "ID: 35  Game: numbersStarred   Session: 0   Window: 26   Time: 2019-02-09 14:57:55.016540\n",
      "ID: 35  Game: numbersStarred   Session: 0   Window: 27   Time: 2019-02-09 14:57:58.000008\n",
      "ID: 35  Game: numbersStarred   Session: 0   Window: 28   Time: 2019-02-09 14:58:01.800219\n",
      "ID: 35  Game: numbersStarred   Session: 0   Window: 29   Time: 2019-02-09 14:58:07.117167\n",
      "ID: 35  Game: numbersStarred   Session: 0   Window: 30   Time: 2019-02-09 14:58:23.164126\n",
      "ID: 35  Game: numbersStarred   Session: 0   Window: 31   Time: 2019-02-09 14:58:25.684879\n",
      "ID: 35  Game: numbersStarred   Session: 0   Window: 32   Time: 2019-02-09 14:58:28.703301\n",
      "ID: 35  Game: numbersStarred   Session: 0   Window: 33   Time: 2019-02-09 14:58:31.485244\n",
      "ID: 35  Game: numbersStarred   Session: 0   Window: 34   Time: 2019-02-09 14:58:35.385454\n",
      "ID: 35  Game: numbersStarred   Session: 0   Window: 35   Time: 2019-02-09 14:58:37.969016\n",
      "ID: 35  Game: numbersStarred   Session: 0   Window: 36   Time: 2019-02-09 14:58:41.370221\n",
      "ID: 35  Game: numbersStarred   Session: 0   Window: 37   Time: 2019-02-09 14:58:45.002637\n",
      "ID: 35  Game: numbersStarred   Session: 0   Window: 38   Time: 2019-02-09 14:58:49.652940\n",
      "ID: 35  Game: numbersStarred   Session: 0   Window: 39   Time: 2019-02-09 14:58:54.069840\n",
      "ID: 35  Game: numbersStarred   Session: 0   Window: 40   Time: 2019-02-09 14:58:59.320090\n",
      "ID: 35  Game: numbersStarred   Session: 0   Window: 41   Time: 2019-02-09 14:59:02.488146\n",
      "ID: 35  Game: numbersStarred   Session: 0   Window: 42   Time: 2019-02-09 14:59:06.753859\n",
      "ID: 35  Game: numbersStarred   Session: 0   Window: 43   Time: 2019-02-09 14:59:14.570957\n",
      "ID: 35  Game: numbersStarred   Session: 0   Window: 44   Time: 2019-02-09 14:59:23.272856\n",
      "ID: 35  Game: numbersStarred   Session: 0   Window: 45   Time: 2019-02-09 14:59:25.154879\n",
      "ID: 35  Game: numbersStarred   Session: 0   Window: 46   Time: 2019-02-09 14:59:27.555032\n",
      "ID: 35  Game: numbersStarred   Session: 0   Window: 47   Time: 2019-02-09 14:59:29.405180\n",
      "ID: 35  Game: numbersStarred   Session: 0   Window: 48   Time: 2019-02-09 14:59:32.522018\n",
      "ID: 35  Game: numbersStarred   Session: 0   Window: 49   Time: 2019-02-09 14:59:35.523136\n",
      "ID: 35  Game: numbersStarred   Session: 0   Window: 50   Time: 2019-02-09 14:59:39.405680\n",
      "ID: 35  Game: numbersStarred   Session: 0   Window: 51   Time: 2019-02-09 14:59:44.672687\n",
      "ID: 35  Game: numbersStarred   Session: 0   Window: 52   Time: 2019-02-09 14:59:48.156186\n",
      "ID: 35  Game: numbersStarred   Session: 0   Window: 53   Time: 2019-02-09 14:59:52.057420\n",
      "ID: 35  Game: numbersStarred   Session: 0   Window: 54   Time: 2019-02-09 14:59:55.123236\n",
      "ID: 35  Game: numbersStarred   Session: 0   Window: 55   Time: 2019-02-09 14:59:57.623421\n",
      "ID: 35  Game: numbersStarred   Session: 0   Window: 56   Time: 2019-02-09 14:59:59.323465\n",
      "ID: 35  Game: numbersStarred   Session: 0   Window: 57   Time: 2019-02-09 15:00:02.223615\n",
      "ID: 35  Game: numbersStarred   Session: 0   Window: 58   Time: 2019-02-09 15:00:11.574177\n",
      "ID: 35  Game: numbersStarred   Session: 0   Window: 59   Time: 2019-02-09 15:00:15.892215\n",
      "ID: 35  Game: numbersStarred   Session: 0   Window: 60   Time: 2019-02-09 15:00:23.141452\n",
      "ID: 35  Game: numbersStarred   Session: 0   Window: 61   Time: 2019-02-09 15:00:26.141680\n"
     ]
    },
    {
     "name": "stderr",
     "output_type": "stream",
     "text": [
      "//anaconda/lib/python3.6/site-packages/numpy/core/fromnumeric.py:3118: RuntimeWarning: Mean of empty slice.\n",
      "  out=out, **kwargs)\n",
      "//anaconda/lib/python3.6/site-packages/numpy/core/_methods.py:85: RuntimeWarning: invalid value encountered in double_scalars\n",
      "  ret = ret.dtype.type(ret / rcount)\n"
     ]
    },
    {
     "name": "stdout",
     "output_type": "stream",
     "text": [
      "ID: 35  Game: numbersStarred   Session: 1   Window: 0   Time: 2019-02-10 21:16:55.530098\n",
      "ID: 35  Game: numbersStarred   Session: 1   Window: 1   Time: 2019-02-10 21:17:01.182760\n",
      "ID: 35  Game: numbersStarred   Session: 1   Window: 2   Time: 2019-02-10 21:17:03.084077\n",
      "ID: 35  Game: numbersStarred   Session: 1   Window: 3   Time: 2019-02-10 21:17:05.766314\n",
      "ID: 35  Game: numbersStarred   Session: 1   Window: 4   Time: 2019-02-10 21:17:20.568981\n",
      "ID: 35  Game: numbersStarred   Session: 1   Window: 6   Time: 2019-02-10 21:17:47.149776\n",
      "ID: 35  Game: numbersStarred   Session: 1   Window: 7   Time: 2019-02-10 21:17:58.037137\n",
      "ID: 35  Game: numbersStarred   Session: 1   Window: 8   Time: 2019-02-10 21:17:59.835924\n",
      "ID: 35  Game: numbersStarred   Session: 1   Window: 9   Time: 2019-02-10 21:18:03.586103\n",
      "ID: 35  Game: numbersStarred   Session: 1   Window: 10   Time: 2019-02-10 21:18:08.687673\n",
      "ID: 35  Game: numbersStarred   Session: 1   Window: 11   Time: 2019-02-10 21:18:11.269819\n",
      "ID: 35  Game: numbersStarred   Session: 1   Window: 12   Time: 2019-02-10 21:18:13.937815\n",
      "ID: 35  Game: numbersStarred   Session: 1   Window: 13   Time: 2019-02-10 21:18:16.653427\n",
      "ID: 35  Game: numbersStarred   Session: 1   Window: 14   Time: 2019-02-10 21:18:18.553596\n",
      "ID: 35  Game: numbersStarred   Session: 1   Window: 15   Time: 2019-02-10 21:18:21.538343\n",
      "ID: 35  Game: numbersStarred   Session: 1   Window: 16   Time: 2019-02-10 21:18:24.920588\n",
      "ID: 35  Game: numbersStarred   Session: 1   Window: 17   Time: 2019-02-10 21:18:28.005366\n",
      "ID: 35  Game: numbersStarred   Session: 1   Window: 18   Time: 2019-02-10 21:18:30.655120\n"
     ]
    },
    {
     "name": "stderr",
     "output_type": "stream",
     "text": [
      "//anaconda/lib/python3.6/site-packages/numpy/core/fromnumeric.py:3118: RuntimeWarning: Mean of empty slice.\n",
      "  out=out, **kwargs)\n",
      "//anaconda/lib/python3.6/site-packages/numpy/core/_methods.py:85: RuntimeWarning: invalid value encountered in double_scalars\n",
      "  ret = ret.dtype.type(ret / rcount)\n"
     ]
    },
    {
     "name": "stdout",
     "output_type": "stream",
     "text": [
      "ID: 35  Game: numbersStarred   Session: 2   Window: 0   Time: 2019-02-11 09:02:47.726573\n",
      "ID: 35  Game: numbersStarred   Session: 2   Window: 1   Time: 2019-02-11 09:02:50.699184\n",
      "ID: 35  Game: numbersStarred   Session: 2   Window: 2   Time: 2019-02-11 09:02:52.365846\n",
      "ID: 35  Game: numbersStarred   Session: 2   Window: 3   Time: 2019-02-11 09:02:56.266039\n",
      "ID: 35  Game: numbersStarred   Session: 2   Window: 4   Time: 2019-02-11 09:02:59.382842\n",
      "ID: 35  Game: numbersStarred   Session: 2   Window: 5   Time: 2019-02-11 09:03:02.082986\n",
      "ID: 35  Game: numbersStarred   Session: 2   Window: 6   Time: 2019-02-11 09:03:03.999741\n",
      "ID: 35  Game: numbersStarred   Session: 2   Window: 7   Time: 2019-02-11 09:03:06.668138\n",
      "ID: 35  Game: numbersStarred   Session: 2   Window: 8   Time: 2019-02-11 09:03:08.549970\n",
      "ID: 35  Game: numbersStarred   Session: 2   Window: 9   Time: 2019-02-11 09:03:10.450118\n",
      "ID: 35  Game: numbersStarred   Session: 2   Window: 10   Time: 2019-02-11 09:03:14.233612\n",
      "ID: 35  Game: numbersStarred   Session: 2   Window: 11   Time: 2019-02-11 09:03:25.134246\n",
      "ID: 35  Game: numbersStarred   Session: 2   Window: 12   Time: 2019-02-11 09:03:28.367636\n",
      "ID: 35  Game: numbersStarred   Session: 2   Window: 13   Time: 2019-02-11 09:03:31.286492\n",
      "ID: 35  Game: numbersStarred   Session: 2   Window: 14   Time: 2019-02-11 09:03:35.551336\n",
      "ID: 35  Game: numbersStarred   Session: 2   Window: 15   Time: 2019-02-11 09:03:37.951509\n",
      "ID: 35  Game: numbersStarred   Session: 2   Window: 16   Time: 2019-02-11 09:03:40.201576\n",
      "ID: 35  Game: numbersStarred   Session: 2   Window: 17   Time: 2019-02-11 09:03:43.785145\n",
      "ID: 35  Game: numbersStarred   Session: 2   Window: 18   Time: 2019-02-11 09:03:45.835230\n",
      "ID: 35  Game: numbersStarred   Session: 2   Window: 19   Time: 2019-02-11 09:03:49.752076\n",
      "ID: 35  Game: numbersStarred   Session: 2   Window: 20   Time: 2019-02-11 09:03:54.685660\n",
      "ID: 35  Game: numbersStarred   Session: 2   Window: 21   Time: 2019-02-11 09:03:57.402464\n",
      "ID: 35  Game: numbersStarred   Session: 2   Window: 22   Time: 2019-02-11 09:03:59.837356\n",
      "ID: 35  Game: numbersStarred   Session: 2   Window: 23   Time: 2019-02-11 09:04:02.669469\n",
      "ID: 35  Game: numbersStarred   Session: 2   Window: 24   Time: 2019-02-11 09:04:06.120541\n",
      "ID: 35  Game: numbersStarred   Session: 2   Window: 25   Time: 2019-02-11 09:04:09.086369\n",
      "ID: 35  Game: numbersStarred   Session: 2   Window: 26   Time: 2019-02-11 09:04:12.071185\n",
      "ID: 35  Game: numbersStarred   Session: 2   Window: 27   Time: 2019-02-11 09:04:14.503326\n",
      "ID: 35  Game: numbersStarred   Session: 2   Window: 28   Time: 2019-02-11 09:04:16.771554\n",
      "ID: 35  Game: numbersStarred   Session: 2   Window: 29   Time: 2019-02-11 09:04:21.770349\n",
      "ID: 35  Game: numbersStarred   Session: 2   Window: 30   Time: 2019-02-11 09:04:24.987226\n",
      "ID: 35  Game: numbersStarred   Session: 2   Window: 31   Time: 2019-02-11 09:04:27.388593\n"
     ]
    },
    {
     "name": "stderr",
     "output_type": "stream",
     "text": [
      "//anaconda/lib/python3.6/site-packages/numpy/core/fromnumeric.py:3118: RuntimeWarning: Mean of empty slice.\n",
      "  out=out, **kwargs)\n",
      "//anaconda/lib/python3.6/site-packages/numpy/core/_methods.py:85: RuntimeWarning: invalid value encountered in double_scalars\n",
      "  ret = ret.dtype.type(ret / rcount)\n"
     ]
    },
    {
     "name": "stdout",
     "output_type": "stream",
     "text": [
      "ID: 35  Game: numbersStarred   Session: 3   Window: 0   Time: 2019-02-11 13:56:19.836343\n",
      "ID: 35  Game: numbersStarred   Session: 3   Window: 1   Time: 2019-02-11 13:56:24.041281\n",
      "ID: 35  Game: numbersStarred   Session: 3   Window: 2   Time: 2019-02-11 13:56:29.708244\n",
      "ID: 35  Game: numbersStarred   Session: 3   Window: 3   Time: 2019-02-11 13:56:32.525121\n",
      "ID: 35  Game: numbersStarred   Session: 3   Window: 4   Time: 2019-02-11 13:56:35.725299\n",
      "ID: 35  Game: numbersStarred   Session: 3   Window: 5   Time: 2019-02-11 13:56:40.392231\n",
      "ID: 35  Game: numbersStarred   Session: 3   Window: 6   Time: 2019-02-11 13:56:43.959172\n",
      "ID: 35  Game: numbersStarred   Session: 3   Window: 7   Time: 2019-02-11 13:56:46.225771\n",
      "ID: 35  Game: numbersStarred   Session: 3   Window: 8   Time: 2019-02-11 13:56:48.625948\n",
      "ID: 35  Game: numbersStarred   Session: 3   Window: 9   Time: 2019-02-11 13:56:50.059379\n",
      "ID: 35  Game: numbersStarred   Session: 3   Window: 10   Time: 2019-02-11 13:56:54.142863\n",
      "ID: 35  Game: numbersStarred   Session: 3   Window: 11   Time: 2019-02-11 13:56:56.976344\n",
      "ID: 35  Game: numbersStarred   Session: 3   Window: 12   Time: 2019-02-11 13:56:59.559830\n",
      "ID: 35  Game: numbersStarred   Session: 3   Window: 13   Time: 2019-02-11 13:57:01.259900\n",
      "ID: 35  Game: numbersStarred   Session: 3   Window: 14   Time: 2019-02-11 13:57:04.910091\n",
      "ID: 35  Game: numbersStarred   Session: 3   Window: 15   Time: 2019-02-11 13:57:08.476971\n",
      "ID: 35  Game: numbersStarred   Session: 3   Window: 16   Time: 2019-02-11 13:57:11.627106\n",
      "ID: 35  Game: numbersStarred   Session: 3   Window: 17   Time: 2019-02-11 13:57:13.910572\n",
      "ID: 35  Game: numbersStarred   Session: 3   Window: 18   Time: 2019-02-11 13:57:16.260702\n",
      "ID: 35  Game: numbersStarred   Session: 3   Window: 19   Time: 2019-02-11 13:57:17.810775\n",
      "ID: 35  Game: numbersStarred   Session: 3   Window: 20   Time: 2019-02-11 13:57:19.827560\n",
      "ID: 35  Game: numbersStarred   Session: 3   Window: 21   Time: 2019-02-11 13:57:22.044322\n",
      "ID: 35  Game: numbersStarred   Session: 3   Window: 22   Time: 2019-02-11 13:57:24.611221\n",
      "ID: 35  Game: numbersStarred   Session: 3   Window: 23   Time: 2019-02-11 13:57:28.044658\n",
      "ID: 35  Game: numbersStarred   Session: 3   Window: 24   Time: 2019-02-11 13:57:30.811465\n",
      "ID: 35  Game: numbersStarred   Session: 3   Window: 25   Time: 2019-02-11 13:57:33.894989\n",
      "ID: 35  Game: numbersStarred   Session: 3   Window: 26   Time: 2019-02-11 13:57:35.545137\n",
      "ID: 35  Game: numbersStarred   Session: 3   Window: 27   Time: 2019-02-11 13:57:37.745348\n",
      "ID: 35  Game: numbersStarred   Session: 3   Window: 28   Time: 2019-02-11 13:57:40.045211\n",
      "ID: 35  Game: numbersStarred   Session: 3   Window: 29   Time: 2019-02-11 13:57:43.428771\n",
      "ID: 35  Game: numbersStarred   Session: 3   Window: 30   Time: 2019-02-11 13:57:46.145629\n",
      "ID: 35  Game: numbersStarred   Session: 3   Window: 31   Time: 2019-02-11 13:57:51.331641\n"
     ]
    },
    {
     "name": "stderr",
     "output_type": "stream",
     "text": [
      "//anaconda/lib/python3.6/site-packages/numpy/core/fromnumeric.py:3118: RuntimeWarning: Mean of empty slice.\n",
      "  out=out, **kwargs)\n",
      "//anaconda/lib/python3.6/site-packages/numpy/core/_methods.py:85: RuntimeWarning: invalid value encountered in double_scalars\n",
      "  ret = ret.dtype.type(ret / rcount)\n"
     ]
    },
    {
     "name": "stdout",
     "output_type": "stream",
     "text": [
      "ID: 35  Game: numbersStarred   Session: 4   Window: 0   Time: 2019-02-12 09:31:17.914885\n",
      "ID: 35  Game: numbersStarred   Session: 4   Window: 1   Time: 2019-02-12 09:31:20.151089\n",
      "ID: 35  Game: numbersStarred   Session: 4   Window: 2   Time: 2019-02-12 09:31:21.467788\n",
      "ID: 35  Game: numbersStarred   Session: 4   Window: 3   Time: 2019-02-12 09:31:24.868065\n",
      "ID: 35  Game: numbersStarred   Session: 4   Window: 4   Time: 2019-02-12 09:31:27.051416\n",
      "ID: 35  Game: numbersStarred   Session: 4   Window: 5   Time: 2019-02-12 09:31:28.818162\n",
      "ID: 35  Game: numbersStarred   Session: 4   Window: 6   Time: 2019-02-12 09:31:30.401603\n",
      "ID: 35  Game: numbersStarred   Session: 4   Window: 7   Time: 2019-02-12 09:31:32.018409\n",
      "ID: 35  Game: numbersStarred   Session: 4   Window: 8   Time: 2019-02-12 09:31:34.603134\n",
      "ID: 35  Game: numbersStarred   Session: 4   Window: 9   Time: 2019-02-12 09:31:37.035278\n",
      "ID: 35  Game: numbersStarred   Session: 4   Window: 10   Time: 2019-02-12 09:31:39.953552\n",
      "ID: 35  Game: numbersStarred   Session: 4   Window: 11   Time: 2019-02-12 09:31:41.670444\n",
      "ID: 35  Game: numbersStarred   Session: 4   Window: 12   Time: 2019-02-12 09:31:43.270058\n",
      "ID: 35  Game: numbersStarred   Session: 4   Window: 13   Time: 2019-02-12 09:31:45.702396\n",
      "ID: 35  Game: numbersStarred   Session: 4   Window: 14   Time: 2019-02-12 09:31:49.637416\n",
      "ID: 35  Game: numbersStarred   Session: 4   Window: 15   Time: 2019-02-12 09:31:51.721304\n",
      "ID: 35  Game: numbersStarred   Session: 4   Window: 16   Time: 2019-02-12 09:31:54.820826\n",
      "ID: 35  Game: numbersStarred   Session: 4   Window: 17   Time: 2019-02-12 09:31:57.136693\n",
      "ID: 35  Game: numbersStarred   Session: 4   Window: 18   Time: 2019-02-12 09:32:00.269855\n",
      "ID: 35  Game: numbersStarred   Session: 4   Window: 19   Time: 2019-02-12 09:32:03.271319\n",
      "ID: 35  Game: numbersStarred   Session: 4   Window: 20   Time: 2019-02-12 09:32:05.353427\n",
      "ID: 35  Game: numbersStarred   Session: 4   Window: 21   Time: 2019-02-12 09:32:09.703775\n",
      "ID: 35  Game: numbersStarred   Session: 4   Window: 22   Time: 2019-02-12 09:32:12.320514\n",
      "ID: 35  Game: numbersStarred   Session: 4   Window: 23   Time: 2019-02-12 09:32:16.454029\n",
      "ID: 35  Game: numbersStarred   Session: 4   Window: 24   Time: 2019-02-12 09:32:18.570810\n",
      "ID: 35  Game: numbersStarred   Session: 4   Window: 25   Time: 2019-02-12 09:32:19.970864\n",
      "ID: 35  Game: numbersStarred   Session: 4   Window: 26   Time: 2019-02-12 09:32:22.554376\n",
      "ID: 35  Game: numbersStarred   Session: 4   Window: 27   Time: 2019-02-12 09:32:25.671227\n",
      "ID: 35  Game: numbersStarred   Session: 4   Window: 28   Time: 2019-02-12 09:32:28.371349\n",
      "ID: 35  Game: numbersStarred   Session: 4   Window: 29   Time: 2019-02-12 09:32:30.971479\n",
      "ID: 35  Game: numbersStarred   Session: 4   Window: 30   Time: 2019-02-12 09:32:32.838278\n",
      "ID: 35  Game: numbersStarred   Session: 4   Window: 31   Time: 2019-02-12 09:32:34.573085\n",
      "Average time of compleation of numbersStarredin consecutive sessions\n",
      "[2.84973593 2.86168225 2.31845416 2.10353207 1.79486212]\n",
      "Number of incorrect answers\n",
      "[5, 3, 2, 2, 0]\n"
     ]
    },
    {
     "name": "stderr",
     "output_type": "stream",
     "text": [
      "//anaconda/lib/python3.6/site-packages/numpy/core/fromnumeric.py:3118: RuntimeWarning: Mean of empty slice.\n",
      "  out=out, **kwargs)\n",
      "//anaconda/lib/python3.6/site-packages/numpy/core/_methods.py:85: RuntimeWarning: invalid value encountered in double_scalars\n",
      "  ret = ret.dtype.type(ret / rcount)\n"
     ]
    },
    {
     "data": {
      "text/plain": [
       "<Figure size 640x480 with 1 Axes>"
      ]
     },
     "metadata": {},
     "output_type": "display_data"
    },
    {
     "data": {
      "text/plain": [
       "<Figure size 1200x600 with 1 Axes>"
      ]
     },
     "metadata": {},
     "output_type": "display_data"
    },
    {
     "name": "stdout",
     "output_type": "stream",
     "text": [
      "Correlation between event and reaction times: nan\n",
      "Correlation between event and reaction times without nans: 0.9947582766727342\n",
      "Correlation between event times without nans and L1: 0.15964043067053865\n",
      "Total incorrect (%):           6.779661016949152\n",
      "Incorrect with Star (%):       41.66666666666667\n",
      "Fallen for Star (%):           16.666666666666664\n",
      "Incorrect without Star (%):    58.333333333333336\n",
      "Incorrect with flip (%):       0.0\n",
      "Incorrect without flip (%):    100.0\n",
      "Total incorrect via flip (%):  100.0\n",
      "Total incorr. with lure (%):   66.66666666666666\n",
      "Incorr. 2nd and 3rd attempt:   8.333333333333332\n"
     ]
    },
    {
     "data": {
      "text/plain": [
       "<Figure size 640x480 with 1 Axes>"
      ]
     },
     "metadata": {},
     "output_type": "display_data"
    }
   ],
   "source": [
    "%run -i 'parserGP.py'"
   ]
  },
  {
   "cell_type": "markdown",
   "metadata": {
    "slideshow": {
     "slide_type": "subslide"
    }
   },
   "source": [
    "- Code for fitting Gaussian processes to response trajectories."
   ]
  },
  {
   "cell_type": "code",
   "execution_count": 2,
   "metadata": {
    "slideshow": {
     "slide_type": "fragment"
    }
   },
   "outputs": [],
   "source": [
    "from sklearn.kernel_ridge import KernelRidge\n",
    "from sklearn.model_selection import GridSearchCV\n",
    "from sklearn.gaussian_process import GaussianProcessRegressor\n",
    "from sklearn.gaussian_process.kernels import WhiteKernel, ExpSineSquared, RBF\n",
    "\n",
    "def fitGPs():\n",
    "    # correct signals with Star\n",
    "    data_Star = signals_trigger[numpy.where((corrIncorr_label==1) & (array_st_all==1))]\n",
    "    # correct signals without Star\n",
    "    data_noStar = signals_trigger[numpy.where((corrIncorr_label==1) & (array_st_all==0))]\n",
    "\n",
    "\n",
    "    time_Star = numpy.zeros(shape=(int(len(data_Star)*101)), dtype=float)\n",
    "    y_Star = numpy.zeros(shape=(int(len(data_Star)*101)), dtype=float)\n",
    "    t_int_Star = numpy.array([i for i in range(0,101)])\n",
    "    for j in range(int(len(data_Star))):\n",
    "        for i in range(101):\n",
    "            time_Star[j*101+i] = t_int_Star[i] + 0.01*numpy.random.uniform()\n",
    "            y_Star[j*101+i] = data_Star[j,i]\n",
    "\n",
    "    time_noStar = numpy.zeros(shape=(int(len(data_noStar)*101)), dtype=float)\n",
    "    y_noStar = numpy.zeros(shape=(int(len(data_noStar)*101)), dtype=float)\n",
    "    t_int_noStar = numpy.array([i for i in range(0,101)])\n",
    "    for j in range(int(len(data_noStar))):\n",
    "        for i in range(101):\n",
    "            time_noStar[j*101+i] = t_int_noStar[i] + 0.01*numpy.random.uniform()\n",
    "            y_noStar[j*101+i] = data_noStar[j,i]\n",
    "\n",
    "    rng = numpy.random.RandomState(0)\n",
    "\n",
    "    # Star\n",
    "    y = y_Star[~numpy.isnan(y_Star.reshape(-1,1)).any(axis=1)]\n",
    "    t = time_Star[numpy.where(~numpy.isnan(y_Star))]\n",
    "    data_Star = numpy.vstack((t,y)).T\n",
    "\n",
    "    mask_Star = numpy.random.choice([False, True], len(data_Star), p=[0.75, 0.25])\n",
    "    data_sampled_Star = data_Star[mask_Star]\n",
    "    t_data_Star = data_sampled_Star[:,0]\n",
    "    y_data_Star = data_sampled_Star[:,1]\n",
    "\n",
    "    # noStar\n",
    "    y = y_noStar[~numpy.isnan(y_noStar.reshape(-1,1)).any(axis=1)]\n",
    "    t = time_noStar[numpy.where(~numpy.isnan(y_noStar))]\n",
    "    data_noStar = numpy.vstack((t,y)).T\n",
    "\n",
    "    mask_noStar = numpy.random.choice([False, True], len(data_noStar), p=[0.75, 0.25])\n",
    "    data_sampled_noStar = data_noStar[mask_noStar]\n",
    "    t_data_noStar = data_sampled_noStar[:,0]\n",
    "    y_data_noStar = data_sampled_noStar[:,1]\n",
    "\n",
    "    gp_kernel = 1.0 * RBF(length_scale=1.0, length_scale_bounds=(1e-1, 1e2)) \\\n",
    "                + WhiteKernel(1e-2)\n",
    "    gpr_Star = GaussianProcessRegressor(kernel=gp_kernel)\n",
    "    gpr_Star.fit(t_data_Star.reshape(-1,1), y_data_Star.reshape(-1,1))\n",
    "\n",
    "    gpr_noStar = GaussianProcessRegressor(kernel=gp_kernel)\n",
    "    gpr_noStar.fit(t_data_noStar.reshape(-1,1), y_data_noStar.reshape(-1,1))\n",
    "\n",
    "    # make predictions and plot\n",
    "    t_plot = t_int_Star.reshape(-1,1)\n",
    "    y_gpr_Star, y_std_Star = gpr_Star.predict(t_plot, return_std=True)\n",
    "    y_gpr_noStar, y_std_noStar = gpr_noStar.predict(t_plot, return_std=True)\n",
    "\n",
    "    plt.figure(figsize=(10, 5))\n",
    "    plt.scatter(t_data_Star, y_data_Star, c='orangered', s=20, marker=(5, 2), label='data with Star')\n",
    "    plt.scatter(t_data_noStar, y_data_noStar, c='dodgerblue', s=20, label='data without Star')\n",
    "    plt.plot(t_plot, y_gpr_Star, color='orangered', lw=3,\n",
    "             label='mean GP with Star')\n",
    "    plt.fill_between(t_plot.ravel(), (y_gpr_Star - 2*y_std_Star.reshape(-1,1)).ravel(), \n",
    "                     (y_gpr_Star + 2*y_std_Star.reshape(-1,1)).ravel(), color='darkorange',\n",
    "                     alpha=0.3)\n",
    "    plt.plot(t_plot, y_gpr_noStar, color='royalblue', lw=3,\n",
    "             label='mean GP without Star')\n",
    "    plt.fill_between(t_plot.ravel(), (y_gpr_noStar - 2*y_std_noStar.reshape(-1,1)).ravel(), \n",
    "                     (y_gpr_noStar + 2*y_std_noStar.reshape(-1,1)).ravel(), color='lightskyblue',\n",
    "                     alpha=0.3)\n",
    "    plt.xlabel('time samples')\n",
    "    plt.ylabel('triggering angle')\n",
    "    plt.legend()\n",
    "    plt.show()"
   ]
  },
  {
   "cell_type": "markdown",
   "metadata": {
    "slideshow": {
     "slide_type": "slide"
    }
   },
   "source": [
    "## Fitting GPs\n",
    "\n",
    "- Let us take a look how on average angle responses look when __Star__ cursor is present and when it is absent.\n",
    "\n",
    "- We discard first 150 ms of the response and map all responses $r_i(t)$, $t\\in[150\\,ms,T_i]$, to $\\mathrm{sign}(r_i(T_i))\\, r_i(t)$, where $T_i$ is the Event Time of $i$-th response $r_i$.\n",
    "\n",
    "- Scale all $[150\\,ms,T_i]$ to $[0,100]$."
   ]
  },
  {
   "cell_type": "code",
   "execution_count": 4,
   "metadata": {
    "slideshow": {
     "slide_type": "slide"
    }
   },
   "outputs": [
    {
     "data": {
      "image/png": "[encoded data removed]",
      "text/plain": [
       "<Figure size 720x360 with 1 Axes>"
      ]
     },
     "metadata": {
      "needs_background": "light"
     },
     "output_type": "display_data"
    }
   ],
   "source": [
    "# Fit Gaussian processes with RBFs\n",
    "fitGPs()"
   ]
  },
  {
   "cell_type": "markdown",
   "metadata": {
    "slideshow": {
     "slide_type": "fragment"
    }
   },
   "source": [
    "- As we can see, it is very difficult to notice any difference on the basis of GPs.\n",
    "\n",
    "- This motivates us to construct performance measures, which aim to capture a subtle difference in trajectories."
   ]
  },
  {
   "cell_type": "markdown",
   "metadata": {
    "slideshow": {
     "slide_type": "slide"
    }
   },
   "source": [
    "## Output Measures\n",
    "\n",
    "- For the response Euler angles $\\alpha(t),\\beta(t), \\gamma(t)$, we focus on a triggering angle $\\alpha$ (the one that causes an event to be recorded) and a following angle $\\beta$. \n",
    "\n",
    "- We disregard the third angle.\n"
   ]
  },
  {
   "cell_type": "markdown",
   "metadata": {
    "slideshow": {
     "slide_type": "subslide"
    }
   },
   "source": [
    "- $L_1$-norms:\n",
    "\n",
    "$$\\| \\alpha(t)\\| = \\frac{1}{T} \\int_0^T \\left| \\frac{1}{2} - \\mathrm{sign\\,}(\\alpha(T))\\, \\alpha(t)\\right| dt$$\n",
    "\n",
    "$$\\| \\beta(t)\\| = \\frac{1}{T} \\int_0^T \\left| \\beta(T) \\right| dt$$"
   ]
  },
  {
   "cell_type": "markdown",
   "metadata": {
    "slideshow": {
     "slide_type": "subslide"
    }
   },
   "source": [
    "- Maximal Deviation in the opposite direction\n",
    "- Number of turns a signal makes (characterized by change of the gradient)\n",
    "- Sample Entropy"
   ]
  },
  {
   "cell_type": "markdown",
   "metadata": {
    "slideshow": {
     "slide_type": "slide"
    }
   },
   "source": [
    "## Computing Output Measures\n",
    "\n",
    "Load the Python script which will extract the outcome measures for us."
   ]
  },
  {
   "cell_type": "code",
   "execution_count": 6,
   "metadata": {
    "slideshow": {
     "slide_type": "subslide"
    }
   },
   "outputs": [
    {
     "name": "stdout",
     "output_type": "stream",
     "text": [
      "ID: 38  Game: numbersStarred   Session: 0   Window: 0   Time: 2018-08-04 07:37:41.182310\n",
      "ID: 38  Game: numbersStarred   Session: 0   Window: 1   Time: 2018-08-04 07:37:43.778350\n",
      "ID: 38  Game: numbersStarred   Session: 0   Window: 2   Time: 2018-08-04 07:37:46.112150\n",
      "ID: 38  Game: numbersStarred   Session: 0   Window: 3   Time: 2018-08-04 07:37:47.779200\n",
      "ID: 38  Game: numbersStarred   Session: 0   Window: 4   Time: 2018-08-04 07:37:57.351560\n",
      "ID: 38  Game: numbersStarred   Session: 0   Window: 5   Time: 2018-08-04 07:37:59.797620\n",
      "ID: 38  Game: numbersStarred   Session: 0   Window: 6   Time: 2018-08-04 07:38:03.799790\n",
      "ID: 38  Game: numbersStarred   Session: 0   Window: 7   Time: 2018-08-04 07:38:06.465590\n",
      "ID: 38  Game: numbersStarred   Session: 0   Window: 8   Time: 2018-08-04 07:38:11.564260\n",
      "ID: 38  Game: numbersStarred   Session: 0   Window: 9   Time: 2018-08-04 07:38:16.948510\n",
      "ID: 38  Game: numbersStarred   Session: 0   Window: 10   Time: 2018-08-04 07:38:20.367890\n",
      "ID: 38  Game: numbersStarred   Session: 0   Window: 11   Time: 2018-08-04 07:38:23.817800\n",
      "ID: 38  Game: numbersStarred   Session: 0   Window: 12   Time: 2018-08-04 07:38:26.683300\n",
      "ID: 38  Game: numbersStarred   Session: 0   Window: 13   Time: 2018-08-04 07:38:31.549790\n",
      "ID: 38  Game: numbersStarred   Session: 0   Window: 14   Time: 2018-08-04 07:38:33.934440\n",
      "ID: 38  Game: numbersStarred   Session: 0   Window: 15   Time: 2018-08-04 07:38:37.035450\n",
      "ID: 38  Game: numbersStarred   Session: 0   Window: 16   Time: 2018-08-04 07:38:39.037010\n",
      "ID: 38  Game: numbersStarred   Session: 0   Window: 17   Time: 2018-08-04 07:38:41.300090\n",
      "ID: 38  Game: numbersStarred   Session: 0   Window: 18   Time: 2018-08-04 07:38:43.652840\n",
      "ID: 38  Game: numbersStarred   Session: 0   Window: 19   Time: 2018-08-04 07:38:47.235130\n",
      "ID: 38  Game: numbersStarred   Session: 0   Window: 20   Time: 2018-08-04 07:38:50.432710\n",
      "ID: 38  Game: numbersStarred   Session: 0   Window: 21   Time: 2018-08-04 07:38:52.701490\n",
      "ID: 38  Game: numbersStarred   Session: 0   Window: 22   Time: 2018-08-04 07:38:54.650730\n"
     ]
    },
    {
     "name": "stderr",
     "output_type": "stream",
     "text": [
      "//anaconda/lib/python3.6/site-packages/numpy/core/fromnumeric.py:3118: RuntimeWarning: Mean of empty slice.\n",
      "  out=out, **kwargs)\n",
      "//anaconda/lib/python3.6/site-packages/numpy/core/_methods.py:85: RuntimeWarning: invalid value encountered in double_scalars\n",
      "  ret = ret.dtype.type(ret / rcount)\n"
     ]
    },
    {
     "name": "stdout",
     "output_type": "stream",
     "text": [
      "ID: 38  Game: numbersStarred   Session: 1   Window: 0   Time: 2018-08-04 12:47:31.165650\n",
      "ID: 38  Game: numbersStarred   Session: 1   Window: 1   Time: 2018-08-04 12:47:35.423130\n"
     ]
    },
    {
     "name": "stderr",
     "output_type": "stream",
     "text": [
      "//anaconda/lib/python3.6/site-packages/numpy/core/fromnumeric.py:3118: RuntimeWarning: Mean of empty slice.\n",
      "  out=out, **kwargs)\n",
      "//anaconda/lib/python3.6/site-packages/numpy/core/_methods.py:85: RuntimeWarning: invalid value encountered in double_scalars\n",
      "  ret = ret.dtype.type(ret / rcount)\n"
     ]
    },
    {
     "name": "stdout",
     "output_type": "stream",
     "text": [
      "ID: 38  Game: numbersStarred   Session: 5   Window: 0   Time: 2018-08-06 08:02:22.600340\n",
      "ID: 38  Game: numbersStarred   Session: 5   Window: 1   Time: 2018-08-06 08:02:24.792630\n",
      "ID: 38  Game: numbersStarred   Session: 5   Window: 2   Time: 2018-08-06 08:02:27.993580\n",
      "ID: 38  Game: numbersStarred   Session: 5   Window: 3   Time: 2018-08-06 08:02:30.976780\n",
      "ID: 38  Game: numbersStarred   Session: 5   Window: 4   Time: 2018-08-06 08:02:33.461670\n",
      "ID: 38  Game: numbersStarred   Session: 5   Window: 5   Time: 2018-08-06 08:02:35.693890\n",
      "ID: 38  Game: numbersStarred   Session: 5   Window: 6   Time: 2018-08-06 08:02:37.394700\n",
      "ID: 38  Game: numbersStarred   Session: 5   Window: 7   Time: 2018-08-06 08:02:38.760460\n",
      "ID: 38  Game: numbersStarred   Session: 5   Window: 8   Time: 2018-08-06 08:02:40.211120\n",
      "ID: 38  Game: numbersStarred   Session: 5   Window: 9   Time: 2018-08-06 08:02:42.028920\n",
      "ID: 38  Game: numbersStarred   Session: 5   Window: 10   Time: 2018-08-06 08:02:46.427740\n",
      "ID: 38  Game: numbersStarred   Session: 5   Window: 11   Time: 2018-08-06 08:02:48.878350\n",
      "ID: 38  Game: numbersStarred   Session: 5   Window: 12   Time: 2018-08-06 08:02:51.113030\n",
      "ID: 38  Game: numbersStarred   Session: 5   Window: 13   Time: 2018-08-06 08:02:53.928280\n",
      "ID: 38  Game: numbersStarred   Session: 5   Window: 14   Time: 2018-08-06 08:02:55.362370\n",
      "ID: 38  Game: numbersStarred   Session: 5   Window: 15   Time: 2018-08-06 08:02:56.964160\n",
      "ID: 38  Game: numbersStarred   Session: 5   Window: 16   Time: 2018-08-06 08:03:01.045980\n",
      "ID: 38  Game: numbersStarred   Session: 5   Window: 17   Time: 2018-08-06 08:03:03.298430\n",
      "ID: 38  Game: numbersStarred   Session: 5   Window: 18   Time: 2018-08-06 08:03:05.712920\n",
      "ID: 38  Game: numbersStarred   Session: 5   Window: 19   Time: 2018-08-06 08:03:07.713270\n",
      "ID: 38  Game: numbersStarred   Session: 5   Window: 20   Time: 2018-08-06 08:03:09.347330\n",
      "ID: 38  Game: numbersStarred   Session: 5   Window: 21   Time: 2018-08-06 08:03:11.231720\n",
      "ID: 38  Game: numbersStarred   Session: 5   Window: 22   Time: 2018-08-06 08:03:13.930320\n",
      "ID: 38  Game: numbersStarred   Session: 5   Window: 23   Time: 2018-08-06 08:03:16.564650\n",
      "ID: 38  Game: numbersStarred   Session: 5   Window: 24   Time: 2018-08-06 08:03:18.614460\n",
      "ID: 38  Game: numbersStarred   Session: 5   Window: 25   Time: 2018-08-06 08:03:20.197950\n",
      "ID: 38  Game: numbersStarred   Session: 5   Window: 26   Time: 2018-08-06 08:03:21.665470\n"
     ]
    },
    {
     "name": "stderr",
     "output_type": "stream",
     "text": [
      "//anaconda/lib/python3.6/site-packages/numpy/core/fromnumeric.py:3118: RuntimeWarning: Mean of empty slice.\n",
      "  out=out, **kwargs)\n",
      "//anaconda/lib/python3.6/site-packages/numpy/core/_methods.py:85: RuntimeWarning: invalid value encountered in double_scalars\n",
      "  ret = ret.dtype.type(ret / rcount)\n"
     ]
    },
    {
     "name": "stdout",
     "output_type": "stream",
     "text": [
      "ID: 38  Game: numbersStarred   Session: 6   Window: 0   Time: 2018-08-06 13:00:01.612430\n",
      "ID: 38  Game: numbersStarred   Session: 6   Window: 1   Time: 2018-08-06 13:00:08.627070\n",
      "ID: 38  Game: numbersStarred   Session: 6   Window: 2   Time: 2018-08-06 13:00:10.743420\n",
      "ID: 38  Game: numbersStarred   Session: 6   Window: 3   Time: 2018-08-06 13:00:12.243510\n",
      "ID: 38  Game: numbersStarred   Session: 6   Window: 4   Time: 2018-08-06 13:00:13.777590\n",
      "ID: 38  Game: numbersStarred   Session: 6   Window: 5   Time: 2018-08-06 13:00:17.611350\n",
      "ID: 38  Game: numbersStarred   Session: 6   Window: 6   Time: 2018-08-06 13:00:19.611890\n",
      "ID: 38  Game: numbersStarred   Session: 6   Window: 7   Time: 2018-08-06 13:00:22.761450\n",
      "ID: 38  Game: numbersStarred   Session: 6   Window: 8   Time: 2018-08-06 13:00:24.828830\n",
      "ID: 38  Game: numbersStarred   Session: 6   Window: 9   Time: 2018-08-06 13:00:27.629800\n",
      "ID: 38  Game: numbersStarred   Session: 6   Window: 10   Time: 2018-08-06 13:00:30.161710\n",
      "ID: 38  Game: numbersStarred   Session: 6   Window: 11   Time: 2018-08-06 13:00:32.429400\n",
      "ID: 38  Game: numbersStarred   Session: 6   Window: 12   Time: 2018-08-06 13:00:35.314750\n",
      "ID: 38  Game: numbersStarred   Session: 6   Window: 13   Time: 2018-08-06 13:00:38.711910\n",
      "ID: 38  Game: numbersStarred   Session: 6   Window: 14   Time: 2018-08-06 13:00:41.765940\n",
      "ID: 38  Game: numbersStarred   Session: 6   Window: 15   Time: 2018-08-06 13:00:43.762030\n",
      "ID: 38  Game: numbersStarred   Session: 6   Window: 16   Time: 2018-08-06 13:00:46.698020\n",
      "ID: 38  Game: numbersStarred   Session: 6   Window: 17   Time: 2018-08-06 13:00:48.431740\n",
      "ID: 38  Game: numbersStarred   Session: 6   Window: 18   Time: 2018-08-06 13:00:52.646210\n",
      "ID: 38  Game: numbersStarred   Session: 6   Window: 19   Time: 2018-08-06 13:00:58.114930\n",
      "ID: 38  Game: numbersStarred   Session: 6   Window: 20   Time: 2018-08-06 13:01:01.947720\n",
      "ID: 38  Game: numbersStarred   Session: 6   Window: 21   Time: 2018-08-06 13:01:04.349260\n",
      "ID: 38  Game: numbersStarred   Session: 6   Window: 22   Time: 2018-08-06 13:01:06.999810\n",
      "ID: 38  Game: numbersStarred   Session: 6   Window: 23   Time: 2018-08-06 13:01:08.699260\n",
      "ID: 38  Game: numbersStarred   Session: 6   Window: 24   Time: 2018-08-06 13:01:13.600670\n",
      "ID: 38  Game: numbersStarred   Session: 6   Window: 25   Time: 2018-08-06 13:01:19.348490\n",
      "ID: 38  Game: numbersStarred   Session: 6   Window: 26   Time: 2018-08-06 13:01:21.368200\n",
      "ID: 38  Game: numbersStarred   Session: 6   Window: 27   Time: 2018-08-06 13:01:22.949160\n",
      "ID: 38  Game: numbersStarred   Session: 6   Window: 28   Time: 2018-08-06 13:01:25.418640\n",
      "ID: 38  Game: numbersStarred   Session: 6   Window: 29   Time: 2018-08-06 13:01:28.585740\n",
      "ID: 38  Game: numbersStarred   Session: 6   Window: 30   Time: 2018-08-06 13:01:31.982490\n",
      "ID: 38  Game: numbersStarred   Session: 6   Window: 31   Time: 2018-08-06 13:01:33.817030\n"
     ]
    },
    {
     "name": "stderr",
     "output_type": "stream",
     "text": [
      "//anaconda/lib/python3.6/site-packages/numpy/core/fromnumeric.py:3118: RuntimeWarning: Mean of empty slice.\n",
      "  out=out, **kwargs)\n",
      "//anaconda/lib/python3.6/site-packages/numpy/core/_methods.py:85: RuntimeWarning: invalid value encountered in double_scalars\n",
      "  ret = ret.dtype.type(ret / rcount)\n"
     ]
    },
    {
     "name": "stdout",
     "output_type": "stream",
     "text": [
      "ID: 38  Game: numbersStarred   Session: 7   Window: 0   Time: 2018-08-06 21:37:31.849090\n",
      "ID: 38  Game: numbersStarred   Session: 7   Window: 1   Time: 2018-08-06 21:37:37.723570\n",
      "ID: 38  Game: numbersStarred   Session: 7   Window: 2   Time: 2018-08-06 21:37:39.106740\n",
      "ID: 38  Game: numbersStarred   Session: 7   Window: 3   Time: 2018-08-06 21:37:40.657540\n",
      "ID: 38  Game: numbersStarred   Session: 7   Window: 4   Time: 2018-08-06 21:37:44.391080\n",
      "ID: 38  Game: numbersStarred   Session: 7   Window: 5   Time: 2018-08-06 21:37:46.874000\n",
      "ID: 38  Game: numbersStarred   Session: 7   Window: 6   Time: 2018-08-06 21:37:49.157970\n",
      "ID: 38  Game: numbersStarred   Session: 7   Window: 7   Time: 2018-08-06 21:37:50.691080\n",
      "ID: 38  Game: numbersStarred   Session: 7   Window: 8   Time: 2018-08-06 21:37:53.707520\n",
      "ID: 38  Game: numbersStarred   Session: 7   Window: 9   Time: 2018-08-06 21:37:56.741300\n",
      "ID: 38  Game: numbersStarred   Session: 7   Window: 10   Time: 2018-08-06 21:37:59.324810\n",
      "ID: 38  Game: numbersStarred   Session: 7   Window: 11   Time: 2018-08-06 21:38:00.925080\n",
      "ID: 38  Game: numbersStarred   Session: 7   Window: 12   Time: 2018-08-06 21:38:03.110360\n",
      "ID: 38  Game: numbersStarred   Session: 7   Window: 13   Time: 2018-08-06 21:38:05.075170\n",
      "ID: 38  Game: numbersStarred   Session: 7   Window: 14   Time: 2018-08-06 21:38:08.025930\n",
      "ID: 38  Game: numbersStarred   Session: 7   Window: 15   Time: 2018-08-06 21:38:10.293370\n",
      "ID: 38  Game: numbersStarred   Session: 7   Window: 16   Time: 2018-08-06 21:38:12.143960\n",
      "ID: 38  Game: numbersStarred   Session: 7   Window: 17   Time: 2018-08-06 21:38:14.808730\n",
      "ID: 38  Game: numbersStarred   Session: 7   Window: 18   Time: 2018-08-06 21:38:17.496550\n",
      "ID: 38  Game: numbersStarred   Session: 7   Window: 19   Time: 2018-08-06 21:38:19.559960\n",
      "ID: 38  Game: numbersStarred   Session: 7   Window: 20   Time: 2018-08-06 21:38:24.495460\n",
      "ID: 38  Game: numbersStarred   Session: 7   Window: 21   Time: 2018-08-06 21:38:29.326580\n",
      "ID: 38  Game: numbersStarred   Session: 7   Window: 22   Time: 2018-08-06 21:38:31.911840\n",
      "ID: 38  Game: numbersStarred   Session: 7   Window: 23   Time: 2018-08-06 21:38:34.528540\n",
      "ID: 38  Game: numbersStarred   Session: 7   Window: 24   Time: 2018-08-06 21:38:36.878580\n",
      "ID: 38  Game: numbersStarred   Session: 7   Window: 25   Time: 2018-08-06 21:38:40.363130\n",
      "ID: 38  Game: numbersStarred   Session: 7   Window: 26   Time: 2018-08-06 21:38:43.145520\n",
      "ID: 38  Game: numbersStarred   Session: 7   Window: 27   Time: 2018-08-06 21:38:46.746040\n",
      "ID: 38  Game: numbersStarred   Session: 7   Window: 28   Time: 2018-08-06 21:38:49.794630\n",
      "ID: 38  Game: numbersStarred   Session: 7   Window: 29   Time: 2018-08-06 21:38:52.096920\n",
      "ID: 38  Game: numbersStarred   Session: 7   Window: 30   Time: 2018-08-06 21:38:54.613240\n",
      "ID: 38  Game: numbersStarred   Session: 7   Window: 31   Time: 2018-08-06 21:38:57.362880\n"
     ]
    },
    {
     "name": "stderr",
     "output_type": "stream",
     "text": [
      "//anaconda/lib/python3.6/site-packages/numpy/core/fromnumeric.py:3118: RuntimeWarning: Mean of empty slice.\n",
      "  out=out, **kwargs)\n",
      "//anaconda/lib/python3.6/site-packages/numpy/core/_methods.py:85: RuntimeWarning: invalid value encountered in double_scalars\n",
      "  ret = ret.dtype.type(ret / rcount)\n"
     ]
    },
    {
     "name": "stdout",
     "output_type": "stream",
     "text": [
      "ID: 38  Game: numbersStarred   Session: 8   Window: 0   Time: 2018-08-07 07:54:42.132800\n",
      "ID: 38  Game: numbersStarred   Session: 8   Window: 1   Time: 2018-08-07 07:54:44.258630\n",
      "ID: 38  Game: numbersStarred   Session: 8   Window: 2   Time: 2018-08-07 07:54:45.491820\n",
      "ID: 38  Game: numbersStarred   Session: 8   Window: 3   Time: 2018-08-07 07:54:52.325530\n",
      "ID: 38  Game: numbersStarred   Session: 8   Window: 4   Time: 2018-08-07 07:54:54.793060\n",
      "ID: 38  Game: numbersStarred   Session: 8   Window: 5   Time: 2018-08-07 07:54:56.909370\n",
      "ID: 38  Game: numbersStarred   Session: 8   Window: 6   Time: 2018-08-07 07:55:00.077140\n",
      "ID: 38  Game: numbersStarred   Session: 8   Window: 7   Time: 2018-08-07 07:55:02.094460\n",
      "ID: 38  Game: numbersStarred   Session: 8   Window: 8   Time: 2018-08-07 07:55:03.677030\n",
      "ID: 38  Game: numbersStarred   Session: 8   Window: 9   Time: 2018-08-07 07:55:05.176510\n",
      "ID: 38  Game: numbersStarred   Session: 8   Window: 10   Time: 2018-08-07 07:55:09.744290\n",
      "ID: 38  Game: numbersStarred   Session: 8   Window: 11   Time: 2018-08-07 07:55:14.794150\n",
      "ID: 38  Game: numbersStarred   Session: 8   Window: 12   Time: 2018-08-07 07:55:17.111260\n",
      "ID: 38  Game: numbersStarred   Session: 8   Window: 13   Time: 2018-08-07 07:55:20.127830\n",
      "ID: 38  Game: numbersStarred   Session: 8   Window: 14   Time: 2018-08-07 07:55:21.744680\n",
      "ID: 38  Game: numbersStarred   Session: 8   Window: 15   Time: 2018-08-07 07:55:24.595000\n",
      "ID: 38  Game: numbersStarred   Session: 8   Window: 16   Time: 2018-08-07 07:55:30.916690\n",
      "ID: 38  Game: numbersStarred   Session: 8   Window: 17   Time: 2018-08-07 07:55:32.395860\n",
      "ID: 38  Game: numbersStarred   Session: 8   Window: 18   Time: 2018-08-07 07:55:33.595050\n",
      "ID: 38  Game: numbersStarred   Session: 8   Window: 19   Time: 2018-08-07 07:55:35.478840\n",
      "ID: 38  Game: numbersStarred   Session: 8   Window: 20   Time: 2018-08-07 07:55:36.928990\n",
      "ID: 38  Game: numbersStarred   Session: 8   Window: 21   Time: 2018-08-07 07:55:40.046650\n"
     ]
    },
    {
     "name": "stderr",
     "output_type": "stream",
     "text": [
      "//anaconda/lib/python3.6/site-packages/numpy/core/fromnumeric.py:3118: RuntimeWarning: Mean of empty slice.\n",
      "  out=out, **kwargs)\n",
      "//anaconda/lib/python3.6/site-packages/numpy/core/_methods.py:85: RuntimeWarning: invalid value encountered in double_scalars\n",
      "  ret = ret.dtype.type(ret / rcount)\n"
     ]
    },
    {
     "name": "stdout",
     "output_type": "stream",
     "text": [
      "ID: 38  Game: numbersStarred   Session: 9   Window: 0   Time: 2018-08-07 12:51:48.904550\n",
      "ID: 38  Game: numbersStarred   Session: 9   Window: 1   Time: 2018-08-07 12:51:51.030440\n",
      "ID: 38  Game: numbersStarred   Session: 9   Window: 2   Time: 2018-08-07 12:51:53.747320\n",
      "ID: 38  Game: numbersStarred   Session: 9   Window: 3   Time: 2018-08-07 12:51:55.647490\n",
      "ID: 38  Game: numbersStarred   Session: 9   Window: 4   Time: 2018-08-07 12:51:58.115070\n",
      "ID: 38  Game: numbersStarred   Session: 9   Window: 5   Time: 2018-08-07 12:52:00.931360\n",
      "ID: 38  Game: numbersStarred   Session: 9   Window: 6   Time: 2018-08-07 12:52:02.815210\n",
      "ID: 38  Game: numbersStarred   Session: 9   Window: 7   Time: 2018-08-07 12:52:04.848720\n",
      "ID: 38  Game: numbersStarred   Session: 9   Window: 8   Time: 2018-08-07 12:52:07.764120\n",
      "ID: 38  Game: numbersStarred   Session: 9   Window: 9   Time: 2018-08-07 12:52:09.282840\n",
      "ID: 38  Game: numbersStarred   Session: 9   Window: 10   Time: 2018-08-07 12:52:12.015330\n",
      "ID: 38  Game: numbersStarred   Session: 9   Window: 11   Time: 2018-08-07 12:52:13.865250\n",
      "ID: 38  Game: numbersStarred   Session: 9   Window: 12   Time: 2018-08-07 12:52:15.581330\n",
      "ID: 38  Game: numbersStarred   Session: 9   Window: 13   Time: 2018-08-07 12:52:17.816770\n",
      "ID: 38  Game: numbersStarred   Session: 9   Window: 14   Time: 2018-08-07 12:52:20.681850\n",
      "ID: 38  Game: numbersStarred   Session: 9   Window: 15   Time: 2018-08-07 12:52:22.467790\n",
      "ID: 38  Game: numbersStarred   Session: 9   Window: 16   Time: 2018-08-07 12:52:25.616670\n",
      "ID: 38  Game: numbersStarred   Session: 9   Window: 17   Time: 2018-08-07 12:52:27.350840\n",
      "ID: 38  Game: numbersStarred   Session: 9   Window: 18   Time: 2018-08-07 12:52:28.915270\n",
      "ID: 38  Game: numbersStarred   Session: 9   Window: 19   Time: 2018-08-07 12:52:30.967860\n",
      "ID: 38  Game: numbersStarred   Session: 9   Window: 20   Time: 2018-08-07 12:52:32.550410\n",
      "ID: 38  Game: numbersStarred   Session: 9   Window: 21   Time: 2018-08-07 12:52:34.300420\n",
      "ID: 38  Game: numbersStarred   Session: 9   Window: 22   Time: 2018-08-07 12:52:35.836000\n",
      "ID: 38  Game: numbersStarred   Session: 9   Window: 23   Time: 2018-08-07 12:52:38.484630\n",
      "ID: 38  Game: numbersStarred   Session: 9   Window: 24   Time: 2018-08-07 12:52:40.399680\n",
      "ID: 38  Game: numbersStarred   Session: 9   Window: 25   Time: 2018-08-07 12:52:41.935800\n",
      "ID: 38  Game: numbersStarred   Session: 9   Window: 26   Time: 2018-08-07 12:52:43.251110\n",
      "ID: 38  Game: numbersStarred   Session: 9   Window: 27   Time: 2018-08-07 12:52:45.717950\n",
      "ID: 38  Game: numbersStarred   Session: 9   Window: 28   Time: 2018-08-07 12:52:47.035700\n",
      "ID: 38  Game: numbersStarred   Session: 9   Window: 29   Time: 2018-08-07 12:52:49.335110\n",
      "ID: 38  Game: numbersStarred   Session: 9   Window: 30   Time: 2018-08-07 12:52:50.951870\n",
      "ID: 38  Game: numbersStarred   Session: 9   Window: 31   Time: 2018-08-07 12:52:53.019120\n"
     ]
    },
    {
     "name": "stderr",
     "output_type": "stream",
     "text": [
      "//anaconda/lib/python3.6/site-packages/numpy/core/fromnumeric.py:3118: RuntimeWarning: Mean of empty slice.\n",
      "  out=out, **kwargs)\n",
      "//anaconda/lib/python3.6/site-packages/numpy/core/_methods.py:85: RuntimeWarning: invalid value encountered in double_scalars\n",
      "  ret = ret.dtype.type(ret / rcount)\n"
     ]
    },
    {
     "name": "stdout",
     "output_type": "stream",
     "text": [
      "ID: 38  Game: numbersStarred   Session: 10   Window: 0   Time: 2018-08-07 20:52:51.744690\n",
      "ID: 38  Game: numbersStarred   Session: 10   Window: 1   Time: 2018-08-07 20:52:53.822400\n",
      "ID: 38  Game: numbersStarred   Session: 10   Window: 2   Time: 2018-08-07 20:52:55.673400\n",
      "ID: 38  Game: numbersStarred   Session: 10   Window: 3   Time: 2018-08-07 20:52:57.057880\n",
      "ID: 38  Game: numbersStarred   Session: 10   Window: 4   Time: 2018-08-07 20:52:58.789870\n",
      "ID: 38  Game: numbersStarred   Session: 10   Window: 5   Time: 2018-08-07 20:53:01.140600\n",
      "ID: 38  Game: numbersStarred   Session: 10   Window: 6   Time: 2018-08-07 20:53:02.939490\n",
      "ID: 38  Game: numbersStarred   Session: 10   Window: 7   Time: 2018-08-07 20:53:04.658050\n",
      "ID: 38  Game: numbersStarred   Session: 10   Window: 8   Time: 2018-08-07 20:53:06.083540\n",
      "ID: 38  Game: numbersStarred   Session: 10   Window: 9   Time: 2018-08-07 20:53:18.048410\n",
      "ID: 38  Game: numbersStarred   Session: 10   Window: 10   Time: 2018-08-07 20:53:19.624610\n",
      "ID: 38  Game: numbersStarred   Session: 10   Window: 11   Time: 2018-08-07 20:53:20.725130\n",
      "ID: 38  Game: numbersStarred   Session: 10   Window: 12   Time: 2018-08-07 20:53:22.524440\n",
      "ID: 38  Game: numbersStarred   Session: 10   Window: 13   Time: 2018-08-07 20:53:24.875320\n",
      "ID: 38  Game: numbersStarred   Session: 10   Window: 14   Time: 2018-08-07 20:53:27.124480\n",
      "ID: 38  Game: numbersStarred   Session: 10   Window: 15   Time: 2018-08-07 20:53:29.658450\n",
      "ID: 38  Game: numbersStarred   Session: 10   Window: 16   Time: 2018-08-07 20:53:31.108800\n",
      "ID: 38  Game: numbersStarred   Session: 10   Window: 17   Time: 2018-08-07 20:53:32.375610\n",
      "ID: 38  Game: numbersStarred   Session: 10   Window: 18   Time: 2018-08-07 20:53:33.876470\n",
      "ID: 38  Game: numbersStarred   Session: 10   Window: 19   Time: 2018-08-07 20:53:36.509300\n",
      "ID: 38  Game: numbersStarred   Session: 10   Window: 20   Time: 2018-08-07 20:53:38.193080\n",
      "ID: 38  Game: numbersStarred   Session: 10   Window: 21   Time: 2018-08-07 20:53:40.142950\n",
      "ID: 38  Game: numbersStarred   Session: 10   Window: 22   Time: 2018-08-07 20:53:41.742450\n",
      "ID: 38  Game: numbersStarred   Session: 10   Window: 23   Time: 2018-08-07 20:53:45.293840\n",
      "ID: 38  Game: numbersStarred   Session: 10   Window: 24   Time: 2018-08-07 20:53:47.979380\n",
      "ID: 38  Game: numbersStarred   Session: 10   Window: 25   Time: 2018-08-07 20:53:50.327720\n",
      "ID: 38  Game: numbersStarred   Session: 10   Window: 26   Time: 2018-08-07 20:53:51.663420\n",
      "ID: 38  Game: numbersStarred   Session: 10   Window: 27   Time: 2018-08-07 20:53:54.010540\n",
      "ID: 38  Game: numbersStarred   Session: 10   Window: 28   Time: 2018-08-07 20:53:55.909890\n",
      "ID: 38  Game: numbersStarred   Session: 10   Window: 29   Time: 2018-08-07 20:53:58.061820\n",
      "ID: 38  Game: numbersStarred   Session: 10   Window: 30   Time: 2018-08-07 20:54:00.313960\n",
      "ID: 38  Game: numbersStarred   Session: 10   Window: 31   Time: 2018-08-07 20:54:03.312050\n",
      "ID: 38  Game: numbersStarred   Session: 10   Window: 32   Time: 2018-08-07 20:54:05.379600\n",
      "ID: 38  Game: numbersStarred   Session: 10   Window: 33   Time: 2018-08-07 20:54:07.761690\n",
      "ID: 38  Game: numbersStarred   Session: 10   Window: 34   Time: 2018-08-07 20:54:09.461710\n",
      "ID: 38  Game: numbersStarred   Session: 10   Window: 35   Time: 2018-08-07 20:54:11.411820\n",
      "ID: 38  Game: numbersStarred   Session: 10   Window: 36   Time: 2018-08-07 20:54:12.895800\n",
      "ID: 38  Game: numbersStarred   Session: 10   Window: 37   Time: 2018-08-07 20:54:14.462700\n",
      "ID: 38  Game: numbersStarred   Session: 10   Window: 38   Time: 2018-08-07 20:54:16.713190\n",
      "ID: 38  Game: numbersStarred   Session: 10   Window: 39   Time: 2018-08-07 20:54:18.230200\n",
      "ID: 38  Game: numbersStarred   Session: 10   Window: 40   Time: 2018-08-07 20:54:20.463630\n"
     ]
    },
    {
     "name": "stderr",
     "output_type": "stream",
     "text": [
      "//anaconda/lib/python3.6/site-packages/numpy/core/fromnumeric.py:3118: RuntimeWarning: Mean of empty slice.\n",
      "  out=out, **kwargs)\n",
      "//anaconda/lib/python3.6/site-packages/numpy/core/_methods.py:85: RuntimeWarning: invalid value encountered in double_scalars\n",
      "  ret = ret.dtype.type(ret / rcount)\n"
     ]
    },
    {
     "name": "stdout",
     "output_type": "stream",
     "text": [
      "ID: 38  Game: numbersStarred   Session: 11   Window: 0   Time: 2018-08-08 07:49:42.920740\n",
      "ID: 38  Game: numbersStarred   Session: 11   Window: 1   Time: 2018-08-08 07:49:45.231300\n",
      "ID: 38  Game: numbersStarred   Session: 11   Window: 2   Time: 2018-08-08 07:49:46.880550\n",
      "ID: 38  Game: numbersStarred   Session: 11   Window: 3   Time: 2018-08-08 07:49:48.849700\n",
      "ID: 38  Game: numbersStarred   Session: 11   Window: 4   Time: 2018-08-08 07:49:50.780830\n",
      "ID: 38  Game: numbersStarred   Session: 11   Window: 5   Time: 2018-08-08 07:49:52.182390\n",
      "ID: 38  Game: numbersStarred   Session: 11   Window: 6   Time: 2018-08-08 07:49:53.414470\n",
      "ID: 38  Game: numbersStarred   Session: 11   Window: 7   Time: 2018-08-08 07:49:54.632120\n",
      "ID: 38  Game: numbersStarred   Session: 11   Window: 8   Time: 2018-08-08 07:49:56.681880\n",
      "ID: 38  Game: numbersStarred   Session: 11   Window: 9   Time: 2018-08-08 07:49:58.148940\n",
      "ID: 38  Game: numbersStarred   Session: 11   Window: 10   Time: 2018-08-08 07:49:59.966440\n",
      "ID: 38  Game: numbersStarred   Session: 11   Window: 11   Time: 2018-08-08 07:50:01.148560\n",
      "ID: 38  Game: numbersStarred   Session: 11   Window: 12   Time: 2018-08-08 07:50:02.664980\n",
      "ID: 38  Game: numbersStarred   Session: 11   Window: 13   Time: 2018-08-08 07:50:03.866320\n",
      "ID: 38  Game: numbersStarred   Session: 11   Window: 14   Time: 2018-08-08 07:50:06.499520\n",
      "ID: 38  Game: numbersStarred   Session: 11   Window: 15   Time: 2018-08-08 07:50:08.134820\n",
      "ID: 38  Game: numbersStarred   Session: 11   Window: 16   Time: 2018-08-08 07:50:10.318100\n",
      "ID: 38  Game: numbersStarred   Session: 11   Window: 17   Time: 2018-08-08 07:50:11.699810\n",
      "ID: 38  Game: numbersStarred   Session: 11   Window: 18   Time: 2018-08-08 07:50:13.717000\n",
      "ID: 38  Game: numbersStarred   Session: 11   Window: 19   Time: 2018-08-08 07:50:15.533620\n",
      "ID: 38  Game: numbersStarred   Session: 11   Window: 20   Time: 2018-08-08 07:50:17.369160\n",
      "ID: 38  Game: numbersStarred   Session: 11   Window: 21   Time: 2018-08-08 07:50:18.732630\n",
      "ID: 38  Game: numbersStarred   Session: 11   Window: 22   Time: 2018-08-08 07:50:20.935420\n",
      "ID: 38  Game: numbersStarred   Session: 11   Window: 23   Time: 2018-08-08 07:50:22.934040\n",
      "ID: 38  Game: numbersStarred   Session: 11   Window: 24   Time: 2018-08-08 07:50:25.219800\n",
      "ID: 38  Game: numbersStarred   Session: 11   Window: 25   Time: 2018-08-08 07:50:26.917000\n",
      "ID: 38  Game: numbersStarred   Session: 11   Window: 26   Time: 2018-08-08 07:50:29.052590\n",
      "ID: 38  Game: numbersStarred   Session: 11   Window: 27   Time: 2018-08-08 07:50:30.819040\n",
      "ID: 38  Game: numbersStarred   Session: 11   Window: 28   Time: 2018-08-08 07:50:32.736110\n",
      "ID: 38  Game: numbersStarred   Session: 11   Window: 29   Time: 2018-08-08 07:50:35.217240\n",
      "ID: 38  Game: numbersStarred   Session: 11   Window: 30   Time: 2018-08-08 07:50:36.502450\n",
      "ID: 38  Game: numbersStarred   Session: 11   Window: 31   Time: 2018-08-08 07:50:39.368600\n"
     ]
    },
    {
     "name": "stderr",
     "output_type": "stream",
     "text": [
      "//anaconda/lib/python3.6/site-packages/numpy/core/fromnumeric.py:3118: RuntimeWarning: Mean of empty slice.\n",
      "  out=out, **kwargs)\n",
      "//anaconda/lib/python3.6/site-packages/numpy/core/_methods.py:85: RuntimeWarning: invalid value encountered in double_scalars\n",
      "  ret = ret.dtype.type(ret / rcount)\n"
     ]
    },
    {
     "name": "stdout",
     "output_type": "stream",
     "text": [
      "ID: 38  Game: numbersStarred   Session: 12   Window: 0   Time: 2018-08-08 21:21:16.180270\n",
      "ID: 38  Game: numbersStarred   Session: 12   Window: 1   Time: 2018-08-08 21:21:17.676690\n",
      "ID: 38  Game: numbersStarred   Session: 12   Window: 2   Time: 2018-08-08 21:21:18.843490\n",
      "ID: 38  Game: numbersStarred   Session: 12   Window: 3   Time: 2018-08-08 21:21:20.776760\n",
      "ID: 38  Game: numbersStarred   Session: 12   Window: 4   Time: 2018-08-08 21:21:22.643200\n",
      "ID: 38  Game: numbersStarred   Session: 12   Window: 5   Time: 2018-08-08 21:21:24.899400\n",
      "ID: 38  Game: numbersStarred   Session: 12   Window: 6   Time: 2018-08-08 21:21:26.943920\n",
      "ID: 38  Game: numbersStarred   Session: 12   Window: 7   Time: 2018-08-08 21:21:29.695020\n",
      "ID: 38  Game: numbersStarred   Session: 12   Window: 8   Time: 2018-08-08 21:21:31.660640\n",
      "ID: 38  Game: numbersStarred   Session: 12   Window: 9   Time: 2018-08-08 21:21:33.660840\n",
      "ID: 38  Game: numbersStarred   Session: 12   Window: 10   Time: 2018-08-08 21:21:35.562160\n",
      "ID: 38  Game: numbersStarred   Session: 12   Window: 11   Time: 2018-08-08 21:21:38.061260\n",
      "ID: 38  Game: numbersStarred   Session: 12   Window: 12   Time: 2018-08-08 21:21:39.460810\n",
      "ID: 38  Game: numbersStarred   Session: 12   Window: 13   Time: 2018-08-08 21:21:44.345250\n",
      "ID: 38  Game: numbersStarred   Session: 12   Window: 14   Time: 2018-08-08 21:21:46.644640\n",
      "ID: 38  Game: numbersStarred   Session: 12   Window: 15   Time: 2018-08-08 21:21:49.046310\n",
      "ID: 38  Game: numbersStarred   Session: 12   Window: 16   Time: 2018-08-08 21:21:50.546400\n",
      "ID: 38  Game: numbersStarred   Session: 12   Window: 17   Time: 2018-08-08 21:21:53.396620\n",
      "ID: 38  Game: numbersStarred   Session: 12   Window: 18   Time: 2018-08-08 21:21:55.529600\n",
      "ID: 38  Game: numbersStarred   Session: 12   Window: 19   Time: 2018-08-08 21:21:57.498570\n",
      "ID: 38  Game: numbersStarred   Session: 12   Window: 20   Time: 2018-08-08 21:21:59.063340\n",
      "ID: 38  Game: numbersStarred   Session: 12   Window: 21   Time: 2018-08-08 21:22:00.966010\n",
      "ID: 38  Game: numbersStarred   Session: 12   Window: 22   Time: 2018-08-08 21:22:02.596170\n",
      "ID: 38  Game: numbersStarred   Session: 12   Window: 23   Time: 2018-08-08 21:22:04.482330\n",
      "ID: 38  Game: numbersStarred   Session: 12   Window: 24   Time: 2018-08-08 21:22:11.348800\n",
      "ID: 38  Game: numbersStarred   Session: 12   Window: 25   Time: 2018-08-08 21:22:13.480540\n",
      "ID: 38  Game: numbersStarred   Session: 12   Window: 26   Time: 2018-08-08 21:22:14.831410\n",
      "ID: 38  Game: numbersStarred   Session: 12   Window: 27   Time: 2018-08-08 21:22:16.431830\n",
      "ID: 38  Game: numbersStarred   Session: 12   Window: 28   Time: 2018-08-08 21:22:18.763790\n",
      "ID: 38  Game: numbersStarred   Session: 12   Window: 29   Time: 2018-08-08 21:22:20.330250\n",
      "ID: 38  Game: numbersStarred   Session: 12   Window: 30   Time: 2018-08-08 21:22:22.032620\n",
      "ID: 38  Game: numbersStarred   Session: 12   Window: 31   Time: 2018-08-08 21:22:23.799190\n",
      "ID: 38  Game: numbersStarred   Session: 12   Window: 32   Time: 2018-08-08 21:22:25.230880\n",
      "ID: 38  Game: numbersStarred   Session: 12   Window: 33   Time: 2018-08-08 21:22:27.199400\n",
      "ID: 38  Game: numbersStarred   Session: 12   Window: 34   Time: 2018-08-08 21:22:29.350170\n",
      "ID: 38  Game: numbersStarred   Session: 12   Window: 35   Time: 2018-08-08 21:22:31.314630\n",
      "ID: 38  Game: numbersStarred   Session: 12   Window: 36   Time: 2018-08-08 21:22:33.014800\n",
      "ID: 38  Game: numbersStarred   Session: 12   Window: 37   Time: 2018-08-08 21:22:34.382920\n",
      "ID: 38  Game: numbersStarred   Session: 12   Window: 38   Time: 2018-08-08 21:22:35.633220\n",
      "ID: 38  Game: numbersStarred   Session: 12   Window: 39   Time: 2018-08-08 21:22:37.732260\n",
      "ID: 38  Game: numbersStarred   Session: 12   Window: 40   Time: 2018-08-08 21:22:39.732460\n",
      "ID: 38  Game: numbersStarred   Session: 12   Window: 41   Time: 2018-08-08 21:22:40.982620\n",
      "ID: 38  Game: numbersStarred   Session: 12   Window: 42   Time: 2018-08-08 21:22:42.816020\n",
      "ID: 38  Game: numbersStarred   Session: 12   Window: 43   Time: 2018-08-08 21:22:44.699850\n",
      "ID: 38  Game: numbersStarred   Session: 12   Window: 44   Time: 2018-08-08 21:22:46.317150\n",
      "ID: 38  Game: numbersStarred   Session: 12   Window: 45   Time: 2018-08-08 21:22:47.983050\n",
      "ID: 38  Game: numbersStarred   Session: 12   Window: 46   Time: 2018-08-08 21:22:50.234260\n",
      "ID: 38  Game: numbersStarred   Session: 12   Window: 47   Time: 2018-08-08 21:22:52.033110\n",
      "ID: 38  Game: numbersStarred   Session: 12   Window: 48   Time: 2018-08-08 21:22:53.837770\n",
      "ID: 38  Game: numbersStarred   Session: 12   Window: 49   Time: 2018-08-08 21:22:55.966270\n",
      "ID: 38  Game: numbersStarred   Session: 12   Window: 50   Time: 2018-08-08 21:22:57.469080\n",
      "ID: 38  Game: numbersStarred   Session: 12   Window: 51   Time: 2018-08-08 21:23:00.435240\n",
      "ID: 38  Game: numbersStarred   Session: 12   Window: 52   Time: 2018-08-08 21:23:02.551860\n",
      "ID: 38  Game: numbersStarred   Session: 12   Window: 53   Time: 2018-08-08 21:23:06.087020\n",
      "ID: 38  Game: numbersStarred   Session: 12   Window: 54   Time: 2018-08-08 21:23:08.050600\n",
      "ID: 38  Game: numbersStarred   Session: 12   Window: 55   Time: 2018-08-08 21:23:09.970280\n"
     ]
    },
    {
     "name": "stderr",
     "output_type": "stream",
     "text": [
      "//anaconda/lib/python3.6/site-packages/numpy/core/fromnumeric.py:3118: RuntimeWarning: Mean of empty slice.\n",
      "  out=out, **kwargs)\n",
      "//anaconda/lib/python3.6/site-packages/numpy/core/_methods.py:85: RuntimeWarning: invalid value encountered in double_scalars\n",
      "  ret = ret.dtype.type(ret / rcount)\n"
     ]
    },
    {
     "name": "stdout",
     "output_type": "stream",
     "text": [
      "ID: 38  Game: numbersStarred   Session: 13   Window: 0   Time: 2018-08-09 12:45:55.841180\n",
      "ID: 38  Game: numbersStarred   Session: 13   Window: 1   Time: 2018-08-09 12:45:57.862900\n",
      "ID: 38  Game: numbersStarred   Session: 13   Window: 2   Time: 2018-08-09 12:46:00.063660\n",
      "ID: 38  Game: numbersStarred   Session: 13   Window: 3   Time: 2018-08-09 12:46:01.680950\n",
      "ID: 38  Game: numbersStarred   Session: 13   Window: 4   Time: 2018-08-09 12:46:03.796270\n",
      "ID: 38  Game: numbersStarred   Session: 13   Window: 5   Time: 2018-08-09 12:46:06.313860\n",
      "ID: 38  Game: numbersStarred   Session: 13   Window: 6   Time: 2018-08-09 12:46:08.680990\n",
      "ID: 38  Game: numbersStarred   Session: 13   Window: 7   Time: 2018-08-09 12:46:10.746750\n",
      "ID: 38  Game: numbersStarred   Session: 13   Window: 8   Time: 2018-08-09 12:46:12.414490\n",
      "ID: 38  Game: numbersStarred   Session: 13   Window: 9   Time: 2018-08-09 12:46:14.213870\n",
      "ID: 38  Game: numbersStarred   Session: 13   Window: 10   Time: 2018-08-09 12:46:15.964460\n",
      "ID: 38  Game: numbersStarred   Session: 13   Window: 11   Time: 2018-08-09 12:46:18.270030\n",
      "ID: 38  Game: numbersStarred   Session: 13   Window: 12   Time: 2018-08-09 12:46:20.297720\n",
      "ID: 38  Game: numbersStarred   Session: 13   Window: 13   Time: 2018-08-09 12:46:21.932380\n",
      "ID: 38  Game: numbersStarred   Session: 13   Window: 14   Time: 2018-08-09 12:46:23.297620\n",
      "ID: 38  Game: numbersStarred   Session: 13   Window: 15   Time: 2018-08-09 12:46:25.266660\n",
      "ID: 38  Game: numbersStarred   Session: 13   Window: 16   Time: 2018-08-09 12:46:27.132150\n",
      "ID: 38  Game: numbersStarred   Session: 13   Window: 17   Time: 2018-08-09 12:46:30.432280\n",
      "ID: 38  Game: numbersStarred   Session: 13   Window: 18   Time: 2018-08-09 12:46:32.118160\n",
      "ID: 38  Game: numbersStarred   Session: 13   Window: 19   Time: 2018-08-09 12:46:33.482990\n",
      "ID: 38  Game: numbersStarred   Session: 13   Window: 20   Time: 2018-08-09 12:46:35.264940\n",
      "ID: 38  Game: numbersStarred   Session: 13   Window: 21   Time: 2018-08-09 12:46:37.019040\n",
      "ID: 38  Game: numbersStarred   Session: 13   Window: 22   Time: 2018-08-09 12:46:38.699240\n",
      "ID: 38  Game: numbersStarred   Session: 13   Window: 23   Time: 2018-08-09 12:46:39.865970\n",
      "ID: 38  Game: numbersStarred   Session: 13   Window: 24   Time: 2018-08-09 12:46:41.900380\n",
      "ID: 38  Game: numbersStarred   Session: 13   Window: 25   Time: 2018-08-09 12:46:43.501250\n",
      "ID: 38  Game: numbersStarred   Session: 13   Window: 26   Time: 2018-08-09 12:46:51.604290\n",
      "ID: 38  Game: numbersStarred   Session: 13   Window: 27   Time: 2018-08-09 12:46:55.016780\n",
      "ID: 38  Game: numbersStarred   Session: 13   Window: 28   Time: 2018-08-09 12:46:56.183900\n",
      "ID: 38  Game: numbersStarred   Session: 13   Window: 29   Time: 2018-08-09 12:46:58.083700\n",
      "ID: 38  Game: numbersStarred   Session: 13   Window: 30   Time: 2018-08-09 12:46:59.735200\n",
      "ID: 38  Game: numbersStarred   Session: 13   Window: 31   Time: 2018-08-09 12:47:01.216910\n",
      "ID: 38  Game: numbersStarred   Session: 13   Window: 32   Time: 2018-08-09 12:47:02.568070\n",
      "ID: 38  Game: numbersStarred   Session: 13   Window: 33   Time: 2018-08-09 12:47:04.300020\n",
      "ID: 38  Game: numbersStarred   Session: 13   Window: 34   Time: 2018-08-09 12:47:05.868430\n",
      "ID: 38  Game: numbersStarred   Session: 13   Window: 35   Time: 2018-08-09 12:47:08.484520\n",
      "ID: 38  Game: numbersStarred   Session: 13   Window: 36   Time: 2018-08-09 12:47:10.102450\n",
      "ID: 38  Game: numbersStarred   Session: 13   Window: 37   Time: 2018-08-09 12:47:11.550500\n",
      "ID: 38  Game: numbersStarred   Session: 13   Window: 38   Time: 2018-08-09 12:47:13.119160\n",
      "ID: 38  Game: numbersStarred   Session: 13   Window: 39   Time: 2018-08-09 12:47:15.185420\n",
      "ID: 38  Game: numbersStarred   Session: 13   Window: 40   Time: 2018-08-09 12:47:16.919450\n",
      "ID: 38  Game: numbersStarred   Session: 13   Window: 41   Time: 2018-08-09 12:47:18.935200\n",
      "ID: 38  Game: numbersStarred   Session: 13   Window: 42   Time: 2018-08-09 12:47:20.336500\n",
      "ID: 38  Game: numbersStarred   Session: 13   Window: 43   Time: 2018-08-09 12:47:22.434600\n",
      "ID: 38  Game: numbersStarred   Session: 13   Window: 44   Time: 2018-08-09 12:47:24.653310\n",
      "ID: 38  Game: numbersStarred   Session: 13   Window: 45   Time: 2018-08-09 12:47:26.337320\n",
      "ID: 38  Game: numbersStarred   Session: 13   Window: 46   Time: 2018-08-09 12:47:28.319150\n",
      "ID: 38  Game: numbersStarred   Session: 13   Window: 47   Time: 2018-08-09 12:47:29.735250\n"
     ]
    },
    {
     "name": "stderr",
     "output_type": "stream",
     "text": [
      "//anaconda/lib/python3.6/site-packages/numpy/core/fromnumeric.py:3118: RuntimeWarning: Mean of empty slice.\n",
      "  out=out, **kwargs)\n",
      "//anaconda/lib/python3.6/site-packages/numpy/core/_methods.py:85: RuntimeWarning: invalid value encountered in double_scalars\n",
      "  ret = ret.dtype.type(ret / rcount)\n"
     ]
    },
    {
     "name": "stdout",
     "output_type": "stream",
     "text": [
      "ID: 38  Game: numbersStarred   Session: 14   Window: 0   Time: 2018-08-09 20:50:48.075440\n",
      "ID: 38  Game: numbersStarred   Session: 14   Window: 1   Time: 2018-08-09 20:50:50.654950\n",
      "ID: 38  Game: numbersStarred   Session: 14   Window: 2   Time: 2018-08-09 20:50:52.158270\n",
      "ID: 38  Game: numbersStarred   Session: 14   Window: 3   Time: 2018-08-09 20:50:54.371150\n",
      "ID: 38  Game: numbersStarred   Session: 14   Window: 4   Time: 2018-08-09 20:50:56.205070\n",
      "ID: 38  Game: numbersStarred   Session: 14   Window: 5   Time: 2018-08-09 20:50:57.788520\n",
      "ID: 38  Game: numbersStarred   Session: 14   Window: 6   Time: 2018-08-09 20:50:59.771590\n",
      "ID: 38  Game: numbersStarred   Session: 14   Window: 7   Time: 2018-08-09 20:51:02.273080\n",
      "ID: 38  Game: numbersStarred   Session: 14   Window: 8   Time: 2018-08-09 20:51:03.956740\n",
      "ID: 38  Game: numbersStarred   Session: 14   Window: 9   Time: 2018-08-09 20:51:06.671930\n",
      "ID: 38  Game: numbersStarred   Session: 14   Window: 10   Time: 2018-08-09 20:51:08.439190\n",
      "ID: 38  Game: numbersStarred   Session: 14   Window: 11   Time: 2018-08-09 20:51:10.423220\n",
      "ID: 38  Game: numbersStarred   Session: 14   Window: 12   Time: 2018-08-09 20:51:12.340610\n",
      "ID: 38  Game: numbersStarred   Session: 14   Window: 13   Time: 2018-08-09 20:51:14.338920\n",
      "ID: 38  Game: numbersStarred   Session: 14   Window: 14   Time: 2018-08-09 20:51:16.257130\n",
      "ID: 38  Game: numbersStarred   Session: 14   Window: 15   Time: 2018-08-09 20:51:18.439920\n",
      "ID: 38  Game: numbersStarred   Session: 14   Window: 16   Time: 2018-08-09 20:51:20.774970\n",
      "ID: 38  Game: numbersStarred   Session: 14   Window: 17   Time: 2018-08-09 20:51:24.007570\n",
      "ID: 38  Game: numbersStarred   Session: 14   Window: 18   Time: 2018-08-09 20:51:25.756900\n",
      "ID: 38  Game: numbersStarred   Session: 14   Window: 19   Time: 2018-08-09 20:51:29.374700\n",
      "ID: 38  Game: numbersStarred   Session: 14   Window: 20   Time: 2018-08-09 20:51:30.840660\n",
      "ID: 38  Game: numbersStarred   Session: 14   Window: 21   Time: 2018-08-09 20:51:32.424800\n",
      "ID: 38  Game: numbersStarred   Session: 14   Window: 22   Time: 2018-08-09 20:51:33.976050\n",
      "ID: 38  Game: numbersStarred   Session: 14   Window: 23   Time: 2018-08-09 20:51:36.026050\n",
      "ID: 38  Game: numbersStarred   Session: 14   Window: 24   Time: 2018-08-09 20:51:38.274870\n",
      "ID: 38  Game: numbersStarred   Session: 14   Window: 25   Time: 2018-08-09 20:51:40.658900\n",
      "ID: 38  Game: numbersStarred   Session: 14   Window: 26   Time: 2018-08-09 20:51:42.660490\n",
      "ID: 38  Game: numbersStarred   Session: 14   Window: 27   Time: 2018-08-09 20:51:49.364380\n",
      "ID: 38  Game: numbersStarred   Session: 14   Window: 28   Time: 2018-08-09 20:51:51.375430\n",
      "ID: 38  Game: numbersStarred   Session: 14   Window: 29   Time: 2018-08-09 20:51:52.958740\n",
      "ID: 38  Game: numbersStarred   Session: 14   Window: 30   Time: 2018-08-09 20:51:54.592670\n",
      "ID: 38  Game: numbersStarred   Session: 14   Window: 31   Time: 2018-08-09 20:51:56.692290\n",
      "ID: 38  Game: numbersStarred   Session: 14   Window: 32   Time: 2018-08-09 20:51:58.442070\n",
      "ID: 38  Game: numbersStarred   Session: 14   Window: 33   Time: 2018-08-09 20:52:00.658670\n",
      "ID: 38  Game: numbersStarred   Session: 14   Window: 34   Time: 2018-08-09 20:52:02.393150\n",
      "ID: 38  Game: numbersStarred   Session: 14   Window: 35   Time: 2018-08-09 20:52:05.926960\n",
      "ID: 38  Game: numbersStarred   Session: 14   Window: 36   Time: 2018-08-09 20:52:08.093380\n",
      "ID: 38  Game: numbersStarred   Session: 14   Window: 37   Time: 2018-08-09 20:52:10.043360\n",
      "ID: 38  Game: numbersStarred   Session: 14   Window: 38   Time: 2018-08-09 20:52:11.676880\n",
      "ID: 38  Game: numbersStarred   Session: 14   Window: 39   Time: 2018-08-09 20:52:13.644670\n",
      "ID: 38  Game: numbersStarred   Session: 14   Window: 40   Time: 2018-08-09 20:52:15.643610\n",
      "ID: 38  Game: numbersStarred   Session: 14   Window: 41   Time: 2018-08-09 20:52:18.060130\n",
      "ID: 38  Game: numbersStarred   Session: 14   Window: 42   Time: 2018-08-09 20:52:19.844000\n",
      "ID: 38  Game: numbersStarred   Session: 14   Window: 43   Time: 2018-08-09 20:52:22.277770\n",
      "ID: 38  Game: numbersStarred   Session: 14   Window: 44   Time: 2018-08-09 20:52:23.927820\n",
      "ID: 38  Game: numbersStarred   Session: 14   Window: 45   Time: 2018-08-09 20:52:25.960840\n",
      "ID: 38  Game: numbersStarred   Session: 14   Window: 46   Time: 2018-08-09 20:52:27.476710\n",
      "ID: 38  Game: numbersStarred   Session: 14   Window: 47   Time: 2018-08-09 20:52:29.495650\n",
      "ID: 38  Game: numbersStarred   Session: 14   Window: 48   Time: 2018-08-09 20:52:31.777270\n",
      "ID: 38  Game: numbersStarred   Session: 14   Window: 49   Time: 2018-08-09 20:52:35.161680\n",
      "ID: 38  Game: numbersStarred   Session: 14   Window: 50   Time: 2018-08-09 20:52:36.761860\n",
      "ID: 38  Game: numbersStarred   Session: 14   Window: 51   Time: 2018-08-09 20:52:38.911940\n",
      "ID: 38  Game: numbersStarred   Session: 14   Window: 52   Time: 2018-08-09 20:52:41.196200\n"
     ]
    },
    {
     "name": "stderr",
     "output_type": "stream",
     "text": [
      "//anaconda/lib/python3.6/site-packages/numpy/core/fromnumeric.py:3118: RuntimeWarning: Mean of empty slice.\n",
      "  out=out, **kwargs)\n",
      "//anaconda/lib/python3.6/site-packages/numpy/core/_methods.py:85: RuntimeWarning: invalid value encountered in double_scalars\n",
      "  ret = ret.dtype.type(ret / rcount)\n"
     ]
    },
    {
     "name": "stdout",
     "output_type": "stream",
     "text": [
      "ID: 38  Game: numbersStarred   Session: 15   Window: 0   Time: 2018-08-10 08:18:05.250830\n",
      "ID: 38  Game: numbersStarred   Session: 15   Window: 1   Time: 2018-08-10 08:18:07.010690\n",
      "ID: 38  Game: numbersStarred   Session: 15   Window: 2   Time: 2018-08-10 08:18:08.328490\n",
      "ID: 38  Game: numbersStarred   Session: 15   Window: 3   Time: 2018-08-10 08:18:09.893700\n",
      "ID: 38  Game: numbersStarred   Session: 15   Window: 4   Time: 2018-08-10 08:18:12.194930\n",
      "ID: 38  Game: numbersStarred   Session: 15   Window: 5   Time: 2018-08-10 08:18:13.762100\n",
      "ID: 38  Game: numbersStarred   Session: 15   Window: 6   Time: 2018-08-10 08:18:15.994630\n",
      "ID: 38  Game: numbersStarred   Session: 15   Window: 7   Time: 2018-08-10 08:18:17.329060\n",
      "ID: 38  Game: numbersStarred   Session: 15   Window: 8   Time: 2018-08-10 08:18:19.145510\n",
      "ID: 38  Game: numbersStarred   Session: 15   Window: 9   Time: 2018-08-10 08:18:22.361970\n",
      "ID: 38  Game: numbersStarred   Session: 15   Window: 10   Time: 2018-08-10 08:18:23.813300\n",
      "ID: 38  Game: numbersStarred   Session: 15   Window: 11   Time: 2018-08-10 08:18:25.512250\n",
      "ID: 38  Game: numbersStarred   Session: 15   Window: 12   Time: 2018-08-10 08:18:27.980110\n",
      "ID: 38  Game: numbersStarred   Session: 15   Window: 13   Time: 2018-08-10 08:18:29.712720\n",
      "ID: 38  Game: numbersStarred   Session: 15   Window: 14   Time: 2018-08-10 08:18:32.012590\n",
      "ID: 38  Game: numbersStarred   Session: 15   Window: 15   Time: 2018-08-10 08:18:33.730000\n",
      "ID: 38  Game: numbersStarred   Session: 15   Window: 16   Time: 2018-08-10 08:18:35.895470\n",
      "ID: 38  Game: numbersStarred   Session: 15   Window: 17   Time: 2018-08-10 08:18:37.633890\n",
      "ID: 38  Game: numbersStarred   Session: 15   Window: 18   Time: 2018-08-10 08:18:40.146600\n",
      "ID: 38  Game: numbersStarred   Session: 15   Window: 19   Time: 2018-08-10 08:18:41.963540\n",
      "ID: 38  Game: numbersStarred   Session: 15   Window: 20   Time: 2018-08-10 08:18:43.649980\n",
      "ID: 38  Game: numbersStarred   Session: 15   Window: 21   Time: 2018-08-10 08:18:45.663290\n",
      "ID: 38  Game: numbersStarred   Session: 15   Window: 22   Time: 2018-08-10 08:18:47.433210\n",
      "ID: 38  Game: numbersStarred   Session: 15   Window: 23   Time: 2018-08-10 08:18:49.714700\n",
      "ID: 38  Game: numbersStarred   Session: 15   Window: 24   Time: 2018-08-10 08:18:51.514840\n",
      "ID: 38  Game: numbersStarred   Session: 15   Window: 25   Time: 2018-08-10 08:18:52.980070\n",
      "ID: 38  Game: numbersStarred   Session: 15   Window: 26   Time: 2018-08-10 08:18:56.098320\n",
      "ID: 38  Game: numbersStarred   Session: 15   Window: 27   Time: 2018-08-10 08:18:58.882830\n",
      "ID: 38  Game: numbersStarred   Session: 15   Window: 28   Time: 2018-08-10 08:19:00.667490\n",
      "ID: 38  Game: numbersStarred   Session: 15   Window: 29   Time: 2018-08-10 08:19:03.365150\n",
      "ID: 38  Game: numbersStarred   Session: 15   Window: 30   Time: 2018-08-10 08:19:05.249610\n",
      "ID: 38  Game: numbersStarred   Session: 15   Window: 31   Time: 2018-08-10 08:19:06.948960\n"
     ]
    },
    {
     "name": "stderr",
     "output_type": "stream",
     "text": [
      "//anaconda/lib/python3.6/site-packages/numpy/core/fromnumeric.py:3118: RuntimeWarning: Mean of empty slice.\n",
      "  out=out, **kwargs)\n",
      "//anaconda/lib/python3.6/site-packages/numpy/core/_methods.py:85: RuntimeWarning: invalid value encountered in double_scalars\n",
      "  ret = ret.dtype.type(ret / rcount)\n"
     ]
    },
    {
     "name": "stdout",
     "output_type": "stream",
     "text": [
      "ID: 38  Game: numbersStarred   Session: 18   Window: 0   Time: 2018-08-10 21:43:51.743560\n",
      "ID: 38  Game: numbersStarred   Session: 18   Window: 1   Time: 2018-08-10 21:44:00.692950\n",
      "ID: 38  Game: numbersStarred   Session: 18   Window: 2   Time: 2018-08-10 21:44:06.260190\n",
      "ID: 38  Game: numbersStarred   Session: 18   Window: 3   Time: 2018-08-10 21:44:11.546280\n",
      "ID: 38  Game: numbersStarred   Session: 18   Window: 4   Time: 2018-08-10 21:44:20.197330\n",
      "ID: 38  Game: numbersStarred   Session: 18   Window: 5   Time: 2018-08-10 21:44:22.129000\n",
      "ID: 38  Game: numbersStarred   Session: 18   Window: 6   Time: 2018-08-10 21:44:24.096800\n",
      "ID: 38  Game: numbersStarred   Session: 18   Window: 7   Time: 2018-08-10 21:44:46.247580\n",
      "ID: 38  Game: numbersStarred   Session: 18   Window: 8   Time: 2018-08-10 21:44:48.112490\n"
     ]
    },
    {
     "name": "stderr",
     "output_type": "stream",
     "text": [
      "//anaconda/lib/python3.6/site-packages/numpy/core/fromnumeric.py:3118: RuntimeWarning: Mean of empty slice.\n",
      "  out=out, **kwargs)\n",
      "//anaconda/lib/python3.6/site-packages/numpy/core/_methods.py:85: RuntimeWarning: invalid value encountered in double_scalars\n",
      "  ret = ret.dtype.type(ret / rcount)\n"
     ]
    },
    {
     "name": "stdout",
     "output_type": "stream",
     "text": [
      "ID: 38  Game: numbersStarred   Session: 19   Window: 0   Time: 2019-02-11 09:06:31.576246\n",
      "ID: 38  Game: numbersStarred   Session: 19   Window: 1   Time: 2019-02-11 09:06:34.506265\n",
      "ID: 38  Game: numbersStarred   Session: 19   Window: 2   Time: 2019-02-11 09:06:36.589748\n",
      "ID: 38  Game: numbersStarred   Session: 19   Window: 3   Time: 2019-02-11 09:06:39.790014\n",
      "ID: 38  Game: numbersStarred   Session: 19   Window: 4   Time: 2019-02-11 09:06:43.740298\n",
      "ID: 38  Game: numbersStarred   Session: 19   Window: 5   Time: 2019-02-11 09:06:46.440482\n",
      "ID: 38  Game: numbersStarred   Session: 19   Window: 6   Time: 2019-02-11 09:06:59.563592\n",
      "ID: 38  Game: numbersStarred   Session: 19   Window: 7   Time: 2019-02-11 09:07:01.074828\n",
      "ID: 38  Game: numbersStarred   Session: 19   Window: 8   Time: 2019-02-11 09:07:03.958395\n",
      "ID: 38  Game: numbersStarred   Session: 19   Window: 9   Time: 2019-02-11 09:07:06.108560\n",
      "ID: 38  Game: numbersStarred   Session: 19   Window: 10   Time: 2019-02-11 09:07:07.125335\n",
      "ID: 38  Game: numbersStarred   Session: 19   Window: 11   Time: 2019-02-11 09:07:08.725409\n",
      "ID: 38  Game: numbersStarred   Session: 19   Window: 12   Time: 2019-02-11 09:07:10.625563\n",
      "ID: 38  Game: numbersStarred   Session: 19   Window: 13   Time: 2019-02-11 09:07:14.675837\n",
      "ID: 38  Game: numbersStarred   Session: 19   Window: 14   Time: 2019-02-11 09:07:16.826064\n",
      "ID: 38  Game: numbersStarred   Session: 19   Window: 15   Time: 2019-02-11 09:07:19.042834\n",
      "ID: 38  Game: numbersStarred   Session: 19   Window: 16   Time: 2019-02-11 09:07:20.742939\n",
      "ID: 38  Game: numbersStarred   Session: 19   Window: 17   Time: 2019-02-11 09:07:22.659720\n",
      "ID: 38  Game: numbersStarred   Session: 19   Window: 18   Time: 2019-02-11 09:07:24.159832\n",
      "ID: 38  Game: numbersStarred   Session: 19   Window: 19   Time: 2019-02-11 09:07:26.476706\n",
      "ID: 38  Game: numbersStarred   Session: 19   Window: 20   Time: 2019-02-11 09:07:30.543619\n",
      "ID: 38  Game: numbersStarred   Session: 19   Window: 21   Time: 2019-02-11 09:07:32.460525\n",
      "ID: 38  Game: numbersStarred   Session: 19   Window: 22   Time: 2019-02-11 09:07:34.727250\n",
      "ID: 38  Game: numbersStarred   Session: 19   Window: 23   Time: 2019-02-11 09:07:36.927459\n",
      "ID: 38  Game: numbersStarred   Session: 19   Window: 24   Time: 2019-02-11 09:07:38.762586\n",
      "ID: 38  Game: numbersStarred   Session: 19   Window: 25   Time: 2019-02-11 09:07:40.961132\n",
      "ID: 38  Game: numbersStarred   Session: 19   Window: 26   Time: 2019-02-11 09:07:42.461194\n",
      "ID: 38  Game: numbersStarred   Session: 19   Window: 27   Time: 2019-02-11 09:07:44.011265\n",
      "ID: 38  Game: numbersStarred   Session: 19   Window: 28   Time: 2019-02-11 09:07:46.094752\n",
      "ID: 38  Game: numbersStarred   Session: 19   Window: 29   Time: 2019-02-11 09:07:49.428393\n",
      "ID: 38  Game: numbersStarred   Session: 19   Window: 30   Time: 2019-02-11 09:07:51.361847\n",
      "ID: 38  Game: numbersStarred   Session: 19   Window: 31   Time: 2019-02-11 09:07:52.995240\n",
      "ID: 38  Game: numbersStarred   Session: 19   Window: 32   Time: 2019-02-11 09:07:54.878760\n",
      "ID: 38  Game: numbersStarred   Session: 19   Window: 33   Time: 2019-02-11 09:07:56.728842\n",
      "ID: 38  Game: numbersStarred   Session: 19   Window: 34   Time: 2019-02-11 09:07:59.930545\n",
      "ID: 38  Game: numbersStarred   Session: 19   Window: 35   Time: 2019-02-11 09:08:02.479263\n",
      "ID: 38  Game: numbersStarred   Session: 19   Window: 36   Time: 2019-02-11 09:08:04.262767\n",
      "ID: 38  Game: numbersStarred   Session: 19   Window: 37   Time: 2019-02-11 09:08:06.862928\n"
     ]
    },
    {
     "name": "stderr",
     "output_type": "stream",
     "text": [
      "//anaconda/lib/python3.6/site-packages/numpy/core/fromnumeric.py:3118: RuntimeWarning: Mean of empty slice.\n",
      "  out=out, **kwargs)\n",
      "//anaconda/lib/python3.6/site-packages/numpy/core/_methods.py:85: RuntimeWarning: invalid value encountered in double_scalars\n",
      "  ret = ret.dtype.type(ret / rcount)\n"
     ]
    },
    {
     "name": "stdout",
     "output_type": "stream",
     "text": [
      "ID: 38  Game: numbersStarred   Session: 20   Window: 0   Time: 2019-02-11 13:06:03.171651\n",
      "ID: 38  Game: numbersStarred   Session: 20   Window: 1   Time: 2019-02-11 13:06:04.535899\n",
      "ID: 38  Game: numbersStarred   Session: 20   Window: 2   Time: 2019-02-11 13:06:06.903655\n",
      "ID: 38  Game: numbersStarred   Session: 20   Window: 3   Time: 2019-02-11 13:06:08.369392\n",
      "ID: 38  Game: numbersStarred   Session: 20   Window: 4   Time: 2019-02-11 13:06:10.302979\n",
      "ID: 38  Game: numbersStarred   Session: 20   Window: 5   Time: 2019-02-11 13:06:12.236375\n",
      "ID: 38  Game: numbersStarred   Session: 20   Window: 6   Time: 2019-02-11 13:06:14.503201\n",
      "ID: 38  Game: numbersStarred   Session: 20   Window: 7   Time: 2019-02-11 13:06:16.103331\n",
      "ID: 38  Game: numbersStarred   Session: 20   Window: 8   Time: 2019-02-11 13:06:17.953474\n",
      "ID: 38  Game: numbersStarred   Session: 20   Window: 9   Time: 2019-02-11 13:06:19.603495\n",
      "ID: 38  Game: numbersStarred   Session: 20   Window: 10   Time: 2019-02-11 13:06:21.403630\n",
      "ID: 38  Game: numbersStarred   Session: 20   Window: 11   Time: 2019-02-11 13:06:23.087102\n",
      "ID: 38  Game: numbersStarred   Session: 20   Window: 12   Time: 2019-02-11 13:06:26.220633\n",
      "ID: 38  Game: numbersStarred   Session: 20   Window: 13   Time: 2019-02-11 13:06:27.887392\n",
      "ID: 38  Game: numbersStarred   Session: 20   Window: 14   Time: 2019-02-11 13:06:29.137485\n",
      "ID: 38  Game: numbersStarred   Session: 20   Window: 15   Time: 2019-02-11 13:06:38.577968\n",
      "ID: 38  Game: numbersStarred   Session: 20   Window: 16   Time: 2019-02-11 13:06:40.038313\n",
      "ID: 38  Game: numbersStarred   Session: 20   Window: 17   Time: 2019-02-11 13:06:41.605029\n",
      "ID: 38  Game: numbersStarred   Session: 20   Window: 18   Time: 2019-02-11 13:06:42.971802\n",
      "ID: 38  Game: numbersStarred   Session: 20   Window: 19   Time: 2019-02-11 13:06:44.405212\n",
      "ID: 38  Game: numbersStarred   Session: 20   Window: 20   Time: 2019-02-11 13:06:46.422032\n",
      "ID: 38  Game: numbersStarred   Session: 20   Window: 21   Time: 2019-02-11 13:06:48.122208\n",
      "ID: 38  Game: numbersStarred   Session: 20   Window: 22   Time: 2019-02-11 13:06:49.905619\n",
      "ID: 38  Game: numbersStarred   Session: 20   Window: 23   Time: 2019-02-11 13:06:51.922394\n",
      "ID: 38  Game: numbersStarred   Session: 20   Window: 24   Time: 2019-02-11 13:06:53.655860\n",
      "ID: 38  Game: numbersStarred   Session: 20   Window: 25   Time: 2019-02-11 13:06:55.206014\n",
      "ID: 38  Game: numbersStarred   Session: 20   Window: 26   Time: 2019-02-11 13:06:56.972766\n",
      "ID: 38  Game: numbersStarred   Session: 20   Window: 27   Time: 2019-02-11 13:06:58.672948\n",
      "ID: 38  Game: numbersStarred   Session: 20   Window: 28   Time: 2019-02-11 13:07:00.573228\n",
      "ID: 38  Game: numbersStarred   Session: 20   Window: 29   Time: 2019-02-11 13:07:02.256511\n",
      "ID: 38  Game: numbersStarred   Session: 20   Window: 30   Time: 2019-02-11 13:07:03.839990\n",
      "ID: 38  Game: numbersStarred   Session: 20   Window: 31   Time: 2019-02-11 13:07:05.456711\n",
      "ID: 38  Game: numbersStarred   Session: 20   Window: 32   Time: 2019-02-11 13:07:07.823539\n",
      "ID: 38  Game: numbersStarred   Session: 20   Window: 33   Time: 2019-02-11 13:07:09.740330\n",
      "ID: 38  Game: numbersStarred   Session: 20   Window: 34   Time: 2019-02-11 13:07:11.207080\n",
      "ID: 38  Game: numbersStarred   Session: 20   Window: 35   Time: 2019-02-11 13:07:13.157246\n",
      "ID: 38  Game: numbersStarred   Session: 20   Window: 36   Time: 2019-02-11 13:07:14.924048\n",
      "ID: 38  Game: numbersStarred   Session: 20   Window: 37   Time: 2019-02-11 13:07:16.324195\n",
      "ID: 38  Game: numbersStarred   Session: 20   Window: 38   Time: 2019-02-11 13:07:19.541009\n",
      "ID: 38  Game: numbersStarred   Session: 20   Window: 39   Time: 2019-02-11 13:07:22.057876\n",
      "ID: 38  Game: numbersStarred   Session: 20   Window: 40   Time: 2019-02-11 13:07:24.691430\n",
      "ID: 38  Game: numbersStarred   Session: 20   Window: 41   Time: 2019-02-11 13:07:27.124923\n",
      "ID: 38  Game: numbersStarred   Session: 20   Window: 42   Time: 2019-02-11 13:07:29.225002\n",
      "ID: 38  Game: numbersStarred   Session: 20   Window: 43   Time: 2019-02-11 13:07:31.091859\n",
      "ID: 38  Game: numbersStarred   Session: 20   Window: 44   Time: 2019-02-11 13:07:32.458619\n",
      "ID: 38  Game: numbersStarred   Session: 20   Window: 45   Time: 2019-02-11 13:07:34.492220\n",
      "ID: 38  Game: numbersStarred   Session: 20   Window: 46   Time: 2019-02-11 13:07:36.575595\n"
     ]
    },
    {
     "name": "stderr",
     "output_type": "stream",
     "text": [
      "//anaconda/lib/python3.6/site-packages/numpy/core/fromnumeric.py:3118: RuntimeWarning: Mean of empty slice.\n",
      "  out=out, **kwargs)\n",
      "//anaconda/lib/python3.6/site-packages/numpy/core/_methods.py:85: RuntimeWarning: invalid value encountered in double_scalars\n",
      "  ret = ret.dtype.type(ret / rcount)\n"
     ]
    },
    {
     "name": "stdout",
     "output_type": "stream",
     "text": [
      "ID: 38  Game: numbersStarred   Session: 21   Window: 0   Time: 2019-02-12 09:11:40.503680\n",
      "ID: 38  Game: numbersStarred   Session: 21   Window: 1   Time: 2019-02-12 09:11:42.115659\n",
      "ID: 38  Game: numbersStarred   Session: 21   Window: 2   Time: 2019-02-12 09:11:43.415765\n",
      "ID: 38  Game: numbersStarred   Session: 21   Window: 3   Time: 2019-02-12 09:11:45.565881\n",
      "ID: 38  Game: numbersStarred   Session: 21   Window: 4   Time: 2019-02-12 09:11:48.099390\n",
      "ID: 38  Game: numbersStarred   Session: 21   Window: 5   Time: 2019-02-12 09:11:49.832921\n",
      "ID: 38  Game: numbersStarred   Session: 21   Window: 6   Time: 2019-02-12 09:11:51.633048\n",
      "ID: 38  Game: numbersStarred   Session: 21   Window: 7   Time: 2019-02-12 09:11:53.183108\n",
      "ID: 38  Game: numbersStarred   Session: 21   Window: 8   Time: 2019-02-12 09:11:55.716672\n",
      "ID: 38  Game: numbersStarred   Session: 21   Window: 9   Time: 2019-02-12 09:11:57.466753\n",
      "ID: 38  Game: numbersStarred   Session: 21   Window: 10   Time: 2019-02-12 09:11:59.633641\n",
      "ID: 38  Game: numbersStarred   Session: 21   Window: 11   Time: 2019-02-12 09:12:01.233670\n",
      "ID: 38  Game: numbersStarred   Session: 21   Window: 12   Time: 2019-02-12 09:12:02.333746\n",
      "ID: 38  Game: numbersStarred   Session: 21   Window: 13   Time: 2019-02-12 09:12:04.067209\n",
      "ID: 38  Game: numbersStarred   Session: 21   Window: 14   Time: 2019-02-12 09:12:05.800680\n",
      "ID: 38  Game: numbersStarred   Session: 21   Window: 15   Time: 2019-02-12 09:12:07.417434\n",
      "ID: 38  Game: numbersStarred   Session: 21   Window: 16   Time: 2019-02-12 09:12:08.750887\n",
      "ID: 38  Game: numbersStarred   Session: 21   Window: 17   Time: 2019-02-12 09:12:10.067749\n",
      "ID: 38  Game: numbersStarred   Session: 21   Window: 18   Time: 2019-02-12 09:12:11.784450\n",
      "ID: 38  Game: numbersStarred   Session: 21   Window: 19   Time: 2019-02-12 09:12:14.151279\n",
      "ID: 38  Game: numbersStarred   Session: 21   Window: 20   Time: 2019-02-12 09:12:15.901400\n",
      "ID: 38  Game: numbersStarred   Session: 21   Window: 21   Time: 2019-02-12 09:12:17.218173\n",
      "ID: 38  Game: numbersStarred   Session: 21   Window: 22   Time: 2019-02-12 09:12:19.201688\n",
      "ID: 38  Game: numbersStarred   Session: 21   Window: 23   Time: 2019-02-12 09:12:20.901875\n",
      "ID: 38  Game: numbersStarred   Session: 21   Window: 24   Time: 2019-02-12 09:12:23.418618\n",
      "ID: 38  Game: numbersStarred   Session: 21   Window: 25   Time: 2019-02-12 09:12:25.718785\n",
      "ID: 38  Game: numbersStarred   Session: 21   Window: 26   Time: 2019-02-12 09:12:27.368945\n",
      "ID: 38  Game: numbersStarred   Session: 21   Window: 27   Time: 2019-02-12 09:12:29.569182\n",
      "ID: 38  Game: numbersStarred   Session: 21   Window: 28   Time: 2019-02-12 09:12:31.135858\n"
     ]
    },
    {
     "name": "stderr",
     "output_type": "stream",
     "text": [
      "//anaconda/lib/python3.6/site-packages/numpy/core/fromnumeric.py:3118: RuntimeWarning: Mean of empty slice.\n",
      "  out=out, **kwargs)\n",
      "//anaconda/lib/python3.6/site-packages/numpy/core/_methods.py:85: RuntimeWarning: invalid value encountered in double_scalars\n",
      "  ret = ret.dtype.type(ret / rcount)\n"
     ]
    },
    {
     "name": "stdout",
     "output_type": "stream",
     "text": [
      "ID: 38  Game: numbersStarred   Session: 22   Window: 0   Time: 2019-02-12 13:06:47.494517\n",
      "ID: 38  Game: numbersStarred   Session: 22   Window: 1   Time: 2019-02-12 13:06:48.972029\n",
      "ID: 38  Game: numbersStarred   Session: 22   Window: 2   Time: 2019-02-12 13:06:50.438786\n",
      "ID: 38  Game: numbersStarred   Session: 22   Window: 3   Time: 2019-02-12 13:06:51.738774\n",
      "ID: 38  Game: numbersStarred   Session: 22   Window: 4   Time: 2019-02-12 13:06:53.488925\n",
      "ID: 38  Game: numbersStarred   Session: 22   Window: 5   Time: 2019-02-12 13:06:55.805686\n",
      "ID: 38  Game: numbersStarred   Session: 22   Window: 6   Time: 2019-02-12 13:06:58.072456\n",
      "ID: 38  Game: numbersStarred   Session: 22   Window: 7   Time: 2019-02-12 13:07:00.789250\n",
      "ID: 38  Game: numbersStarred   Session: 22   Window: 8   Time: 2019-02-12 13:07:02.439361\n",
      "ID: 38  Game: numbersStarred   Session: 22   Window: 9   Time: 2019-02-12 13:07:05.289477\n",
      "ID: 38  Game: numbersStarred   Session: 22   Window: 10   Time: 2019-02-12 13:07:07.272944\n",
      "ID: 38  Game: numbersStarred   Session: 22   Window: 11   Time: 2019-02-12 13:07:08.456350\n",
      "ID: 38  Game: numbersStarred   Session: 22   Window: 12   Time: 2019-02-12 13:07:10.506447\n",
      "ID: 38  Game: numbersStarred   Session: 22   Window: 13   Time: 2019-02-12 13:07:12.273219\n",
      "ID: 38  Game: numbersStarred   Session: 22   Window: 14   Time: 2019-02-12 13:07:13.773387\n",
      "ID: 38  Game: numbersStarred   Session: 22   Window: 15   Time: 2019-02-12 13:07:15.656781\n",
      "ID: 38  Game: numbersStarred   Session: 22   Window: 16   Time: 2019-02-12 13:07:17.123537\n",
      "ID: 38  Game: numbersStarred   Session: 22   Window: 17   Time: 2019-02-12 13:07:18.940344\n",
      "ID: 38  Game: numbersStarred   Session: 22   Window: 18   Time: 2019-02-12 13:07:20.990469\n",
      "ID: 38  Game: numbersStarred   Session: 22   Window: 19   Time: 2019-02-12 13:07:23.340571\n",
      "ID: 38  Game: numbersStarred   Session: 22   Window: 20   Time: 2019-02-12 13:07:26.057402\n",
      "ID: 38  Game: numbersStarred   Session: 22   Window: 21   Time: 2019-02-12 13:07:27.857570\n",
      "ID: 38  Game: numbersStarred   Session: 22   Window: 22   Time: 2019-02-12 13:07:29.207662\n",
      "ID: 38  Game: numbersStarred   Session: 22   Window: 23   Time: 2019-02-12 13:07:30.441006\n",
      "ID: 38  Game: numbersStarred   Session: 22   Window: 24   Time: 2019-02-12 13:07:32.591212\n",
      "ID: 38  Game: numbersStarred   Session: 22   Window: 25   Time: 2019-02-12 13:07:34.224631\n",
      "ID: 38  Game: numbersStarred   Session: 22   Window: 26   Time: 2019-02-12 13:07:36.641435\n",
      "ID: 38  Game: numbersStarred   Session: 22   Window: 27   Time: 2019-02-12 13:07:37.924925\n",
      "ID: 38  Game: numbersStarred   Session: 22   Window: 28   Time: 2019-02-12 13:07:39.858314\n",
      "ID: 38  Game: numbersStarred   Session: 22   Window: 29   Time: 2019-02-12 13:07:42.058510\n",
      "ID: 38  Game: numbersStarred   Session: 22   Window: 30   Time: 2019-02-12 13:07:44.125294\n",
      "ID: 38  Game: numbersStarred   Session: 22   Window: 31   Time: 2019-02-12 13:07:45.508725\n"
     ]
    },
    {
     "name": "stderr",
     "output_type": "stream",
     "text": [
      "//anaconda/lib/python3.6/site-packages/numpy/core/fromnumeric.py:3118: RuntimeWarning: Mean of empty slice.\n",
      "  out=out, **kwargs)\n",
      "//anaconda/lib/python3.6/site-packages/numpy/core/_methods.py:85: RuntimeWarning: invalid value encountered in double_scalars\n",
      "  ret = ret.dtype.type(ret / rcount)\n"
     ]
    },
    {
     "name": "stdout",
     "output_type": "stream",
     "text": [
      "ID: 38  Game: numbersStarred   Session: 23   Window: 0   Time: 2019-02-12 22:36:15.031583\n",
      "ID: 38  Game: numbersStarred   Session: 23   Window: 1   Time: 2019-02-12 22:36:16.743994\n",
      "ID: 38  Game: numbersStarred   Session: 23   Window: 2   Time: 2019-02-12 22:36:18.744169\n",
      "ID: 38  Game: numbersStarred   Session: 23   Window: 3   Time: 2019-02-12 22:36:21.177758\n",
      "ID: 38  Game: numbersStarred   Session: 23   Window: 4   Time: 2019-02-12 22:36:22.827770\n",
      "ID: 38  Game: numbersStarred   Session: 23   Window: 5   Time: 2019-02-12 22:36:24.327893\n",
      "ID: 38  Game: numbersStarred   Session: 23   Window: 6   Time: 2019-02-12 22:36:25.561303\n",
      "ID: 38  Game: numbersStarred   Session: 23   Window: 7   Time: 2019-02-12 22:36:26.811405\n",
      "ID: 38  Game: numbersStarred   Session: 23   Window: 8   Time: 2019-02-12 22:36:29.178274\n",
      "ID: 38  Game: numbersStarred   Session: 23   Window: 9   Time: 2019-02-12 22:36:30.745138\n",
      "ID: 38  Game: numbersStarred   Session: 23   Window: 10   Time: 2019-02-12 22:36:32.478589\n",
      "ID: 38  Game: numbersStarred   Session: 23   Window: 11   Time: 2019-02-12 22:36:34.011955\n",
      "ID: 38  Game: numbersStarred   Session: 23   Window: 12   Time: 2019-02-12 22:36:35.695441\n",
      "ID: 38  Game: numbersStarred   Session: 23   Window: 13   Time: 2019-02-12 22:36:37.578920\n",
      "ID: 38  Game: numbersStarred   Session: 23   Window: 14   Time: 2019-02-12 22:36:39.595728\n",
      "ID: 38  Game: numbersStarred   Session: 23   Window: 15   Time: 2019-02-12 22:36:41.412593\n",
      "ID: 38  Game: numbersStarred   Session: 23   Window: 16   Time: 2019-02-12 22:36:43.029288\n",
      "ID: 38  Game: numbersStarred   Session: 23   Window: 17   Time: 2019-02-12 22:36:45.029459\n",
      "ID: 38  Game: numbersStarred   Session: 23   Window: 18   Time: 2019-02-12 22:36:47.179604\n",
      "ID: 38  Game: numbersStarred   Session: 23   Window: 19   Time: 2019-02-12 22:36:48.696352\n",
      "ID: 38  Game: numbersStarred   Session: 23   Window: 20   Time: 2019-02-12 22:36:50.629900\n",
      "ID: 38  Game: numbersStarred   Session: 23   Window: 21   Time: 2019-02-12 22:36:51.996618\n",
      "ID: 38  Game: numbersStarred   Session: 23   Window: 22   Time: 2019-02-12 22:36:53.913419\n",
      "ID: 38  Game: numbersStarred   Session: 23   Window: 23   Time: 2019-02-12 22:36:56.413579\n",
      "ID: 38  Game: numbersStarred   Session: 23   Window: 24   Time: 2019-02-12 22:36:58.197150\n",
      "ID: 38  Game: numbersStarred   Session: 23   Window: 25   Time: 2019-02-12 22:37:00.063910\n",
      "ID: 38  Game: numbersStarred   Session: 23   Window: 26   Time: 2019-02-12 22:37:03.047418\n",
      "ID: 38  Game: numbersStarred   Session: 23   Window: 27   Time: 2019-02-12 22:37:05.064272\n",
      "ID: 38  Game: numbersStarred   Session: 23   Window: 28   Time: 2019-02-12 22:37:07.631153\n",
      "ID: 38  Game: numbersStarred   Session: 23   Window: 29   Time: 2019-02-12 22:37:09.531300\n",
      "ID: 38  Game: numbersStarred   Session: 23   Window: 30   Time: 2019-02-12 22:37:11.514740\n",
      "ID: 38  Game: numbersStarred   Session: 23   Window: 31   Time: 2019-02-12 22:37:13.164845\n"
     ]
    },
    {
     "name": "stderr",
     "output_type": "stream",
     "text": [
      "//anaconda/lib/python3.6/site-packages/numpy/core/fromnumeric.py:3118: RuntimeWarning: Mean of empty slice.\n",
      "  out=out, **kwargs)\n",
      "//anaconda/lib/python3.6/site-packages/numpy/core/_methods.py:85: RuntimeWarning: invalid value encountered in double_scalars\n",
      "  ret = ret.dtype.type(ret / rcount)\n"
     ]
    },
    {
     "name": "stdout",
     "output_type": "stream",
     "text": [
      "ID: 38  Game: numbersStarred   Session: 24   Window: 0   Time: 2019-02-13 13:07:37.138743\n",
      "ID: 38  Game: numbersStarred   Session: 24   Window: 1   Time: 2019-02-13 13:07:38.722306\n",
      "ID: 38  Game: numbersStarred   Session: 24   Window: 2   Time: 2019-02-13 13:07:40.055655\n",
      "ID: 38  Game: numbersStarred   Session: 24   Window: 3   Time: 2019-02-13 13:07:42.189114\n",
      "ID: 38  Game: numbersStarred   Session: 24   Window: 4   Time: 2019-02-13 13:07:43.855911\n",
      "ID: 38  Game: numbersStarred   Session: 24   Window: 5   Time: 2019-02-13 13:07:45.872759\n",
      "ID: 38  Game: numbersStarred   Session: 24   Window: 6   Time: 2019-02-13 13:07:47.856254\n",
      "ID: 38  Game: numbersStarred   Session: 24   Window: 7   Time: 2019-02-13 13:07:49.239648\n",
      "ID: 38  Game: numbersStarred   Session: 24   Window: 8   Time: 2019-02-13 13:07:51.223187\n",
      "ID: 38  Game: numbersStarred   Session: 24   Window: 9   Time: 2019-02-13 13:07:53.539971\n",
      "ID: 38  Game: numbersStarred   Session: 24   Window: 10   Time: 2019-02-13 13:07:55.240084\n",
      "ID: 38  Game: numbersStarred   Session: 24   Window: 11   Time: 2019-02-13 13:07:56.956898\n",
      "ID: 38  Game: numbersStarred   Session: 24   Window: 12   Time: 2019-02-13 13:07:58.390325\n",
      "ID: 38  Game: numbersStarred   Session: 24   Window: 13   Time: 2019-02-13 13:08:00.173771\n",
      "ID: 38  Game: numbersStarred   Session: 24   Window: 14   Time: 2019-02-13 13:08:01.957208\n",
      "ID: 38  Game: numbersStarred   Session: 24   Window: 15   Time: 2019-02-13 13:08:04.440769\n",
      "ID: 38  Game: numbersStarred   Session: 24   Window: 16   Time: 2019-02-13 13:08:06.140885\n",
      "ID: 38  Game: numbersStarred   Session: 24   Window: 17   Time: 2019-02-13 13:08:07.791062\n",
      "ID: 38  Game: numbersStarred   Session: 24   Window: 18   Time: 2019-02-13 13:08:10.524728\n",
      "ID: 38  Game: numbersStarred   Session: 24   Window: 19   Time: 2019-02-13 13:08:12.324712\n",
      "ID: 38  Game: numbersStarred   Session: 24   Window: 20   Time: 2019-02-13 13:08:14.241494\n",
      "ID: 38  Game: numbersStarred   Session: 24   Window: 21   Time: 2019-02-13 13:08:16.191720\n",
      "ID: 38  Game: numbersStarred   Session: 24   Window: 22   Time: 2019-02-13 13:08:19.641886\n",
      "ID: 38  Game: numbersStarred   Session: 24   Window: 23   Time: 2019-02-13 13:08:22.025438\n",
      "ID: 38  Game: numbersStarred   Session: 24   Window: 24   Time: 2019-02-13 13:08:23.592167\n",
      "ID: 38  Game: numbersStarred   Session: 24   Window: 25   Time: 2019-02-13 13:08:25.475602\n",
      "ID: 38  Game: numbersStarred   Session: 24   Window: 26   Time: 2019-02-13 13:08:27.109061\n",
      "ID: 38  Game: numbersStarred   Session: 24   Window: 27   Time: 2019-02-13 13:08:29.092532\n",
      "ID: 38  Game: numbersStarred   Session: 24   Window: 28   Time: 2019-02-13 13:08:31.276076\n",
      "ID: 38  Game: numbersStarred   Session: 24   Window: 29   Time: 2019-02-13 13:08:33.342902\n",
      "ID: 38  Game: numbersStarred   Session: 24   Window: 30   Time: 2019-02-13 13:08:35.559836\n",
      "ID: 38  Game: numbersStarred   Session: 24   Window: 31   Time: 2019-02-13 13:08:37.459929\n"
     ]
    },
    {
     "name": "stderr",
     "output_type": "stream",
     "text": [
      "//anaconda/lib/python3.6/site-packages/numpy/core/fromnumeric.py:3118: RuntimeWarning: Mean of empty slice.\n",
      "  out=out, **kwargs)\n",
      "//anaconda/lib/python3.6/site-packages/numpy/core/_methods.py:85: RuntimeWarning: invalid value encountered in double_scalars\n",
      "  ret = ret.dtype.type(ret / rcount)\n"
     ]
    },
    {
     "name": "stdout",
     "output_type": "stream",
     "text": [
      "ID: 38  Game: numbersStarred   Session: 25   Window: 0   Time: 2019-02-13 21:34:02.131384\n",
      "ID: 38  Game: numbersStarred   Session: 25   Window: 1   Time: 2019-02-13 21:34:03.498243\n",
      "ID: 38  Game: numbersStarred   Session: 25   Window: 2   Time: 2019-02-13 21:34:05.014908\n",
      "ID: 38  Game: numbersStarred   Session: 25   Window: 3   Time: 2019-02-13 21:34:06.948363\n",
      "ID: 38  Game: numbersStarred   Session: 25   Window: 4   Time: 2019-02-13 21:34:08.931790\n",
      "ID: 38  Game: numbersStarred   Session: 25   Window: 5   Time: 2019-02-13 21:34:10.515227\n",
      "ID: 38  Game: numbersStarred   Session: 25   Window: 6   Time: 2019-02-13 21:34:11.765352\n",
      "ID: 38  Game: numbersStarred   Session: 25   Window: 7   Time: 2019-02-13 21:34:13.148716\n",
      "ID: 38  Game: numbersStarred   Session: 25   Window: 8   Time: 2019-02-13 21:34:15.515557\n",
      "ID: 38  Game: numbersStarred   Session: 25   Window: 9   Time: 2019-02-13 21:34:17.332367\n",
      "ID: 38  Game: numbersStarred   Session: 25   Window: 10   Time: 2019-02-13 21:34:18.932488\n",
      "ID: 38  Game: numbersStarred   Session: 25   Window: 11   Time: 2019-02-13 21:34:21.982692\n",
      "ID: 38  Game: numbersStarred   Session: 25   Window: 12   Time: 2019-02-13 21:34:23.749505\n",
      "ID: 38  Game: numbersStarred   Session: 25   Window: 13   Time: 2019-02-13 21:34:25.216263\n",
      "ID: 38  Game: numbersStarred   Session: 25   Window: 14   Time: 2019-02-13 21:34:26.866567\n",
      "ID: 38  Game: numbersStarred   Session: 25   Window: 15   Time: 2019-02-13 21:34:28.633226\n",
      "ID: 38  Game: numbersStarred   Session: 25   Window: 16   Time: 2019-02-13 21:34:30.666664\n",
      "ID: 38  Game: numbersStarred   Session: 25   Window: 17   Time: 2019-02-13 21:34:32.300112\n",
      "ID: 38  Game: numbersStarred   Session: 25   Window: 18   Time: 2019-02-13 21:34:33.800260\n",
      "ID: 38  Game: numbersStarred   Session: 25   Window: 19   Time: 2019-02-13 21:34:35.533658\n",
      "ID: 38  Game: numbersStarred   Session: 25   Window: 20   Time: 2019-02-13 21:34:37.267147\n",
      "ID: 38  Game: numbersStarred   Session: 25   Window: 21   Time: 2019-02-13 21:34:38.984044\n",
      "ID: 38  Game: numbersStarred   Session: 25   Window: 22   Time: 2019-02-13 21:34:41.750740\n",
      "ID: 38  Game: numbersStarred   Session: 25   Window: 23   Time: 2019-02-13 21:34:43.317491\n",
      "ID: 38  Game: numbersStarred   Session: 25   Window: 24   Time: 2019-02-13 21:34:44.734315\n",
      "ID: 38  Game: numbersStarred   Session: 25   Window: 25   Time: 2019-02-13 21:34:45.984453\n",
      "ID: 38  Game: numbersStarred   Session: 25   Window: 26   Time: 2019-02-13 21:34:48.001215\n",
      "ID: 38  Game: numbersStarred   Session: 25   Window: 27   Time: 2019-02-13 21:34:49.768040\n",
      "ID: 38  Game: numbersStarred   Session: 25   Window: 28   Time: 2019-02-13 21:34:53.668286\n",
      "ID: 38  Game: numbersStarred   Session: 25   Window: 29   Time: 2019-02-13 21:34:55.401706\n",
      "ID: 38  Game: numbersStarred   Session: 25   Window: 30   Time: 2019-02-13 21:34:57.551899\n",
      "ID: 38  Game: numbersStarred   Session: 25   Window: 31   Time: 2019-02-13 21:35:08.454878\n",
      "ID: 38  Game: numbersStarred   Session: 25   Window: 32   Time: 2019-02-13 21:35:09.836112\n",
      "ID: 38  Game: numbersStarred   Session: 25   Window: 33   Time: 2019-02-13 21:35:10.936135\n",
      "ID: 38  Game: numbersStarred   Session: 25   Window: 34   Time: 2019-02-13 21:35:12.819623\n",
      "ID: 38  Game: numbersStarred   Session: 25   Window: 35   Time: 2019-02-13 21:35:14.703057\n",
      "ID: 38  Game: numbersStarred   Session: 25   Window: 36   Time: 2019-02-13 21:35:16.686546\n",
      "ID: 38  Game: numbersStarred   Session: 25   Window: 37   Time: 2019-02-13 21:35:18.770062\n",
      "ID: 38  Game: numbersStarred   Session: 25   Window: 38   Time: 2019-02-13 21:35:20.686837\n",
      "ID: 38  Game: numbersStarred   Session: 25   Window: 39   Time: 2019-02-13 21:35:22.203617\n",
      "ID: 38  Game: numbersStarred   Session: 25   Window: 40   Time: 2019-02-13 21:35:23.570376\n",
      "ID: 38  Game: numbersStarred   Session: 25   Window: 41   Time: 2019-02-13 21:35:25.420564\n",
      "ID: 38  Game: numbersStarred   Session: 25   Window: 42   Time: 2019-02-13 21:35:27.387311\n",
      "ID: 38  Game: numbersStarred   Session: 25   Window: 43   Time: 2019-02-13 21:35:28.804102\n",
      "ID: 38  Game: numbersStarred   Session: 25   Window: 44   Time: 2019-02-13 21:35:30.820916\n",
      "ID: 38  Game: numbersStarred   Session: 25   Window: 45   Time: 2019-02-13 21:35:32.204298\n",
      "ID: 38  Game: numbersStarred   Session: 25   Window: 46   Time: 2019-02-13 21:35:33.554399\n",
      "ID: 38  Game: numbersStarred   Session: 25   Window: 47   Time: 2019-02-13 21:35:35.387871\n",
      "ID: 38  Game: numbersStarred   Session: 25   Window: 48   Time: 2019-02-13 21:35:37.338166\n",
      "ID: 38  Game: numbersStarred   Session: 25   Window: 49   Time: 2019-02-13 21:35:39.238336\n",
      "ID: 38  Game: numbersStarred   Session: 25   Window: 50   Time: 2019-02-13 21:35:41.021666\n",
      "ID: 38  Game: numbersStarred   Session: 25   Window: 51   Time: 2019-02-13 21:35:42.821724\n",
      "ID: 38  Game: numbersStarred   Session: 25   Window: 52   Time: 2019-02-13 21:35:44.521866\n",
      "ID: 38  Game: numbersStarred   Session: 25   Window: 53   Time: 2019-02-13 21:35:46.238588\n",
      "ID: 38  Game: numbersStarred   Session: 25   Window: 54   Time: 2019-02-13 21:35:48.172100\n",
      "ID: 38  Game: numbersStarred   Session: 25   Window: 55   Time: 2019-02-13 21:35:49.838881\n",
      "ID: 38  Game: numbersStarred   Session: 25   Window: 56   Time: 2019-02-13 21:35:51.672383\n",
      "ID: 38  Game: numbersStarred   Session: 25   Window: 57   Time: 2019-02-13 21:35:54.439203\n",
      "ID: 38  Game: numbersStarred   Session: 25   Window: 58   Time: 2019-02-13 21:35:56.339421\n",
      "ID: 38  Game: numbersStarred   Session: 25   Window: 59   Time: 2019-02-13 21:35:58.722877\n",
      "ID: 38  Game: numbersStarred   Session: 25   Window: 60   Time: 2019-02-13 21:36:00.806360\n",
      "ID: 38  Game: numbersStarred   Session: 25   Window: 61   Time: 2019-02-13 21:36:02.373168\n",
      "ID: 38  Game: numbersStarred   Session: 25   Window: 62   Time: 2019-02-13 21:36:04.590007\n"
     ]
    },
    {
     "name": "stderr",
     "output_type": "stream",
     "text": [
      "//anaconda/lib/python3.6/site-packages/numpy/core/fromnumeric.py:3118: RuntimeWarning: Mean of empty slice.\n",
      "  out=out, **kwargs)\n",
      "//anaconda/lib/python3.6/site-packages/numpy/core/_methods.py:85: RuntimeWarning: invalid value encountered in double_scalars\n",
      "  ret = ret.dtype.type(ret / rcount)\n"
     ]
    },
    {
     "name": "stdout",
     "output_type": "stream",
     "text": [
      "ID: 38  Game: numbersStarred   Session: 26   Window: 0   Time: 2019-02-14 09:26:06.566188\n",
      "ID: 38  Game: numbersStarred   Session: 26   Window: 1   Time: 2019-02-14 09:26:08.479111\n",
      "ID: 38  Game: numbersStarred   Session: 26   Window: 2   Time: 2019-02-14 09:26:10.095854\n",
      "ID: 38  Game: numbersStarred   Session: 26   Window: 3   Time: 2019-02-14 09:26:11.862618\n",
      "ID: 38  Game: numbersStarred   Session: 26   Window: 4   Time: 2019-02-14 09:26:13.879544\n",
      "ID: 38  Game: numbersStarred   Session: 26   Window: 5   Time: 2019-02-14 09:26:15.312875\n",
      "ID: 38  Game: numbersStarred   Session: 26   Window: 6   Time: 2019-02-14 09:26:16.829606\n",
      "ID: 38  Game: numbersStarred   Session: 26   Window: 7   Time: 2019-02-14 09:26:18.629794\n",
      "ID: 38  Game: numbersStarred   Session: 26   Window: 8   Time: 2019-02-14 09:26:20.146565\n",
      "ID: 38  Game: numbersStarred   Session: 26   Window: 9   Time: 2019-02-14 09:26:22.080143\n",
      "ID: 38  Game: numbersStarred   Session: 26   Window: 10   Time: 2019-02-14 09:26:23.663586\n",
      "ID: 38  Game: numbersStarred   Session: 26   Window: 11   Time: 2019-02-14 09:26:25.313577\n",
      "ID: 38  Game: numbersStarred   Session: 26   Window: 12   Time: 2019-02-14 09:26:26.680434\n",
      "ID: 38  Game: numbersStarred   Session: 26   Window: 13   Time: 2019-02-14 09:26:28.280482\n",
      "ID: 38  Game: numbersStarred   Session: 26   Window: 14   Time: 2019-02-14 09:26:29.497207\n",
      "ID: 38  Game: numbersStarred   Session: 26   Window: 15   Time: 2019-02-14 09:26:31.013988\n",
      "ID: 38  Game: numbersStarred   Session: 26   Window: 16   Time: 2019-02-14 09:26:32.830811\n",
      "ID: 38  Game: numbersStarred   Session: 26   Window: 17   Time: 2019-02-14 09:26:34.414272\n",
      "ID: 38  Game: numbersStarred   Session: 26   Window: 18   Time: 2019-02-14 09:26:36.197726\n",
      "ID: 38  Game: numbersStarred   Session: 26   Window: 19   Time: 2019-02-14 09:26:39.331326\n",
      "ID: 38  Game: numbersStarred   Session: 26   Window: 20   Time: 2019-02-14 09:26:42.098195\n",
      "ID: 38  Game: numbersStarred   Session: 26   Window: 21   Time: 2019-02-14 09:26:45.081709\n",
      "ID: 38  Game: numbersStarred   Session: 26   Window: 22   Time: 2019-02-14 09:26:48.415314\n",
      "ID: 38  Game: numbersStarred   Session: 26   Window: 23   Time: 2019-02-14 09:26:49.965385\n",
      "ID: 38  Game: numbersStarred   Session: 26   Window: 24   Time: 2019-02-14 09:26:51.948869\n",
      "ID: 38  Game: numbersStarred   Session: 26   Window: 25   Time: 2019-02-14 09:26:53.532299\n",
      "ID: 38  Game: numbersStarred   Session: 26   Window: 26   Time: 2019-02-14 09:26:54.982390\n",
      "ID: 38  Game: numbersStarred   Session: 26   Window: 27   Time: 2019-02-14 09:26:56.599167\n",
      "ID: 38  Game: numbersStarred   Session: 26   Window: 28   Time: 2019-02-14 09:26:58.365988\n",
      "ID: 38  Game: numbersStarred   Session: 26   Window: 29   Time: 2019-02-14 09:27:00.416096\n",
      "ID: 38  Game: numbersStarred   Session: 26   Window: 30   Time: 2019-02-14 09:27:02.432898\n",
      "ID: 38  Game: numbersStarred   Session: 26   Window: 31   Time: 2019-02-14 09:27:04.216378\n"
     ]
    },
    {
     "name": "stderr",
     "output_type": "stream",
     "text": [
      "//anaconda/lib/python3.6/site-packages/numpy/core/fromnumeric.py:3118: RuntimeWarning: Mean of empty slice.\n",
      "  out=out, **kwargs)\n",
      "//anaconda/lib/python3.6/site-packages/numpy/core/_methods.py:85: RuntimeWarning: invalid value encountered in double_scalars\n",
      "  ret = ret.dtype.type(ret / rcount)\n"
     ]
    },
    {
     "name": "stdout",
     "output_type": "stream",
     "text": [
      "ID: 38  Game: numbersStarred   Session: 27   Window: 0   Time: 2019-02-14 13:03:26.351482\n",
      "ID: 38  Game: numbersStarred   Session: 27   Window: 1   Time: 2019-02-14 13:03:28.399569\n",
      "ID: 38  Game: numbersStarred   Session: 27   Window: 2   Time: 2019-02-14 13:03:29.582987\n",
      "ID: 38  Game: numbersStarred   Session: 27   Window: 3   Time: 2019-02-14 13:03:31.233084\n",
      "ID: 38  Game: numbersStarred   Session: 27   Window: 4   Time: 2019-02-14 13:03:32.749898\n",
      "ID: 38  Game: numbersStarred   Session: 27   Window: 5   Time: 2019-02-14 13:03:34.683288\n",
      "ID: 38  Game: numbersStarred   Session: 27   Window: 6   Time: 2019-02-14 13:03:36.500076\n",
      "ID: 38  Game: numbersStarred   Session: 27   Window: 7   Time: 2019-02-14 13:03:37.950195\n",
      "ID: 38  Game: numbersStarred   Session: 27   Window: 8   Time: 2019-02-14 13:03:39.583654\n",
      "ID: 38  Game: numbersStarred   Session: 27   Window: 9   Time: 2019-02-14 13:03:41.450451\n",
      "ID: 38  Game: numbersStarred   Session: 27   Window: 10   Time: 2019-02-14 13:03:43.133850\n",
      "ID: 38  Game: numbersStarred   Session: 27   Window: 11   Time: 2019-02-14 13:03:45.067370\n",
      "ID: 38  Game: numbersStarred   Session: 27   Window: 12   Time: 2019-02-14 13:03:47.084163\n",
      "ID: 38  Game: numbersStarred   Session: 27   Window: 13   Time: 2019-02-14 13:03:48.867660\n",
      "ID: 38  Game: numbersStarred   Session: 27   Window: 14   Time: 2019-02-14 13:03:50.851147\n",
      "ID: 38  Game: numbersStarred   Session: 27   Window: 15   Time: 2019-02-14 13:03:53.534606\n",
      "ID: 38  Game: numbersStarred   Session: 27   Window: 16   Time: 2019-02-14 13:03:55.701426\n",
      "ID: 38  Game: numbersStarred   Session: 27   Window: 17   Time: 2019-02-14 13:03:57.584941\n",
      "ID: 38  Game: numbersStarred   Session: 27   Window: 18   Time: 2019-02-14 13:03:59.968435\n",
      "ID: 38  Game: numbersStarred   Session: 27   Window: 19   Time: 2019-02-14 13:04:01.518534\n",
      "ID: 38  Game: numbersStarred   Session: 27   Window: 20   Time: 2019-02-14 13:04:03.935366\n",
      "ID: 38  Game: numbersStarred   Session: 27   Window: 21   Time: 2019-02-14 13:04:05.452153\n",
      "ID: 38  Game: numbersStarred   Session: 27   Window: 22   Time: 2019-02-14 13:04:07.468996\n",
      "ID: 38  Game: numbersStarred   Session: 27   Window: 23   Time: 2019-02-14 13:04:09.169217\n",
      "ID: 38  Game: numbersStarred   Session: 27   Window: 24   Time: 2019-02-14 13:04:10.619912\n",
      "ID: 38  Game: numbersStarred   Session: 27   Window: 25   Time: 2019-02-14 13:04:12.586036\n",
      "ID: 38  Game: numbersStarred   Session: 27   Window: 26   Time: 2019-02-14 13:04:14.119436\n",
      "ID: 38  Game: numbersStarred   Session: 27   Window: 27   Time: 2019-02-14 13:04:16.186304\n",
      "ID: 38  Game: numbersStarred   Session: 27   Window: 28   Time: 2019-02-14 13:04:18.203088\n",
      "ID: 38  Game: numbersStarred   Session: 27   Window: 29   Time: 2019-02-14 13:04:20.219957\n",
      "ID: 38  Game: numbersStarred   Session: 27   Window: 30   Time: 2019-02-14 13:04:22.186736\n",
      "ID: 38  Game: numbersStarred   Session: 27   Window: 31   Time: 2019-02-14 13:04:24.086954\n"
     ]
    },
    {
     "name": "stderr",
     "output_type": "stream",
     "text": [
      "//anaconda/lib/python3.6/site-packages/numpy/core/fromnumeric.py:3118: RuntimeWarning: Mean of empty slice.\n",
      "  out=out, **kwargs)\n",
      "//anaconda/lib/python3.6/site-packages/numpy/core/_methods.py:85: RuntimeWarning: invalid value encountered in double_scalars\n",
      "  ret = ret.dtype.type(ret / rcount)\n"
     ]
    },
    {
     "name": "stdout",
     "output_type": "stream",
     "text": [
      "ID: 38  Game: numbersStarred   Session: 28   Window: 0   Time: 2019-02-14 22:13:31.095166\n",
      "ID: 38  Game: numbersStarred   Session: 28   Window: 1   Time: 2019-02-14 22:13:32.692897\n",
      "ID: 38  Game: numbersStarred   Session: 28   Window: 2   Time: 2019-02-14 22:13:33.926288\n",
      "ID: 38  Game: numbersStarred   Session: 28   Window: 3   Time: 2019-02-14 22:13:36.176473\n",
      "ID: 38  Game: numbersStarred   Session: 28   Window: 4   Time: 2019-02-14 22:13:37.659921\n",
      "ID: 38  Game: numbersStarred   Session: 28   Window: 5   Time: 2019-02-14 22:13:39.193326\n",
      "ID: 38  Game: numbersStarred   Session: 28   Window: 6   Time: 2019-02-14 22:13:40.426717\n",
      "ID: 38  Game: numbersStarred   Session: 28   Window: 7   Time: 2019-02-14 22:13:42.560214\n",
      "ID: 38  Game: numbersStarred   Session: 28   Window: 8   Time: 2019-02-14 22:13:44.276970\n",
      "ID: 38  Game: numbersStarred   Session: 28   Window: 9   Time: 2019-02-14 22:13:45.893766\n",
      "ID: 38  Game: numbersStarred   Session: 28   Window: 10   Time: 2019-02-14 22:13:47.643956\n",
      "ID: 38  Game: numbersStarred   Session: 28   Window: 11   Time: 2019-02-14 22:13:49.327323\n",
      "ID: 38  Game: numbersStarred   Session: 28   Window: 12   Time: 2019-02-14 22:13:51.127480\n",
      "ID: 38  Game: numbersStarred   Session: 28   Window: 13   Time: 2019-02-14 22:13:53.010928\n",
      "ID: 38  Game: numbersStarred   Session: 28   Window: 14   Time: 2019-02-14 22:13:54.861014\n",
      "ID: 38  Game: numbersStarred   Session: 28   Window: 15   Time: 2019-02-14 22:13:56.711148\n",
      "ID: 38  Game: numbersStarred   Session: 28   Window: 16   Time: 2019-02-14 22:13:58.327949\n",
      "ID: 38  Game: numbersStarred   Session: 28   Window: 17   Time: 2019-02-14 22:14:00.861453\n",
      "ID: 38  Game: numbersStarred   Session: 28   Window: 18   Time: 2019-02-14 22:14:02.511598\n",
      "ID: 38  Game: numbersStarred   Session: 28   Window: 19   Time: 2019-02-14 22:14:04.395008\n",
      "ID: 38  Game: numbersStarred   Session: 28   Window: 20   Time: 2019-02-14 22:14:06.111861\n",
      "ID: 38  Game: numbersStarred   Session: 28   Window: 21   Time: 2019-02-14 22:14:07.911913\n",
      "ID: 38  Game: numbersStarred   Session: 28   Window: 22   Time: 2019-02-14 22:14:09.578752\n",
      "ID: 38  Game: numbersStarred   Session: 28   Window: 23   Time: 2019-02-14 22:14:11.662163\n",
      "ID: 38  Game: numbersStarred   Session: 28   Window: 24   Time: 2019-02-14 22:14:13.195602\n",
      "ID: 38  Game: numbersStarred   Session: 28   Window: 25   Time: 2019-02-14 22:14:15.145791\n",
      "ID: 38  Game: numbersStarred   Session: 28   Window: 26   Time: 2019-02-14 22:14:16.679254\n",
      "ID: 38  Game: numbersStarred   Session: 28   Window: 27   Time: 2019-02-14 22:14:18.095934\n",
      "ID: 38  Game: numbersStarred   Session: 28   Window: 28   Time: 2019-02-14 22:14:20.562784\n",
      "ID: 38  Game: numbersStarred   Session: 28   Window: 29   Time: 2019-02-14 22:14:22.062906\n",
      "ID: 38  Game: numbersStarred   Session: 28   Window: 30   Time: 2019-02-14 22:14:24.413025\n",
      "ID: 38  Game: numbersStarred   Session: 28   Window: 31   Time: 2019-02-14 22:14:26.246501\n"
     ]
    },
    {
     "name": "stderr",
     "output_type": "stream",
     "text": [
      "//anaconda/lib/python3.6/site-packages/numpy/core/fromnumeric.py:3118: RuntimeWarning: Mean of empty slice.\n",
      "  out=out, **kwargs)\n",
      "//anaconda/lib/python3.6/site-packages/numpy/core/_methods.py:85: RuntimeWarning: invalid value encountered in double_scalars\n",
      "  ret = ret.dtype.type(ret / rcount)\n"
     ]
    },
    {
     "name": "stdout",
     "output_type": "stream",
     "text": [
      "ID: 38  Game: numbersStarred   Session: 29   Window: 0   Time: 2019-02-15 08:55:26.149581\n",
      "ID: 38  Game: numbersStarred   Session: 29   Window: 1   Time: 2019-02-15 08:55:28.016357\n",
      "ID: 38  Game: numbersStarred   Session: 29   Window: 2   Time: 2019-02-15 08:55:29.266460\n",
      "ID: 38  Game: numbersStarred   Session: 29   Window: 3   Time: 2019-02-15 08:55:30.916563\n",
      "ID: 38  Game: numbersStarred   Session: 29   Window: 4   Time: 2019-02-15 08:55:32.550030\n",
      "ID: 38  Game: numbersStarred   Session: 29   Window: 5   Time: 2019-02-15 08:55:34.583487\n",
      "ID: 38  Game: numbersStarred   Session: 29   Window: 6   Time: 2019-02-15 08:55:36.450312\n",
      "ID: 38  Game: numbersStarred   Session: 29   Window: 7   Time: 2019-02-15 08:55:37.917076\n",
      "ID: 38  Game: numbersStarred   Session: 29   Window: 8   Time: 2019-02-15 08:55:39.400461\n",
      "ID: 38  Game: numbersStarred   Session: 29   Window: 9   Time: 2019-02-15 08:55:41.283966\n",
      "ID: 38  Game: numbersStarred   Session: 29   Window: 10   Time: 2019-02-15 08:55:42.817414\n",
      "ID: 38  Game: numbersStarred   Session: 29   Window: 11   Time: 2019-02-15 08:55:44.150815\n",
      "ID: 38  Game: numbersStarred   Session: 29   Window: 12   Time: 2019-02-15 08:55:45.600939\n",
      "ID: 38  Game: numbersStarred   Session: 29   Window: 13   Time: 2019-02-15 08:55:47.167725\n",
      "ID: 38  Game: numbersStarred   Session: 29   Window: 14   Time: 2019-02-15 08:55:49.051238\n",
      "ID: 38  Game: numbersStarred   Session: 29   Window: 15   Time: 2019-02-15 08:55:50.317935\n",
      "ID: 38  Game: numbersStarred   Session: 29   Window: 16   Time: 2019-02-15 08:55:52.301431\n",
      "ID: 38  Game: numbersStarred   Session: 29   Window: 17   Time: 2019-02-15 08:55:54.068228\n",
      "ID: 38  Game: numbersStarred   Session: 29   Window: 18   Time: 2019-02-15 08:55:55.901703\n",
      "ID: 38  Game: numbersStarred   Session: 29   Window: 19   Time: 2019-02-15 08:55:57.401769\n",
      "ID: 38  Game: numbersStarred   Session: 29   Window: 20   Time: 2019-02-15 08:55:59.551966\n",
      "ID: 38  Game: numbersStarred   Session: 29   Window: 21   Time: 2019-02-15 08:56:01.235411\n",
      "ID: 38  Game: numbersStarred   Session: 29   Window: 22   Time: 2019-02-15 08:56:02.769006\n",
      "ID: 38  Game: numbersStarred   Session: 29   Window: 23   Time: 2019-02-15 08:56:04.335680\n",
      "ID: 38  Game: numbersStarred   Session: 29   Window: 24   Time: 2019-02-15 08:56:09.152616\n",
      "ID: 38  Game: numbersStarred   Session: 29   Window: 25   Time: 2019-02-15 08:56:10.969417\n",
      "ID: 38  Game: numbersStarred   Session: 29   Window: 26   Time: 2019-02-15 08:56:13.804055\n",
      "ID: 38  Game: numbersStarred   Session: 29   Window: 27   Time: 2019-02-15 08:56:16.069787\n",
      "ID: 38  Game: numbersStarred   Session: 29   Window: 28   Time: 2019-02-15 08:56:17.503186\n",
      "ID: 38  Game: numbersStarred   Session: 29   Window: 29   Time: 2019-02-15 08:56:19.436691\n",
      "ID: 38  Game: numbersStarred   Session: 29   Window: 30   Time: 2019-02-15 08:56:21.837033\n",
      "ID: 38  Game: numbersStarred   Session: 29   Window: 31   Time: 2019-02-15 08:56:23.720306\n"
     ]
    },
    {
     "name": "stderr",
     "output_type": "stream",
     "text": [
      "//anaconda/lib/python3.6/site-packages/numpy/core/fromnumeric.py:3118: RuntimeWarning: Mean of empty slice.\n",
      "  out=out, **kwargs)\n",
      "//anaconda/lib/python3.6/site-packages/numpy/core/_methods.py:85: RuntimeWarning: invalid value encountered in double_scalars\n",
      "  ret = ret.dtype.type(ret / rcount)\n"
     ]
    },
    {
     "name": "stdout",
     "output_type": "stream",
     "text": [
      "ID: 38  Game: numbersStarred   Session: 30   Window: 0   Time: 2019-02-15 13:19:52.145077\n",
      "ID: 38  Game: numbersStarred   Session: 30   Window: 1   Time: 2019-02-15 13:19:53.623522\n",
      "ID: 38  Game: numbersStarred   Session: 30   Window: 2   Time: 2019-02-15 13:19:56.140407\n",
      "ID: 38  Game: numbersStarred   Session: 30   Window: 3   Time: 2019-02-15 13:19:57.390459\n",
      "ID: 38  Game: numbersStarred   Session: 30   Window: 4   Time: 2019-02-15 13:19:59.223958\n",
      "ID: 38  Game: numbersStarred   Session: 30   Window: 5   Time: 2019-02-15 13:20:00.874105\n",
      "ID: 38  Game: numbersStarred   Session: 30   Window: 6   Time: 2019-02-15 13:20:02.690848\n",
      "ID: 38  Game: numbersStarred   Session: 30   Window: 7   Time: 2019-02-15 13:20:04.274313\n",
      "ID: 38  Game: numbersStarred   Session: 30   Window: 8   Time: 2019-02-15 13:20:06.507790\n",
      "ID: 38  Game: numbersStarred   Session: 30   Window: 9   Time: 2019-02-15 13:20:08.091213\n",
      "ID: 38  Game: numbersStarred   Session: 30   Window: 10   Time: 2019-02-15 13:20:09.891391\n",
      "ID: 38  Game: numbersStarred   Session: 30   Window: 11   Time: 2019-02-15 13:20:11.741484\n",
      "ID: 38  Game: numbersStarred   Session: 30   Window: 12   Time: 2019-02-15 13:20:13.758328\n",
      "ID: 38  Game: numbersStarred   Session: 30   Window: 13   Time: 2019-02-15 13:20:15.075086\n",
      "ID: 38  Game: numbersStarred   Session: 30   Window: 14   Time: 2019-02-15 13:20:16.708509\n",
      "ID: 38  Game: numbersStarred   Session: 30   Window: 15   Time: 2019-02-15 13:20:18.208698\n",
      "ID: 38  Game: numbersStarred   Session: 30   Window: 16   Time: 2019-02-15 13:20:19.391970\n",
      "ID: 38  Game: numbersStarred   Session: 30   Window: 17   Time: 2019-02-15 13:20:20.642061\n",
      "ID: 38  Game: numbersStarred   Session: 30   Window: 18   Time: 2019-02-15 13:20:22.558928\n",
      "ID: 38  Game: numbersStarred   Session: 30   Window: 19   Time: 2019-02-15 13:20:24.392345\n",
      "ID: 38  Game: numbersStarred   Session: 30   Window: 20   Time: 2019-02-15 13:20:26.592528\n",
      "ID: 38  Game: numbersStarred   Session: 30   Window: 21   Time: 2019-02-15 13:20:28.442655\n",
      "ID: 38  Game: numbersStarred   Session: 30   Window: 22   Time: 2019-02-15 13:20:29.892794\n",
      "ID: 38  Game: numbersStarred   Session: 30   Window: 23   Time: 2019-02-15 13:20:31.193115\n",
      "ID: 38  Game: numbersStarred   Session: 30   Window: 24   Time: 2019-02-15 13:20:33.759721\n",
      "ID: 38  Game: numbersStarred   Session: 30   Window: 25   Time: 2019-02-15 13:20:36.159909\n",
      "ID: 38  Game: numbersStarred   Session: 30   Window: 26   Time: 2019-02-15 13:20:37.910045\n",
      "ID: 38  Game: numbersStarred   Session: 30   Window: 27   Time: 2019-02-15 13:20:39.093433\n",
      "ID: 38  Game: numbersStarred   Session: 30   Window: 28   Time: 2019-02-15 13:20:40.626844\n",
      "ID: 38  Game: numbersStarred   Session: 30   Window: 29   Time: 2019-02-15 13:20:42.710333\n",
      "ID: 38  Game: numbersStarred   Session: 30   Window: 30   Time: 2019-02-15 13:20:44.477189\n",
      "ID: 38  Game: numbersStarred   Session: 30   Window: 31   Time: 2019-02-15 13:20:46.060552\n"
     ]
    },
    {
     "name": "stderr",
     "output_type": "stream",
     "text": [
      "//anaconda/lib/python3.6/site-packages/numpy/core/fromnumeric.py:3118: RuntimeWarning: Mean of empty slice.\n",
      "  out=out, **kwargs)\n",
      "//anaconda/lib/python3.6/site-packages/numpy/core/_methods.py:85: RuntimeWarning: invalid value encountered in double_scalars\n",
      "  ret = ret.dtype.type(ret / rcount)\n"
     ]
    },
    {
     "name": "stdout",
     "output_type": "stream",
     "text": [
      "ID: 38  Game: numbersStarred   Session: 31   Window: 0   Time: 2019-02-15 22:33:08.950629\n",
      "ID: 38  Game: numbersStarred   Session: 31   Window: 1   Time: 2019-02-15 22:33:10.829530\n",
      "ID: 38  Game: numbersStarred   Session: 31   Window: 2   Time: 2019-02-15 22:33:12.829629\n",
      "ID: 38  Game: numbersStarred   Session: 31   Window: 3   Time: 2019-02-15 22:33:14.579812\n",
      "ID: 38  Game: numbersStarred   Session: 31   Window: 4   Time: 2019-02-15 22:33:16.413194\n",
      "ID: 38  Game: numbersStarred   Session: 31   Window: 5   Time: 2019-02-15 22:33:17.663284\n",
      "ID: 38  Game: numbersStarred   Session: 31   Window: 6   Time: 2019-02-15 22:33:19.780100\n",
      "ID: 38  Game: numbersStarred   Session: 31   Window: 7   Time: 2019-02-15 22:33:21.813598\n",
      "ID: 38  Game: numbersStarred   Session: 31   Window: 8   Time: 2019-02-15 22:33:23.297037\n",
      "ID: 38  Game: numbersStarred   Session: 31   Window: 9   Time: 2019-02-15 22:33:25.380519\n",
      "ID: 38  Game: numbersStarred   Session: 31   Window: 10   Time: 2019-02-15 22:33:27.013943\n",
      "ID: 38  Game: numbersStarred   Session: 31   Window: 11   Time: 2019-02-15 22:33:28.464062\n",
      "ID: 38  Game: numbersStarred   Session: 31   Window: 12   Time: 2019-02-15 22:33:30.730889\n",
      "ID: 38  Game: numbersStarred   Session: 31   Window: 13   Time: 2019-02-15 22:33:32.414440\n",
      "ID: 38  Game: numbersStarred   Session: 31   Window: 14   Time: 2019-02-15 22:33:33.747856\n",
      "ID: 38  Game: numbersStarred   Session: 31   Window: 15   Time: 2019-02-15 22:33:36.081321\n",
      "ID: 38  Game: numbersStarred   Session: 31   Window: 16   Time: 2019-02-15 22:33:38.031515\n",
      "ID: 38  Game: numbersStarred   Session: 31   Window: 17   Time: 2019-02-15 22:33:42.531754\n",
      "ID: 38  Game: numbersStarred   Session: 31   Window: 18   Time: 2019-02-15 22:33:44.765237\n",
      "ID: 38  Game: numbersStarred   Session: 31   Window: 19   Time: 2019-02-15 22:33:46.248667\n",
      "ID: 38  Game: numbersStarred   Session: 31   Window: 20   Time: 2019-02-15 22:33:47.748815\n",
      "ID: 38  Game: numbersStarred   Session: 31   Window: 21   Time: 2019-02-15 22:33:49.582323\n",
      "ID: 38  Game: numbersStarred   Session: 31   Window: 22   Time: 2019-02-15 22:33:51.449306\n",
      "ID: 38  Game: numbersStarred   Session: 31   Window: 23   Time: 2019-02-15 22:33:52.965850\n",
      "ID: 38  Game: numbersStarred   Session: 31   Window: 24   Time: 2019-02-15 22:33:55.416032\n",
      "ID: 38  Game: numbersStarred   Session: 31   Window: 25   Time: 2019-02-15 22:33:57.516155\n",
      "ID: 38  Game: numbersStarred   Session: 31   Window: 26   Time: 2019-02-15 22:33:59.649687\n",
      "ID: 38  Game: numbersStarred   Session: 31   Window: 27   Time: 2019-02-15 22:34:01.983196\n",
      "ID: 38  Game: numbersStarred   Session: 31   Window: 28   Time: 2019-02-15 22:34:03.850000\n",
      "ID: 38  Game: numbersStarred   Session: 31   Window: 29   Time: 2019-02-15 22:34:05.350083\n",
      "ID: 38  Game: numbersStarred   Session: 31   Window: 30   Time: 2019-02-15 22:34:07.533600\n",
      "ID: 38  Game: numbersStarred   Session: 31   Window: 31   Time: 2019-02-15 22:34:09.167043\n"
     ]
    },
    {
     "name": "stderr",
     "output_type": "stream",
     "text": [
      "//anaconda/lib/python3.6/site-packages/numpy/core/fromnumeric.py:3118: RuntimeWarning: Mean of empty slice.\n",
      "  out=out, **kwargs)\n",
      "//anaconda/lib/python3.6/site-packages/numpy/core/_methods.py:85: RuntimeWarning: invalid value encountered in double_scalars\n",
      "  ret = ret.dtype.type(ret / rcount)\n"
     ]
    },
    {
     "name": "stdout",
     "output_type": "stream",
     "text": [
      "ID: 38  Game: numbersStarred   Session: 32   Window: 0   Time: 2019-02-16 08:43:39.902242\n",
      "ID: 38  Game: numbersStarred   Session: 32   Window: 1   Time: 2019-02-16 08:43:41.400585\n",
      "ID: 38  Game: numbersStarred   Session: 32   Window: 2   Time: 2019-02-16 08:43:43.334052\n",
      "ID: 38  Game: numbersStarred   Session: 32   Window: 3   Time: 2019-02-16 08:43:45.167507\n",
      "ID: 38  Game: numbersStarred   Session: 32   Window: 4   Time: 2019-02-16 08:43:46.967678\n",
      "ID: 38  Game: numbersStarred   Session: 32   Window: 5   Time: 2019-02-16 08:43:48.934444\n",
      "ID: 38  Game: numbersStarred   Session: 32   Window: 6   Time: 2019-02-16 08:43:50.617889\n",
      "ID: 38  Game: numbersStarred   Session: 32   Window: 7   Time: 2019-02-16 08:43:52.017993\n",
      "ID: 38  Game: numbersStarred   Session: 32   Window: 8   Time: 2019-02-16 08:43:53.301423\n",
      "ID: 38  Game: numbersStarred   Session: 32   Window: 9   Time: 2019-02-16 08:43:54.684878\n",
      "ID: 38  Game: numbersStarred   Session: 32   Window: 10   Time: 2019-02-16 08:43:56.018287\n",
      "ID: 38  Game: numbersStarred   Session: 32   Window: 11   Time: 2019-02-16 08:43:57.485161\n",
      "ID: 38  Game: numbersStarred   Session: 32   Window: 12   Time: 2019-02-16 08:43:59.018507\n",
      "ID: 38  Game: numbersStarred   Session: 32   Window: 13   Time: 2019-02-16 08:44:00.751993\n",
      "ID: 38  Game: numbersStarred   Session: 32   Window: 14   Time: 2019-02-16 08:44:03.068822\n",
      "ID: 38  Game: numbersStarred   Session: 32   Window: 15   Time: 2019-02-16 08:44:04.702286\n",
      "ID: 38  Game: numbersStarred   Session: 32   Window: 16   Time: 2019-02-16 08:44:06.569047\n",
      "ID: 38  Game: numbersStarred   Session: 32   Window: 17   Time: 2019-02-16 08:44:08.369243\n",
      "ID: 38  Game: numbersStarred   Session: 32   Window: 18   Time: 2019-02-16 08:44:09.936007\n",
      "ID: 38  Game: numbersStarred   Session: 32   Window: 19   Time: 2019-02-16 08:44:11.336186\n",
      "ID: 38  Game: numbersStarred   Session: 32   Window: 20   Time: 2019-02-16 08:44:12.686154\n",
      "ID: 38  Game: numbersStarred   Session: 32   Window: 21   Time: 2019-02-16 08:44:14.302950\n",
      "ID: 38  Game: numbersStarred   Session: 32   Window: 22   Time: 2019-02-16 08:44:15.719709\n",
      "ID: 38  Game: numbersStarred   Session: 32   Window: 23   Time: 2019-02-16 08:44:17.669834\n",
      "ID: 38  Game: numbersStarred   Session: 32   Window: 24   Time: 2019-02-16 08:44:18.903262\n",
      "ID: 38  Game: numbersStarred   Session: 32   Window: 25   Time: 2019-02-16 08:44:20.303398\n",
      "ID: 38  Game: numbersStarred   Session: 32   Window: 26   Time: 2019-02-16 08:44:21.786822\n",
      "ID: 38  Game: numbersStarred   Session: 32   Window: 27   Time: 2019-02-16 08:44:23.370263\n",
      "ID: 38  Game: numbersStarred   Session: 32   Window: 28   Time: 2019-02-16 08:44:25.120415\n",
      "ID: 38  Game: numbersStarred   Session: 32   Window: 29   Time: 2019-02-16 08:44:26.703897\n",
      "ID: 38  Game: numbersStarred   Session: 32   Window: 30   Time: 2019-02-16 08:44:28.870702\n",
      "ID: 38  Game: numbersStarred   Session: 32   Window: 31   Time: 2019-02-16 08:44:30.120754\n"
     ]
    },
    {
     "name": "stderr",
     "output_type": "stream",
     "text": [
      "//anaconda/lib/python3.6/site-packages/numpy/core/fromnumeric.py:3118: RuntimeWarning: Mean of empty slice.\n",
      "  out=out, **kwargs)\n",
      "//anaconda/lib/python3.6/site-packages/numpy/core/_methods.py:85: RuntimeWarning: invalid value encountered in double_scalars\n",
      "  ret = ret.dtype.type(ret / rcount)\n"
     ]
    },
    {
     "name": "stdout",
     "output_type": "stream",
     "text": [
      "ID: 38  Game: numbersStarred   Session: 33   Window: 0   Time: 2019-02-16 13:16:49.017171\n",
      "ID: 38  Game: numbersStarred   Session: 33   Window: 1   Time: 2019-02-16 13:16:50.430734\n",
      "ID: 38  Game: numbersStarred   Session: 33   Window: 2   Time: 2019-02-16 13:16:52.112939\n",
      "ID: 38  Game: numbersStarred   Session: 33   Window: 3   Time: 2019-02-16 13:16:53.912846\n",
      "ID: 38  Game: numbersStarred   Session: 33   Window: 4   Time: 2019-02-16 13:16:55.362960\n",
      "ID: 38  Game: numbersStarred   Session: 33   Window: 5   Time: 2019-02-16 13:16:56.713078\n",
      "ID: 38  Game: numbersStarred   Session: 33   Window: 6   Time: 2019-02-16 13:16:58.063142\n",
      "ID: 38  Game: numbersStarred   Session: 33   Window: 7   Time: 2019-02-16 13:16:59.563293\n",
      "ID: 38  Game: numbersStarred   Session: 33   Window: 8   Time: 2019-02-16 13:17:00.863363\n",
      "ID: 38  Game: numbersStarred   Session: 33   Window: 9   Time: 2019-02-16 13:17:02.196778\n",
      "ID: 38  Game: numbersStarred   Session: 33   Window: 10   Time: 2019-02-16 13:17:04.330264\n",
      "ID: 38  Game: numbersStarred   Session: 33   Window: 11   Time: 2019-02-16 13:17:05.747040\n",
      "ID: 38  Game: numbersStarred   Session: 33   Window: 12   Time: 2019-02-16 13:17:07.430499\n",
      "ID: 38  Game: numbersStarred   Session: 33   Window: 13   Time: 2019-02-16 13:17:09.230627\n",
      "ID: 38  Game: numbersStarred   Session: 33   Window: 14   Time: 2019-02-16 13:17:10.747403\n",
      "ID: 38  Game: numbersStarred   Session: 33   Window: 15   Time: 2019-02-16 13:17:12.447548\n",
      "ID: 38  Game: numbersStarred   Session: 33   Window: 16   Time: 2019-02-16 13:17:13.964323\n",
      "ID: 38  Game: numbersStarred   Session: 33   Window: 17   Time: 2019-02-16 13:17:15.381133\n",
      "ID: 38  Game: numbersStarred   Session: 33   Window: 18   Time: 2019-02-16 13:17:17.064525\n",
      "ID: 38  Game: numbersStarred   Session: 33   Window: 19   Time: 2019-02-16 13:17:18.681290\n",
      "ID: 38  Game: numbersStarred   Session: 33   Window: 20   Time: 2019-02-16 13:17:20.414922\n",
      "ID: 38  Game: numbersStarred   Session: 33   Window: 21   Time: 2019-02-16 13:17:22.148251\n",
      "ID: 38  Game: numbersStarred   Session: 33   Window: 22   Time: 2019-02-16 13:17:24.148359\n",
      "ID: 38  Game: numbersStarred   Session: 33   Window: 23   Time: 2019-02-16 13:17:26.315222\n",
      "ID: 38  Game: numbersStarred   Session: 33   Window: 24   Time: 2019-02-16 13:17:27.815319\n",
      "ID: 38  Game: numbersStarred   Session: 33   Window: 25   Time: 2019-02-16 13:17:29.515623\n",
      "ID: 38  Game: numbersStarred   Session: 33   Window: 26   Time: 2019-02-16 13:17:31.065543\n",
      "ID: 38  Game: numbersStarred   Session: 33   Window: 27   Time: 2019-02-16 13:17:32.632373\n",
      "ID: 38  Game: numbersStarred   Session: 33   Window: 28   Time: 2019-02-16 13:17:34.232407\n",
      "ID: 38  Game: numbersStarred   Session: 33   Window: 29   Time: 2019-02-16 13:17:36.899326\n",
      "ID: 38  Game: numbersStarred   Session: 33   Window: 30   Time: 2019-02-16 13:17:38.399417\n",
      "ID: 38  Game: numbersStarred   Session: 33   Window: 31   Time: 2019-02-16 13:17:39.799566\n"
     ]
    },
    {
     "name": "stderr",
     "output_type": "stream",
     "text": [
      "//anaconda/lib/python3.6/site-packages/numpy/core/fromnumeric.py:3118: RuntimeWarning: Mean of empty slice.\n",
      "  out=out, **kwargs)\n",
      "//anaconda/lib/python3.6/site-packages/numpy/core/_methods.py:85: RuntimeWarning: invalid value encountered in double_scalars\n",
      "  ret = ret.dtype.type(ret / rcount)\n"
     ]
    },
    {
     "name": "stdout",
     "output_type": "stream",
     "text": [
      "ID: 38  Game: numbersStarred   Session: 34   Window: 0   Time: 2019-02-16 19:52:17.636466\n",
      "ID: 38  Game: numbersStarred   Session: 34   Window: 1   Time: 2019-02-16 19:52:19.114883\n",
      "ID: 38  Game: numbersStarred   Session: 34   Window: 2   Time: 2019-02-16 19:52:20.814982\n",
      "ID: 38  Game: numbersStarred   Session: 34   Window: 3   Time: 2019-02-16 19:52:22.915183\n",
      "ID: 38  Game: numbersStarred   Session: 34   Window: 4   Time: 2019-02-16 19:52:24.415283\n",
      "ID: 38  Game: numbersStarred   Session: 34   Window: 5   Time: 2019-02-16 19:52:26.532062\n",
      "ID: 38  Game: numbersStarred   Session: 34   Window: 6   Time: 2019-02-16 19:52:28.598822\n",
      "ID: 38  Game: numbersStarred   Session: 34   Window: 7   Time: 2019-02-16 19:52:30.098940\n",
      "ID: 38  Game: numbersStarred   Session: 34   Window: 8   Time: 2019-02-16 19:52:31.749061\n",
      "ID: 38  Game: numbersStarred   Session: 34   Window: 9   Time: 2019-02-16 19:52:33.665821\n",
      "ID: 38  Game: numbersStarred   Session: 34   Window: 10   Time: 2019-02-16 19:52:35.399302\n",
      "ID: 38  Game: numbersStarred   Session: 34   Window: 11   Time: 2019-02-16 19:52:36.916092\n",
      "ID: 38  Game: numbersStarred   Session: 34   Window: 12   Time: 2019-02-16 19:52:38.732854\n",
      "ID: 38  Game: numbersStarred   Session: 34   Window: 13   Time: 2019-02-16 19:52:40.283004\n",
      "ID: 38  Game: numbersStarred   Session: 34   Window: 14   Time: 2019-02-16 19:52:41.999708\n",
      "ID: 38  Game: numbersStarred   Session: 34   Window: 15   Time: 2019-02-16 19:52:44.316537\n",
      "ID: 38  Game: numbersStarred   Session: 34   Window: 16   Time: 2019-02-16 19:52:46.350005\n",
      "ID: 38  Game: numbersStarred   Session: 34   Window: 17   Time: 2019-02-16 19:52:47.966759\n",
      "ID: 38  Game: numbersStarred   Session: 34   Window: 18   Time: 2019-02-16 19:52:50.200264\n",
      "ID: 38  Game: numbersStarred   Session: 34   Window: 19   Time: 2019-02-16 19:52:52.067080\n",
      "ID: 38  Game: numbersStarred   Session: 34   Window: 20   Time: 2019-02-16 19:52:54.050508\n",
      "ID: 38  Game: numbersStarred   Session: 34   Window: 21   Time: 2019-02-16 19:52:56.300816\n",
      "ID: 38  Game: numbersStarred   Session: 34   Window: 22   Time: 2019-02-16 19:52:58.234125\n",
      "ID: 38  Game: numbersStarred   Session: 34   Window: 23   Time: 2019-02-16 19:53:00.001041\n",
      "ID: 38  Game: numbersStarred   Session: 34   Window: 24   Time: 2019-02-16 19:53:02.067775\n",
      "ID: 38  Game: numbersStarred   Session: 34   Window: 25   Time: 2019-02-16 19:53:03.851171\n",
      "ID: 38  Game: numbersStarred   Session: 34   Window: 26   Time: 2019-02-16 19:53:05.667966\n",
      "ID: 38  Game: numbersStarred   Session: 34   Window: 27   Time: 2019-02-16 19:53:07.151413\n",
      "ID: 38  Game: numbersStarred   Session: 34   Window: 28   Time: 2019-02-16 19:53:08.901537\n",
      "ID: 38  Game: numbersStarred   Session: 34   Window: 29   Time: 2019-02-16 19:53:11.435021\n",
      "ID: 38  Game: numbersStarred   Session: 34   Window: 30   Time: 2019-02-16 19:53:13.318489\n",
      "ID: 38  Game: numbersStarred   Session: 34   Window: 31   Time: 2019-02-16 19:53:15.035317\n"
     ]
    },
    {
     "name": "stderr",
     "output_type": "stream",
     "text": [
      "//anaconda/lib/python3.6/site-packages/numpy/core/fromnumeric.py:3118: RuntimeWarning: Mean of empty slice.\n",
      "  out=out, **kwargs)\n",
      "//anaconda/lib/python3.6/site-packages/numpy/core/_methods.py:85: RuntimeWarning: invalid value encountered in double_scalars\n",
      "  ret = ret.dtype.type(ret / rcount)\n"
     ]
    },
    {
     "name": "stdout",
     "output_type": "stream",
     "text": [
      "ID: 38  Game: numbersStarred   Session: 35   Window: 0   Time: 2019-02-17 08:37:17.656498\n",
      "ID: 38  Game: numbersStarred   Session: 35   Window: 1   Time: 2019-02-17 08:37:19.287722\n",
      "ID: 38  Game: numbersStarred   Session: 35   Window: 2   Time: 2019-02-17 08:37:20.804507\n",
      "ID: 38  Game: numbersStarred   Session: 35   Window: 3   Time: 2019-02-17 08:37:22.738036\n",
      "ID: 38  Game: numbersStarred   Session: 35   Window: 4   Time: 2019-02-17 08:37:24.304724\n",
      "ID: 38  Game: numbersStarred   Session: 35   Window: 5   Time: 2019-02-17 08:37:25.821555\n",
      "ID: 38  Game: numbersStarred   Session: 35   Window: 6   Time: 2019-02-17 08:37:27.538294\n",
      "ID: 38  Game: numbersStarred   Session: 35   Window: 7   Time: 2019-02-17 08:37:29.288397\n",
      "ID: 38  Game: numbersStarred   Session: 35   Window: 8   Time: 2019-02-17 08:37:30.871863\n",
      "ID: 38  Game: numbersStarred   Session: 35   Window: 9   Time: 2019-02-17 08:37:32.171962\n",
      "ID: 38  Game: numbersStarred   Session: 35   Window: 10   Time: 2019-02-17 08:37:33.505413\n",
      "ID: 38  Game: numbersStarred   Session: 35   Window: 11   Time: 2019-02-17 08:37:34.955464\n",
      "ID: 38  Game: numbersStarred   Session: 35   Window: 12   Time: 2019-02-17 08:37:36.939009\n",
      "ID: 38  Game: numbersStarred   Session: 35   Window: 13   Time: 2019-02-17 08:37:38.172355\n",
      "ID: 38  Game: numbersStarred   Session: 35   Window: 14   Time: 2019-02-17 08:37:39.555829\n",
      "ID: 38  Game: numbersStarred   Session: 35   Window: 15   Time: 2019-02-17 08:37:41.172701\n",
      "ID: 38  Game: numbersStarred   Session: 35   Window: 16   Time: 2019-02-17 08:37:42.922727\n",
      "ID: 38  Game: numbersStarred   Session: 35   Window: 17   Time: 2019-02-17 08:37:45.222889\n",
      "ID: 38  Game: numbersStarred   Session: 35   Window: 18   Time: 2019-02-17 08:37:46.672968\n",
      "ID: 38  Game: numbersStarred   Session: 35   Window: 19   Time: 2019-02-17 08:37:48.323128\n",
      "ID: 38  Game: numbersStarred   Session: 35   Window: 20   Time: 2019-02-17 08:37:49.873221\n",
      "ID: 38  Game: numbersStarred   Session: 35   Window: 21   Time: 2019-02-17 08:37:52.556718\n",
      "ID: 38  Game: numbersStarred   Session: 35   Window: 22   Time: 2019-02-17 08:37:53.940170\n",
      "ID: 38  Game: numbersStarred   Session: 35   Window: 23   Time: 2019-02-17 08:37:55.956962\n",
      "ID: 38  Game: numbersStarred   Session: 35   Window: 24   Time: 2019-02-17 08:37:57.690410\n",
      "ID: 38  Game: numbersStarred   Session: 35   Window: 25   Time: 2019-02-17 08:37:59.423898\n",
      "ID: 38  Game: numbersStarred   Session: 35   Window: 26   Time: 2019-02-17 08:38:01.340676\n",
      "ID: 38  Game: numbersStarred   Session: 35   Window: 27   Time: 2019-02-17 08:38:03.040797\n",
      "ID: 38  Game: numbersStarred   Session: 35   Window: 28   Time: 2019-02-17 08:38:04.724242\n",
      "ID: 38  Game: numbersStarred   Session: 35   Window: 29   Time: 2019-02-17 08:38:06.491117\n",
      "ID: 38  Game: numbersStarred   Session: 35   Window: 30   Time: 2019-02-17 08:38:08.141194\n",
      "ID: 38  Game: numbersStarred   Session: 35   Window: 31   Time: 2019-02-17 08:38:09.907902\n"
     ]
    },
    {
     "name": "stderr",
     "output_type": "stream",
     "text": [
      "//anaconda/lib/python3.6/site-packages/numpy/core/fromnumeric.py:3118: RuntimeWarning: Mean of empty slice.\n",
      "  out=out, **kwargs)\n",
      "//anaconda/lib/python3.6/site-packages/numpy/core/_methods.py:85: RuntimeWarning: invalid value encountered in double_scalars\n",
      "  ret = ret.dtype.type(ret / rcount)\n"
     ]
    },
    {
     "name": "stdout",
     "output_type": "stream",
     "text": [
      "ID: 38  Game: numbersStarred   Session: 36   Window: 0   Time: 2019-02-17 13:17:51.291207\n",
      "ID: 38  Game: numbersStarred   Session: 36   Window: 1   Time: 2019-02-17 13:17:52.938208\n",
      "ID: 38  Game: numbersStarred   Session: 36   Window: 2   Time: 2019-02-17 13:17:54.404788\n",
      "ID: 38  Game: numbersStarred   Session: 36   Window: 3   Time: 2019-02-17 13:17:55.654910\n",
      "ID: 38  Game: numbersStarred   Session: 36   Window: 4   Time: 2019-02-17 13:17:57.471684\n",
      "ID: 38  Game: numbersStarred   Session: 36   Window: 5   Time: 2019-02-17 13:17:59.071783\n",
      "ID: 38  Game: numbersStarred   Session: 36   Window: 6   Time: 2019-02-17 13:18:00.605239\n",
      "ID: 38  Game: numbersStarred   Session: 36   Window: 7   Time: 2019-02-17 13:18:02.205389\n",
      "ID: 38  Game: numbersStarred   Session: 36   Window: 8   Time: 2019-02-17 13:18:04.605536\n",
      "ID: 38  Game: numbersStarred   Session: 36   Window: 9   Time: 2019-02-17 13:18:06.905681\n",
      "ID: 38  Game: numbersStarred   Session: 36   Window: 10   Time: 2019-02-17 13:18:08.122439\n",
      "ID: 38  Game: numbersStarred   Session: 36   Window: 11   Time: 2019-02-17 13:18:09.755880\n",
      "ID: 38  Game: numbersStarred   Session: 36   Window: 12   Time: 2019-02-17 13:18:12.656092\n",
      "ID: 38  Game: numbersStarred   Session: 36   Window: 13   Time: 2019-02-17 13:18:14.089528\n",
      "ID: 38  Game: numbersStarred   Session: 36   Window: 14   Time: 2019-02-17 13:18:15.389573\n",
      "ID: 38  Game: numbersStarred   Session: 36   Window: 15   Time: 2019-02-17 13:18:17.139744\n",
      "ID: 38  Game: numbersStarred   Session: 36   Window: 16   Time: 2019-02-17 13:18:18.856520\n",
      "ID: 38  Game: numbersStarred   Session: 36   Window: 17   Time: 2019-02-17 13:18:20.673392\n",
      "ID: 38  Game: numbersStarred   Session: 36   Window: 18   Time: 2019-02-17 13:18:22.873513\n",
      "ID: 38  Game: numbersStarred   Session: 36   Window: 19   Time: 2019-02-17 13:18:24.323590\n",
      "ID: 38  Game: numbersStarred   Session: 36   Window: 20   Time: 2019-02-17 13:18:26.006995\n",
      "ID: 38  Game: numbersStarred   Session: 36   Window: 21   Time: 2019-02-17 13:18:27.540527\n",
      "ID: 38  Game: numbersStarred   Session: 36   Window: 22   Time: 2019-02-17 13:18:29.273976\n",
      "ID: 38  Game: numbersStarred   Session: 36   Window: 23   Time: 2019-02-17 13:18:31.607486\n",
      "ID: 38  Game: numbersStarred   Session: 36   Window: 24   Time: 2019-02-17 13:18:33.040922\n",
      "ID: 38  Game: numbersStarred   Session: 36   Window: 25   Time: 2019-02-17 13:18:34.857680\n",
      "ID: 38  Game: numbersStarred   Session: 36   Window: 26   Time: 2019-02-17 13:18:36.341126\n",
      "ID: 38  Game: numbersStarred   Session: 36   Window: 27   Time: 2019-02-17 13:18:38.624639\n",
      "ID: 38  Game: numbersStarred   Session: 36   Window: 28   Time: 2019-02-17 13:18:40.741436\n",
      "ID: 38  Game: numbersStarred   Session: 36   Window: 29   Time: 2019-02-17 13:18:42.091516\n",
      "ID: 38  Game: numbersStarred   Session: 36   Window: 30   Time: 2019-02-17 13:18:43.558290\n",
      "ID: 38  Game: numbersStarred   Session: 36   Window: 31   Time: 2019-02-17 13:18:45.775109\n"
     ]
    },
    {
     "name": "stderr",
     "output_type": "stream",
     "text": [
      "//anaconda/lib/python3.6/site-packages/numpy/core/fromnumeric.py:3118: RuntimeWarning: Mean of empty slice.\n",
      "  out=out, **kwargs)\n",
      "//anaconda/lib/python3.6/site-packages/numpy/core/_methods.py:85: RuntimeWarning: invalid value encountered in double_scalars\n",
      "  ret = ret.dtype.type(ret / rcount)\n"
     ]
    },
    {
     "name": "stdout",
     "output_type": "stream",
     "text": [
      "ID: 38  Game: numbersStarred   Session: 37   Window: 0   Time: 2019-02-17 19:47:19.103651\n",
      "ID: 38  Game: numbersStarred   Session: 37   Window: 1   Time: 2019-02-17 19:47:21.517289\n",
      "ID: 38  Game: numbersStarred   Session: 37   Window: 2   Time: 2019-02-17 19:47:22.983996\n",
      "ID: 38  Game: numbersStarred   Session: 37   Window: 3   Time: 2019-02-17 19:47:25.200933\n",
      "ID: 38  Game: numbersStarred   Session: 37   Window: 4   Time: 2019-02-17 19:47:27.067692\n",
      "ID: 38  Game: numbersStarred   Session: 37   Window: 5   Time: 2019-02-17 19:47:28.817752\n",
      "ID: 38  Game: numbersStarred   Session: 37   Window: 6   Time: 2019-02-17 19:47:30.317825\n",
      "ID: 38  Game: numbersStarred   Session: 37   Window: 7   Time: 2019-02-17 19:47:32.134689\n",
      "ID: 38  Game: numbersStarred   Session: 37   Window: 8   Time: 2019-02-17 19:47:34.268168\n",
      "ID: 38  Game: numbersStarred   Session: 37   Window: 9   Time: 2019-02-17 19:47:36.051575\n",
      "ID: 38  Game: numbersStarred   Session: 37   Window: 10   Time: 2019-02-17 19:47:37.251657\n",
      "ID: 38  Game: numbersStarred   Session: 37   Window: 11   Time: 2019-02-17 19:47:38.468432\n",
      "ID: 38  Game: numbersStarred   Session: 37   Window: 12   Time: 2019-02-17 19:47:40.551890\n",
      "ID: 38  Game: numbersStarred   Session: 37   Window: 13   Time: 2019-02-17 19:47:42.602102\n",
      "ID: 38  Game: numbersStarred   Session: 37   Window: 14   Time: 2019-02-17 19:47:44.735523\n",
      "ID: 38  Game: numbersStarred   Session: 37   Window: 15   Time: 2019-02-17 19:47:46.702325\n",
      "ID: 38  Game: numbersStarred   Session: 37   Window: 16   Time: 2019-02-17 19:47:48.819138\n",
      "ID: 38  Game: numbersStarred   Session: 37   Window: 17   Time: 2019-02-17 19:47:50.869279\n",
      "ID: 38  Game: numbersStarred   Session: 37   Window: 18   Time: 2019-02-17 19:47:52.486169\n",
      "ID: 38  Game: numbersStarred   Session: 37   Window: 19   Time: 2019-02-17 19:47:54.236209\n",
      "ID: 38  Game: numbersStarred   Session: 37   Window: 20   Time: 2019-02-17 19:47:56.403016\n",
      "ID: 38  Game: numbersStarred   Session: 37   Window: 21   Time: 2019-02-17 19:47:57.869733\n",
      "ID: 38  Game: numbersStarred   Session: 37   Window: 22   Time: 2019-02-17 19:47:59.436523\n",
      "ID: 38  Game: numbersStarred   Session: 37   Window: 23   Time: 2019-02-17 19:48:01.888117\n",
      "ID: 38  Game: numbersStarred   Session: 37   Window: 24   Time: 2019-02-17 19:48:04.437009\n",
      "ID: 38  Game: numbersStarred   Session: 37   Window: 25   Time: 2019-02-17 19:48:06.103734\n",
      "ID: 38  Game: numbersStarred   Session: 37   Window: 26   Time: 2019-02-17 19:48:07.853801\n",
      "ID: 38  Game: numbersStarred   Session: 37   Window: 27   Time: 2019-02-17 19:48:09.604119\n",
      "ID: 38  Game: numbersStarred   Session: 37   Window: 28   Time: 2019-02-17 19:48:11.037347\n",
      "ID: 38  Game: numbersStarred   Session: 37   Window: 29   Time: 2019-02-17 19:48:12.754143\n",
      "ID: 38  Game: numbersStarred   Session: 37   Window: 30   Time: 2019-02-17 19:48:14.854257\n",
      "ID: 38  Game: numbersStarred   Session: 37   Window: 31   Time: 2019-02-17 19:48:17.254541\n"
     ]
    },
    {
     "name": "stderr",
     "output_type": "stream",
     "text": [
      "//anaconda/lib/python3.6/site-packages/numpy/core/fromnumeric.py:3118: RuntimeWarning: Mean of empty slice.\n",
      "  out=out, **kwargs)\n",
      "//anaconda/lib/python3.6/site-packages/numpy/core/_methods.py:85: RuntimeWarning: invalid value encountered in double_scalars\n",
      "  ret = ret.dtype.type(ret / rcount)\n"
     ]
    },
    {
     "name": "stdout",
     "output_type": "stream",
     "text": [
      "Average time of compleation of numbersStarredin consecutive sessions\n",
      "[2.31088435 1.82784998 1.6636718  2.24646968 1.97901713 1.78999176\n",
      " 1.44575189 1.29273879 1.19051466 1.23050911 1.16860438 1.35099812\n",
      " 1.31041592 1.61565333 1.4565097  1.11058765 1.05252799 1.13046788\n",
      " 1.09368497 1.21690139 1.10990243 1.17061956 1.12914155 1.08516859\n",
      " 1.07805464 1.04717509 1.19152638 1.00662443 1.02115367 1.17695531\n",
      " 1.03789286 1.14674727 1.17702531]\n",
      "Number of incorrect answers\n",
      "[3, 1, 1, 2, 1, 5, 0, 2, 1, 5, 5, 6, 2, 1, 2, 5, 3, 1, 2, 1, 4, 1, 1, 0, 2, 1, 1, 0, 0, 1, 0, 1, 1]\n"
     ]
    },
    {
     "data": {
      "image/png": "[encoded data removed]",
      "text/plain": [
       "<Figure size 432x288 with 1 Axes>"
      ]
     },
     "metadata": {
      "needs_background": "light"
     },
     "output_type": "display_data"
    },
    {
     "data": {
      "image/png": "[encoded data removed]",
      "text/plain": [
       "<Figure size 864x432 with 1 Axes>"
      ]
     },
     "metadata": {
      "needs_background": "light"
     },
     "output_type": "display_data"
    },
    {
     "name": "stdout",
     "output_type": "stream",
     "text": [
      "Correlation between event and reaction times: 0.9611281965162554\n",
      "Correlation between event and reaction times without nans: 0.9611281965162554\n",
      "Correlation between event times without nans and L1: 0.10871312337468675\n",
      "Total incorrect (%):           5.646630236794172\n",
      "Incorrect with Star (%):       50.0\n",
      "Fallen for Star (%):           38.70967741935484\n",
      "Incorrect without Star (%):    50.0\n",
      "Incorrect with flip (%):       0.0\n",
      "Incorrect without flip (%):    100.0\n",
      "Total incorrect via flip (%):  100.0\n",
      "Total incorr. with lure (%):   19.35483870967742\n",
      "Incorr. 2nd and 3rd attempt:   17.741935483870968\n"
     ]
    },
    {
     "data": {
      "image/png": "[encoded data removed]",
      "text/plain": [
       "<Figure size 432x288 with 1 Axes>"
      ]
     },
     "metadata": {
      "needs_background": "light"
     },
     "output_type": "display_data"
    }
   ],
   "source": [
    "%run -i 'parserStarNof1.py'"
   ]
  },
  {
   "cell_type": "markdown",
   "metadata": {
    "slideshow": {
     "slide_type": "fragment"
    }
   },
   "source": [
    "ID: 38  Game: numbersStarred   Session: 37"
   ]
  },
  {
   "cell_type": "markdown",
   "metadata": {
    "slideshow": {
     "slide_type": "slide"
    }
   },
   "source": [
    "### Inhibition in 'numberStarred'\n",
    "\n",
    "- Let us now look into the output measures of the signal related to the specific game. \n",
    "\n",
    "- In our case, we focus on 'numberStarred' and the effect of inhibition."
   ]
  },
  {
   "cell_type": "code",
   "execution_count": 7,
   "metadata": {
    "slideshow": {
     "slide_type": "subslide"
    }
   },
   "outputs": [],
   "source": [
    "\"\"\"\n",
    "'Correct' is binary: 1 for a correct, 0 for incorrect answer\n",
    "'Star' is binary: 1 when star present, 0 when star absent\n",
    "'ET' is real: Event Time as recorded by the app\n",
    "'RT': Reaction time as computed\n",
    "'L1_trig': L1 norm of the triggering axis\n",
    "'L1_rem': L1 norm of the remaining axis\n",
    "'MD_trig': Maximal Deviation in opposite direction on the triggering axis\n",
    "'MD_rem': Max Deviation of the remaining axis\n",
    "'flip_trig': number of flips (turns) on the triggering axis\n",
    "'flip_rem': number of flips on the remaining axis\n",
    "'SE_trig': Sample Entropy of the triggering axis\n",
    "'SE_rem': Sample Entropy on the remaining axis\n",
    "\"\"\"\n",
    "\n",
    "out_df = pandas.DataFrame({\n",
    "                        'Correct':corrIncorr_label,\n",
    "                        'Star':array_st_all,\n",
    "                        'ET':time_event_all_values,\n",
    "                        'RT':time_reaction_all_values,\n",
    "                        'L1_trig':L1_trigger_all,\n",
    "                        'L1_rem':L1_remaining_all,\n",
    "                        'MD_trig':MD_trigger_all, \n",
    "                        'MD_rem': MD_remaining_all,\n",
    "                        'flip_trig':flips_trigger_all,\n",
    "                        'flip_rem':flips_remaining_all,\n",
    "                        'SE_trig':SE_y_all,\n",
    "                        'SE_rem': SE_z_all\n",
    "                        })"
   ]
  },
  {
   "cell_type": "markdown",
   "metadata": {
    "slideshow": {
     "slide_type": "subslide"
    }
   },
   "source": [
    "- We are looking into the data genegared by person ID = 38. \n",
    "\n",
    "- The person has played 37 sessions of __numberStarred__ game. \n",
    "\n",
    "The number of trials played is given by:"
   ]
  },
  {
   "cell_type": "code",
   "execution_count": 8,
   "metadata": {
    "scrolled": true,
    "slideshow": {
     "slide_type": "fragment"
    }
   },
   "outputs": [
    {
     "name": "stdout",
     "output_type": "stream",
     "text": [
      "Number of trials played by ID = 38 is 1098.\n"
     ]
    }
   ],
   "source": [
    "print('Number of trials played by ID = %g is %g.' %(ID,len(out_df)))"
   ]
  },
  {
   "cell_type": "markdown",
   "metadata": {
    "slideshow": {
     "slide_type": "subslide"
    }
   },
   "source": [
    "Let us drop NaN values and take a look into the generated dataframe."
   ]
  },
  {
   "cell_type": "code",
   "execution_count": 9,
   "metadata": {
    "slideshow": {
     "slide_type": "fragment"
    }
   },
   "outputs": [
    {
     "name": "stdout",
     "output_type": "stream",
     "text": [
      "Number of trials after removing missing values is 1098.\n"
     ]
    },
    {
     "data": {
      "text/html": [
       "<div>\n",
       "<style scoped>\n",
       "    .dataframe tbody tr th:only-of-type {\n",
       "        vertical-align: middle;\n",
       "    }\n",
       "\n",
       "    .dataframe tbody tr th {\n",
       "        vertical-align: top;\n",
       "    }\n",
       "\n",
       "    .dataframe thead th {\n",
       "        text-align: right;\n",
       "    }\n",
       "</style>\n",
       "<table border=\"1\" class=\"dataframe\">\n",
       "  <thead>\n",
       "    <tr style=\"text-align: right;\">\n",
       "      <th></th>\n",
       "      <th>Correct</th>\n",
       "      <th>Star</th>\n",
       "      <th>ET</th>\n",
       "      <th>RT</th>\n",
       "      <th>L1_trig</th>\n",
       "      <th>L1_rem</th>\n",
       "      <th>MD_trig</th>\n",
       "      <th>MD_rem</th>\n",
       "      <th>flip_trig</th>\n",
       "      <th>flip_rem</th>\n",
       "      <th>SE_trig</th>\n",
       "      <th>SE_rem</th>\n",
       "    </tr>\n",
       "  </thead>\n",
       "  <tbody>\n",
       "    <tr>\n",
       "      <th>0</th>\n",
       "      <td>1</td>\n",
       "      <td>0</td>\n",
       "      <td>1.91274</td>\n",
       "      <td>1.379466</td>\n",
       "      <td>0.401345</td>\n",
       "      <td>0.007522</td>\n",
       "      <td>0.002319</td>\n",
       "      <td>0.029438</td>\n",
       "      <td>1.0</td>\n",
       "      <td>2.0</td>\n",
       "      <td>0.020834</td>\n",
       "      <td>0.024382</td>\n",
       "    </tr>\n",
       "    <tr>\n",
       "      <th>1</th>\n",
       "      <td>1</td>\n",
       "      <td>0</td>\n",
       "      <td>1.80024</td>\n",
       "      <td>1.539375</td>\n",
       "      <td>0.383120</td>\n",
       "      <td>0.013041</td>\n",
       "      <td>0.062588</td>\n",
       "      <td>0.018813</td>\n",
       "      <td>3.0</td>\n",
       "      <td>6.0</td>\n",
       "      <td>0.020834</td>\n",
       "      <td>0.023371</td>\n",
       "    </tr>\n",
       "    <tr>\n",
       "      <th>2</th>\n",
       "      <td>1</td>\n",
       "      <td>0</td>\n",
       "      <td>1.21662</td>\n",
       "      <td>0.869690</td>\n",
       "      <td>0.551969</td>\n",
       "      <td>0.009854</td>\n",
       "      <td>0.151736</td>\n",
       "      <td>0.015861</td>\n",
       "      <td>2.0</td>\n",
       "      <td>4.0</td>\n",
       "      <td>0.020834</td>\n",
       "      <td>0.028523</td>\n",
       "    </tr>\n",
       "    <tr>\n",
       "      <th>3</th>\n",
       "      <td>0</td>\n",
       "      <td>1</td>\n",
       "      <td>1.93337</td>\n",
       "      <td>1.719315</td>\n",
       "      <td>0.512425</td>\n",
       "      <td>0.175728</td>\n",
       "      <td>0.021988</td>\n",
       "      <td>0.505568</td>\n",
       "      <td>3.0</td>\n",
       "      <td>3.0</td>\n",
       "      <td>0.020834</td>\n",
       "      <td>0.022857</td>\n",
       "    </tr>\n",
       "    <tr>\n",
       "      <th>4</th>\n",
       "      <td>1</td>\n",
       "      <td>1</td>\n",
       "      <td>1.56119</td>\n",
       "      <td>1.289464</td>\n",
       "      <td>0.639767</td>\n",
       "      <td>0.093573</td>\n",
       "      <td>0.475433</td>\n",
       "      <td>0.143712</td>\n",
       "      <td>3.0</td>\n",
       "      <td>4.0</td>\n",
       "      <td>0.022833</td>\n",
       "      <td>0.020834</td>\n",
       "    </tr>\n",
       "  </tbody>\n",
       "</table>\n",
       "</div>"
      ],
      "text/plain": [
       "   Correct  Star       ET        RT   L1_trig    L1_rem   MD_trig    MD_rem  \\\n",
       "0        1     0  1.91274  1.379466  0.401345  0.007522  0.002319  0.029438   \n",
       "1        1     0  1.80024  1.539375  0.383120  0.013041  0.062588  0.018813   \n",
       "2        1     0  1.21662  0.869690  0.551969  0.009854  0.151736  0.015861   \n",
       "3        0     1  1.93337  1.719315  0.512425  0.175728  0.021988  0.505568   \n",
       "4        1     1  1.56119  1.289464  0.639767  0.093573  0.475433  0.143712   \n",
       "\n",
       "   flip_trig  flip_rem   SE_trig    SE_rem  \n",
       "0        1.0       2.0  0.020834  0.024382  \n",
       "1        3.0       6.0  0.020834  0.023371  \n",
       "2        2.0       4.0  0.020834  0.028523  \n",
       "3        3.0       3.0  0.020834  0.022857  \n",
       "4        3.0       4.0  0.022833  0.020834  "
      ]
     },
     "execution_count": 9,
     "metadata": {},
     "output_type": "execute_result"
    }
   ],
   "source": [
    "out_df = out_df.dropna()\n",
    "print('Number of trials after removing missing values is %g.' %len(out_df))\n",
    "out_df.head()"
   ]
  },
  {
   "cell_type": "markdown",
   "metadata": {
    "slideshow": {
     "slide_type": "subslide"
    }
   },
   "source": [
    "We will make two dataframes - one corresponding to the trials with star and one to the trials without star present on the screen."
   ]
  },
  {
   "cell_type": "code",
   "execution_count": 10,
   "metadata": {
    "slideshow": {
     "slide_type": "fragment"
    }
   },
   "outputs": [],
   "source": [
    "# set with Star(s)\n",
    "out_Star = out_df[(out_df.Correct == 1) & (out_df.Star == 1)]\n",
    "# set withot Star(s)\n",
    "out_noStar = out_df[(out_df.Correct == 1) & (out_df.Star == 0)]"
   ]
  },
  {
   "cell_type": "markdown",
   "metadata": {
    "slideshow": {
     "slide_type": "fragment"
    }
   },
   "source": [
    "Let us remove now superfluous columns 'Correct' and 'Star'. \n",
    "\n",
    "__Note.__ *This means that we restrict our analysis only to the case when __answers are correct__.*"
   ]
  },
  {
   "cell_type": "code",
   "execution_count": 11,
   "metadata": {
    "slideshow": {
     "slide_type": "fragment"
    }
   },
   "outputs": [
    {
     "data": {
      "text/html": [
       "<div>\n",
       "<style scoped>\n",
       "    .dataframe tbody tr th:only-of-type {\n",
       "        vertical-align: middle;\n",
       "    }\n",
       "\n",
       "    .dataframe tbody tr th {\n",
       "        vertical-align: top;\n",
       "    }\n",
       "\n",
       "    .dataframe thead th {\n",
       "        text-align: right;\n",
       "    }\n",
       "</style>\n",
       "<table border=\"1\" class=\"dataframe\">\n",
       "  <thead>\n",
       "    <tr style=\"text-align: right;\">\n",
       "      <th></th>\n",
       "      <th>ET</th>\n",
       "      <th>RT</th>\n",
       "      <th>L1_trig</th>\n",
       "      <th>L1_rem</th>\n",
       "      <th>MD_trig</th>\n",
       "      <th>MD_rem</th>\n",
       "      <th>flip_trig</th>\n",
       "      <th>flip_rem</th>\n",
       "      <th>SE_trig</th>\n",
       "      <th>SE_rem</th>\n",
       "    </tr>\n",
       "  </thead>\n",
       "  <tbody>\n",
       "    <tr>\n",
       "      <th>4</th>\n",
       "      <td>1.56119</td>\n",
       "      <td>1.289464</td>\n",
       "      <td>0.639767</td>\n",
       "      <td>0.093573</td>\n",
       "      <td>0.475433</td>\n",
       "      <td>0.143712</td>\n",
       "      <td>3.0</td>\n",
       "      <td>4.0</td>\n",
       "      <td>0.022833</td>\n",
       "      <td>0.020834</td>\n",
       "    </tr>\n",
       "    <tr>\n",
       "      <th>8</th>\n",
       "      <td>4.66648</td>\n",
       "      <td>4.258410</td>\n",
       "      <td>0.538255</td>\n",
       "      <td>0.015579</td>\n",
       "      <td>0.472238</td>\n",
       "      <td>0.072598</td>\n",
       "      <td>3.0</td>\n",
       "      <td>3.0</td>\n",
       "      <td>0.022185</td>\n",
       "      <td>0.020834</td>\n",
       "    </tr>\n",
       "    <tr>\n",
       "      <th>10</th>\n",
       "      <td>2.69677</td>\n",
       "      <td>2.349098</td>\n",
       "      <td>0.539925</td>\n",
       "      <td>0.071385</td>\n",
       "      <td>0.495058</td>\n",
       "      <td>0.111622</td>\n",
       "      <td>5.0</td>\n",
       "      <td>2.0</td>\n",
       "      <td>0.020834</td>\n",
       "      <td>0.070581</td>\n",
       "    </tr>\n",
       "    <tr>\n",
       "      <th>11</th>\n",
       "      <td>2.03043</td>\n",
       "      <td>1.509407</td>\n",
       "      <td>0.549904</td>\n",
       "      <td>0.034633</td>\n",
       "      <td>0.445146</td>\n",
       "      <td>0.090589</td>\n",
       "      <td>4.0</td>\n",
       "      <td>12.0</td>\n",
       "      <td>0.026283</td>\n",
       "      <td>0.024098</td>\n",
       "    </tr>\n",
       "    <tr>\n",
       "      <th>12</th>\n",
       "      <td>4.18215</td>\n",
       "      <td>3.778574</td>\n",
       "      <td>0.489068</td>\n",
       "      <td>0.040705</td>\n",
       "      <td>0.496461</td>\n",
       "      <td>0.101787</td>\n",
       "      <td>3.0</td>\n",
       "      <td>1.0</td>\n",
       "      <td>0.020834</td>\n",
       "      <td>0.033715</td>\n",
       "    </tr>\n",
       "  </tbody>\n",
       "</table>\n",
       "</div>"
      ],
      "text/plain": [
       "         ET        RT   L1_trig    L1_rem   MD_trig    MD_rem  flip_trig  \\\n",
       "4   1.56119  1.289464  0.639767  0.093573  0.475433  0.143712        3.0   \n",
       "8   4.66648  4.258410  0.538255  0.015579  0.472238  0.072598        3.0   \n",
       "10  2.69677  2.349098  0.539925  0.071385  0.495058  0.111622        5.0   \n",
       "11  2.03043  1.509407  0.549904  0.034633  0.445146  0.090589        4.0   \n",
       "12  4.18215  3.778574  0.489068  0.040705  0.496461  0.101787        3.0   \n",
       "\n",
       "    flip_rem   SE_trig    SE_rem  \n",
       "4        4.0  0.022833  0.020834  \n",
       "8        3.0  0.022185  0.020834  \n",
       "10       2.0  0.020834  0.070581  \n",
       "11      12.0  0.026283  0.024098  \n",
       "12       1.0  0.020834  0.033715  "
      ]
     },
     "execution_count": 11,
     "metadata": {},
     "output_type": "execute_result"
    }
   ],
   "source": [
    "out_Star = out_Star.drop(['Correct','Star'], axis = 1)\n",
    "out_noStar = out_noStar.drop(['Correct','Star'], axis = 1)\n",
    "out_Star.head()"
   ]
  },
  {
   "cell_type": "markdown",
   "metadata": {
    "slideshow": {
     "slide_type": "slide"
    }
   },
   "source": [
    "## Finding a statistical significance\n",
    "\n",
    "Let us examin the behaviour of L1 norms on the leading (triggering) and remaining axis."
   ]
  },
  {
   "cell_type": "code",
   "execution_count": 13,
   "metadata": {
    "slideshow": {
     "slide_type": "subslide"
    }
   },
   "outputs": [
    {
     "data": {
      "image/png": "[encoded data removed]",
      "text/plain": [
       "<Figure size 432x288 with 1 Axes>"
      ]
     },
     "metadata": {
      "needs_background": "light"
     },
     "output_type": "display_data"
    }
   ],
   "source": [
    "plt.title('L1 norms of the triggering axis with Star present/absent')\n",
    "out_noStar.L1_trig.hist(alpha=0.5)\n",
    "out_Star.L1_trig.hist(alpha=0.5)\n",
    "plt.show()"
   ]
  },
  {
   "cell_type": "markdown",
   "metadata": {
    "slideshow": {
     "slide_type": "fragment"
    }
   },
   "source": [
    "Upon visual inspection, the histograms look like they could be generated by a normal distribution. This is a good news since this allows us to use standard tests like t-test. But to make sure that this is the case beyond visual inspection, we shall condact a normal test."
   ]
  },
  {
   "cell_type": "code",
   "execution_count": 14,
   "metadata": {
    "slideshow": {
     "slide_type": "subslide"
    }
   },
   "outputs": [],
   "source": [
    "def normalityTest(x):\n",
    "    from scipy import stats\n",
    "    k, p = stats.normaltest(x)\n",
    "    alpha = 1e-3\n",
    "    print(\"p = {:g}\".format(p))\n",
    "    if p < alpha:  # null hypothesis: out_Star.L1_trig comes from a normal distribution\n",
    "        print(\"The null hypothesis can be rejected\")\n",
    "    else:\n",
    "        print(\"The null hypothesis cannot be rejected\")"
   ]
  },
  {
   "cell_type": "code",
   "execution_count": 15,
   "metadata": {
    "slideshow": {
     "slide_type": "fragment"
    }
   },
   "outputs": [
    {
     "name": "stdout",
     "output_type": "stream",
     "text": [
      "p = 0.651486\n",
      "The null hypothesis cannot be rejected\n",
      "p = 0.973625\n",
      "The null hypothesis cannot be rejected\n"
     ]
    }
   ],
   "source": [
    "normalityTest(out_noStar.L1_trig)\n",
    "normalityTest(out_Star.L1_trig)"
   ]
  },
  {
   "cell_type": "markdown",
   "metadata": {
    "slideshow": {
     "slide_type": "slide"
    }
   },
   "source": [
    "### T-test Statistics\n",
    "\n",
    "The Student’s t-Test is a statistical hypothesis test for testing whether two samples are expected to have been drawn from the same population.\n",
    "\n",
    "The p-value is compared to a chosen significance level (alpha) such as 0.05 or in our case 0.001 to determine if the null hypothesis can be rejected:\n",
    "\n",
    "- If $p >$ alpha: Accept null hypothesis that the means are equal.\n",
    "- If $p <=$ alpha: Reject null hypothesis that the means are equal.\n"
   ]
  },
  {
   "cell_type": "markdown",
   "metadata": {
    "slideshow": {
     "slide_type": "subslide"
    }
   },
   "source": [
    "We shall use scipy.stats to calculate the T-test for the means of two independent samples of scores."
   ]
  },
  {
   "cell_type": "code",
   "execution_count": 16,
   "metadata": {
    "slideshow": {
     "slide_type": "subslide"
    }
   },
   "outputs": [
    {
     "name": "stdout",
     "output_type": "stream",
     "text": [
      "ttest_ind:       t = -14.933  p = 1.41804e-45\n"
     ]
    }
   ],
   "source": [
    "from scipy.stats import ttest_ind, ttest_ind_from_stats\n",
    "from scipy.special import stdtr\n",
    "\n",
    "a = out_noStar.L1_trig\n",
    "b = out_Star.L1_trig\n",
    "# Use scipy.stats.ttest_ind.\n",
    "t, p = ttest_ind(a, b, equal_var=False)\n",
    "print(\"ttest_ind:       t = %g  p = %g\" % (t, p))"
   ]
  },
  {
   "cell_type": "markdown",
   "metadata": {
    "slideshow": {
     "slide_type": "subslide"
    }
   },
   "source": [
    "Now, let us look how $L_1$-norms along the remaining axis behaves. Notice that we will have to make a log transformation because the non-Gaussian properties of the $L_1$-norms along the nonleading axis."
   ]
  },
  {
   "cell_type": "code",
   "execution_count": 17,
   "metadata": {
    "slideshow": {
     "slide_type": "subslide"
    }
   },
   "outputs": [
    {
     "name": "stdout",
     "output_type": "stream",
     "text": [
      "ttest_ind:       t = -1.81812  p = 0.0693348\n"
     ]
    }
   ],
   "source": [
    "t, p = ttest_ind(numpy.log(out_noStar.L1_rem), numpy.log(out_Star.L1_rem), equal_var=False)\n",
    "print(\"ttest_ind:       t = %g  p = %g\" % (t, p))"
   ]
  },
  {
   "cell_type": "markdown",
   "metadata": {
    "slideshow": {
     "slide_type": "fragment"
    }
   },
   "source": [
    "We do not observe a statistical significance. **Question:** Why?\n",
    "\n",
    "**Answer:** Because the nonleading axis is not relevant to pure inhibition."
   ]
  },
  {
   "cell_type": "markdown",
   "metadata": {
    "slideshow": {
     "slide_type": "slide"
    }
   },
   "source": [
    "### Calculate Difference Effect Size\n",
    "\n",
    "The difference between groups is often referred to as the “d family” of effect size methods.\n",
    "\n",
    "This name comes from perhaps the most common method for calculating the difference between the mean value of groups, called Cohen’s d."
   ]
  },
  {
   "cell_type": "markdown",
   "metadata": {
    "slideshow": {
     "slide_type": "subslide"
    }
   },
   "source": [
    "Cohen’s d measures the difference between the mean from two Gaussian-distributed variables. It is a standard score that summarizes the difference in terms of the number of standard deviations. Because the score is standardized, there is a table for the interpretation of the result, summarized as:\n",
    "\n",
    "- Small Effect Size: d=0.20\n",
    "- Medium Effect Size: d=0.50\n",
    "- Large Effect Size: d=0.80"
   ]
  },
  {
   "cell_type": "markdown",
   "metadata": {
    "slideshow": {
     "slide_type": "subslide"
    }
   },
   "source": [
    "- The Cohen’s d calculation is not provided in Python; we can calculate it manually.\n",
    "- The function below will calculate the Cohen’s d measure for two samples of real-valued variables."
   ]
  },
  {
   "cell_type": "code",
   "execution_count": 18,
   "metadata": {
    "slideshow": {
     "slide_type": "subslide"
    }
   },
   "outputs": [],
   "source": [
    "from numpy.random import seed\n",
    "from numpy import mean\n",
    "from numpy import var\n",
    "from math import sqrt\n",
    "\n",
    "def cohend(d1, d2):\n",
    "    # calculate the size of samples\n",
    "    n1, n2 = len(d1), len(d2)\n",
    "    # calculate the variance of the samples\n",
    "    s1, s2 = var(d1, ddof=1), var(d2, ddof=1)\n",
    "    # calculate the pooled standard deviation\n",
    "    s = sqrt(((n1 - 1) * s1 + (n2 - 1) * s2) / (n1 + n2 - 2))\n",
    "    # calculate the means of the samples\n",
    "    u1, u2 = mean(d1), mean(d2)\n",
    "    # calculate the effect size\n",
    "    return (u1 - u2) / s"
   ]
  },
  {
   "cell_type": "markdown",
   "metadata": {
    "slideshow": {
     "slide_type": "subslide"
    }
   },
   "source": [
    "Let us define a custom function *ttest*, which will compute t, p, and Cohen-d."
   ]
  },
  {
   "cell_type": "code",
   "execution_count": 21,
   "metadata": {
    "scrolled": true,
    "slideshow": {
     "slide_type": "subslide"
    }
   },
   "outputs": [
    {
     "name": "stdout",
     "output_type": "stream",
     "text": [
      "ttest_ind:      t = 14.933  p = 1.41804e-45   Cohen-d = 0.936421\n"
     ]
    }
   ],
   "source": [
    "def ttest(a,b):\n",
    "    t, p = ttest_ind(b, a, equal_var=False)\n",
    "    print(\"ttest_ind:      t = %g  p = %g   Cohen-d = %g\" % (t, p, cohend(b,a)))\n",
    "\n",
    "ttest(out_noStar.L1_trig,out_Star.L1_trig)"
   ]
  },
  {
   "cell_type": "markdown",
   "metadata": {
    "slideshow": {
     "slide_type": "subslide"
    }
   },
   "source": [
    "Notice a wanishing p-value ( $\\ll 0.001$ ) and a large effect size ( $0.94 > 0.8$ )."
   ]
  },
  {
   "cell_type": "markdown",
   "metadata": {
    "slideshow": {
     "slide_type": "slide"
    }
   },
   "source": [
    "## Looking into the Remaining Variables\n",
    "\n",
    "- Let us look into Event Time.\n",
    "- We observe only a weak effect (i.e., the detailed sensor data contain usful information)"
   ]
  },
  {
   "cell_type": "code",
   "execution_count": 22,
   "metadata": {
    "slideshow": {
     "slide_type": "fragment"
    }
   },
   "outputs": [
    {
     "name": "stdout",
     "output_type": "stream",
     "text": [
      "ttest_ind:      t = 5.00656  p = 6.62822e-07   Cohen-d = 0.315858\n"
     ]
    }
   ],
   "source": [
    "ttest(out_noStar.ET,out_Star.ET)"
   ]
  },
  {
   "cell_type": "markdown",
   "metadata": {
    "slideshow": {
     "slide_type": "slide"
    }
   },
   "source": [
    "### Maximal Deviation, Turns, and SE"
   ]
  },
  {
   "cell_type": "code",
   "execution_count": 28,
   "metadata": {
    "slideshow": {
     "slide_type": "subslide"
    }
   },
   "outputs": [
    {
     "name": "stdout",
     "output_type": "stream",
     "text": [
      "ttest_ind:      t = 107.842  p = 0   Cohen-d = 6.37573\n",
      "ttest_ind:      t = -0.172357  p = 0.863191   Cohen-d = -0.0106349\n",
      "ttest_ind:      t = 2.43822  p = 0.0149285   Cohen-d = 0.151461\n",
      "ttest_ind:      t = 3.50638  p = 0.000474285   Cohen-d = 0.218847\n",
      "ttest_ind:      t = -3.27666  p = 0.00108736   Cohen-d = -0.199558\n",
      "ttest_ind:      t = -1.38832  p = 0.165344   Cohen-d = -0.0865236\n"
     ]
    }
   ],
   "source": [
    "# MD_trig\n",
    "ttest(out_noStar.MD_trig,out_Star.MD_trig)\n",
    "# MD_rem\n",
    "ttest(out_noStar.MD_rem,out_Star.MD_rem)\n",
    "# flip_trig\n",
    "ttest(out_noStar.flip_trig,out_Star.flip_trig)\n",
    "# flip_trig\n",
    "ttest(out_noStar.flip_rem,out_Star.flip_rem)\n",
    "# SampleEntropy_trig\n",
    "ttest(out_noStar.SE_trig,out_Star.SE_trig)\n",
    "# SampleEntropy_rem\n",
    "ttest(out_noStar.SE_rem,out_Star.SE_rem)"
   ]
  },
  {
   "cell_type": "markdown",
   "metadata": {
    "slideshow": {
     "slide_type": "slide"
    }
   },
   "source": [
    "### Brief Comment on Significance\n",
    "\n",
    "- We observe a strong effect in Maximal Deviation\n",
    "\n",
    "- Surprisingly, we do not observe an effect in Sample Entropy\n",
    "\n",
    "__Remark.__ These results hold for any individual in the Prevent study."
   ]
  },
  {
   "cell_type": "markdown",
   "metadata": {
    "slideshow": {
     "slide_type": "slide"
    }
   },
   "source": [
    "## Spearman Correlation of the Outcome Measures\n",
    "\n",
    "As a first step, we ran nonparametric correlation analyses to evaluate the eventual degree of similarity between\n",
    "the entropy measures and the geometric measures.\n",
    "\n",
    "Let us look into Sperman's correlations for all possible distinct pairs of measure."
   ]
  },
  {
   "cell_type": "code",
   "execution_count": 65,
   "metadata": {
    "slideshow": {
     "slide_type": "slide"
    }
   },
   "outputs": [
    {
     "data": {
      "text/html": [
       "<style  type=\"text/css\" >\n",
       "    #T_84860c5e_b526_11e9_9ce3_7200004d8020row0_col0 {\n",
       "            background-color:  #b40426;\n",
       "            color:  #f1f1f1;\n",
       "        }    #T_84860c5e_b526_11e9_9ce3_7200004d8020row0_col1 {\n",
       "            background-color:  #c32e31;\n",
       "            color:  #f1f1f1;\n",
       "        }    #T_84860c5e_b526_11e9_9ce3_7200004d8020row0_col2 {\n",
       "            background-color:  #94b6ff;\n",
       "            color:  #000000;\n",
       "        }    #T_84860c5e_b526_11e9_9ce3_7200004d8020row0_col3 {\n",
       "            background-color:  #6687ed;\n",
       "            color:  #000000;\n",
       "        }    #T_84860c5e_b526_11e9_9ce3_7200004d8020row0_col4 {\n",
       "            background-color:  #98b9ff;\n",
       "            color:  #000000;\n",
       "        }    #T_84860c5e_b526_11e9_9ce3_7200004d8020row0_col5 {\n",
       "            background-color:  #7597f6;\n",
       "            color:  #000000;\n",
       "        }    #T_84860c5e_b526_11e9_9ce3_7200004d8020row0_col6 {\n",
       "            background-color:  #c9d7f0;\n",
       "            color:  #000000;\n",
       "        }    #T_84860c5e_b526_11e9_9ce3_7200004d8020row0_col7 {\n",
       "            background-color:  #a7c5fe;\n",
       "            color:  #000000;\n",
       "        }    #T_84860c5e_b526_11e9_9ce3_7200004d8020row0_col8 {\n",
       "            background-color:  #b9d0f9;\n",
       "            color:  #000000;\n",
       "        }    #T_84860c5e_b526_11e9_9ce3_7200004d8020row0_col9 {\n",
       "            background-color:  #aec9fc;\n",
       "            color:  #000000;\n",
       "        }    #T_84860c5e_b526_11e9_9ce3_7200004d8020row1_col0 {\n",
       "            background-color:  #c43032;\n",
       "            color:  #f1f1f1;\n",
       "        }    #T_84860c5e_b526_11e9_9ce3_7200004d8020row1_col1 {\n",
       "            background-color:  #b40426;\n",
       "            color:  #f1f1f1;\n",
       "        }    #T_84860c5e_b526_11e9_9ce3_7200004d8020row1_col2 {\n",
       "            background-color:  #94b6ff;\n",
       "            color:  #000000;\n",
       "        }    #T_84860c5e_b526_11e9_9ce3_7200004d8020row1_col3 {\n",
       "            background-color:  #688aef;\n",
       "            color:  #000000;\n",
       "        }    #T_84860c5e_b526_11e9_9ce3_7200004d8020row1_col4 {\n",
       "            background-color:  #9abbff;\n",
       "            color:  #000000;\n",
       "        }    #T_84860c5e_b526_11e9_9ce3_7200004d8020row1_col5 {\n",
       "            background-color:  #7699f6;\n",
       "            color:  #000000;\n",
       "        }    #T_84860c5e_b526_11e9_9ce3_7200004d8020row1_col6 {\n",
       "            background-color:  #cbd8ee;\n",
       "            color:  #000000;\n",
       "        }    #T_84860c5e_b526_11e9_9ce3_7200004d8020row1_col7 {\n",
       "            background-color:  #aac7fd;\n",
       "            color:  #000000;\n",
       "        }    #T_84860c5e_b526_11e9_9ce3_7200004d8020row1_col8 {\n",
       "            background-color:  #a3c2fe;\n",
       "            color:  #000000;\n",
       "        }    #T_84860c5e_b526_11e9_9ce3_7200004d8020row1_col9 {\n",
       "            background-color:  #aac7fd;\n",
       "            color:  #000000;\n",
       "        }    #T_84860c5e_b526_11e9_9ce3_7200004d8020row2_col0 {\n",
       "            background-color:  #779af7;\n",
       "            color:  #000000;\n",
       "        }    #T_84860c5e_b526_11e9_9ce3_7200004d8020row2_col1 {\n",
       "            background-color:  #82a6fb;\n",
       "            color:  #000000;\n",
       "        }    #T_84860c5e_b526_11e9_9ce3_7200004d8020row2_col2 {\n",
       "            background-color:  #b40426;\n",
       "            color:  #f1f1f1;\n",
       "        }    #T_84860c5e_b526_11e9_9ce3_7200004d8020row2_col3 {\n",
       "            background-color:  #5f7fe8;\n",
       "            color:  #000000;\n",
       "        }    #T_84860c5e_b526_11e9_9ce3_7200004d8020row2_col4 {\n",
       "            background-color:  #dfdbd9;\n",
       "            color:  #000000;\n",
       "        }    #T_84860c5e_b526_11e9_9ce3_7200004d8020row2_col5 {\n",
       "            background-color:  #6687ed;\n",
       "            color:  #000000;\n",
       "        }    #T_84860c5e_b526_11e9_9ce3_7200004d8020row2_col6 {\n",
       "            background-color:  #5673e0;\n",
       "            color:  #000000;\n",
       "        }    #T_84860c5e_b526_11e9_9ce3_7200004d8020row2_col7 {\n",
       "            background-color:  #6788ee;\n",
       "            color:  #000000;\n",
       "        }    #T_84860c5e_b526_11e9_9ce3_7200004d8020row2_col8 {\n",
       "            background-color:  #a9c6fd;\n",
       "            color:  #000000;\n",
       "        }    #T_84860c5e_b526_11e9_9ce3_7200004d8020row2_col9 {\n",
       "            background-color:  #94b6ff;\n",
       "            color:  #000000;\n",
       "        }    #T_84860c5e_b526_11e9_9ce3_7200004d8020row3_col0 {\n",
       "            background-color:  #4a63d3;\n",
       "            color:  #f1f1f1;\n",
       "        }    #T_84860c5e_b526_11e9_9ce3_7200004d8020row3_col1 {\n",
       "            background-color:  #5a78e4;\n",
       "            color:  #000000;\n",
       "        }    #T_84860c5e_b526_11e9_9ce3_7200004d8020row3_col2 {\n",
       "            background-color:  #6384eb;\n",
       "            color:  #000000;\n",
       "        }    #T_84860c5e_b526_11e9_9ce3_7200004d8020row3_col3 {\n",
       "            background-color:  #b40426;\n",
       "            color:  #f1f1f1;\n",
       "        }    #T_84860c5e_b526_11e9_9ce3_7200004d8020row3_col4 {\n",
       "            background-color:  #6a8bef;\n",
       "            color:  #000000;\n",
       "        }    #T_84860c5e_b526_11e9_9ce3_7200004d8020row3_col5 {\n",
       "            background-color:  #da5a49;\n",
       "            color:  #000000;\n",
       "        }    #T_84860c5e_b526_11e9_9ce3_7200004d8020row3_col6 {\n",
       "            background-color:  #536edd;\n",
       "            color:  #000000;\n",
       "        }    #T_84860c5e_b526_11e9_9ce3_7200004d8020row3_col7 {\n",
       "            background-color:  #455cce;\n",
       "            color:  #f1f1f1;\n",
       "        }    #T_84860c5e_b526_11e9_9ce3_7200004d8020row3_col8 {\n",
       "            background-color:  #d1dae9;\n",
       "            color:  #000000;\n",
       "        }    #T_84860c5e_b526_11e9_9ce3_7200004d8020row3_col9 {\n",
       "            background-color:  #afcafc;\n",
       "            color:  #000000;\n",
       "        }    #T_84860c5e_b526_11e9_9ce3_7200004d8020row4_col0 {\n",
       "            background-color:  #779af7;\n",
       "            color:  #000000;\n",
       "        }    #T_84860c5e_b526_11e9_9ce3_7200004d8020row4_col1 {\n",
       "            background-color:  #85a8fc;\n",
       "            color:  #000000;\n",
       "        }    #T_84860c5e_b526_11e9_9ce3_7200004d8020row4_col2 {\n",
       "            background-color:  #dddcdc;\n",
       "            color:  #000000;\n",
       "        }    #T_84860c5e_b526_11e9_9ce3_7200004d8020row4_col3 {\n",
       "            background-color:  #6180e9;\n",
       "            color:  #000000;\n",
       "        }    #T_84860c5e_b526_11e9_9ce3_7200004d8020row4_col4 {\n",
       "            background-color:  #b40426;\n",
       "            color:  #f1f1f1;\n",
       "        }    #T_84860c5e_b526_11e9_9ce3_7200004d8020row4_col5 {\n",
       "            background-color:  #5e7de7;\n",
       "            color:  #000000;\n",
       "        }    #T_84860c5e_b526_11e9_9ce3_7200004d8020row4_col6 {\n",
       "            background-color:  #4c66d6;\n",
       "            color:  #000000;\n",
       "        }    #T_84860c5e_b526_11e9_9ce3_7200004d8020row4_col7 {\n",
       "            background-color:  #7da0f9;\n",
       "            color:  #000000;\n",
       "        }    #T_84860c5e_b526_11e9_9ce3_7200004d8020row4_col8 {\n",
       "            background-color:  #90b2fe;\n",
       "            color:  #000000;\n",
       "        }    #T_84860c5e_b526_11e9_9ce3_7200004d8020row4_col9 {\n",
       "            background-color:  #b3cdfb;\n",
       "            color:  #000000;\n",
       "        }    #T_84860c5e_b526_11e9_9ce3_7200004d8020row5_col0 {\n",
       "            background-color:  #4f69d9;\n",
       "            color:  #000000;\n",
       "        }    #T_84860c5e_b526_11e9_9ce3_7200004d8020row5_col1 {\n",
       "            background-color:  #5e7de7;\n",
       "            color:  #000000;\n",
       "        }    #T_84860c5e_b526_11e9_9ce3_7200004d8020row5_col2 {\n",
       "            background-color:  #6180e9;\n",
       "            color:  #000000;\n",
       "        }    #T_84860c5e_b526_11e9_9ce3_7200004d8020row5_col3 {\n",
       "            background-color:  #dc5d4a;\n",
       "            color:  #000000;\n",
       "        }    #T_84860c5e_b526_11e9_9ce3_7200004d8020row5_col4 {\n",
       "            background-color:  #5d7ce6;\n",
       "            color:  #000000;\n",
       "        }    #T_84860c5e_b526_11e9_9ce3_7200004d8020row5_col5 {\n",
       "            background-color:  #b40426;\n",
       "            color:  #f1f1f1;\n",
       "        }    #T_84860c5e_b526_11e9_9ce3_7200004d8020row5_col6 {\n",
       "            background-color:  #5b7ae5;\n",
       "            color:  #000000;\n",
       "        }    #T_84860c5e_b526_11e9_9ce3_7200004d8020row5_col7 {\n",
       "            background-color:  #3b4cc0;\n",
       "            color:  #f1f1f1;\n",
       "        }    #T_84860c5e_b526_11e9_9ce3_7200004d8020row5_col8 {\n",
       "            background-color:  #dcdddd;\n",
       "            color:  #000000;\n",
       "        }    #T_84860c5e_b526_11e9_9ce3_7200004d8020row5_col9 {\n",
       "            background-color:  #bad0f8;\n",
       "            color:  #000000;\n",
       "        }    #T_84860c5e_b526_11e9_9ce3_7200004d8020row6_col0 {\n",
       "            background-color:  #c5d6f2;\n",
       "            color:  #000000;\n",
       "        }    #T_84860c5e_b526_11e9_9ce3_7200004d8020row6_col1 {\n",
       "            background-color:  #cfdaea;\n",
       "            color:  #000000;\n",
       "        }    #T_84860c5e_b526_11e9_9ce3_7200004d8020row6_col2 {\n",
       "            background-color:  #7295f4;\n",
       "            color:  #000000;\n",
       "        }    #T_84860c5e_b526_11e9_9ce3_7200004d8020row6_col3 {\n",
       "            background-color:  #688aef;\n",
       "            color:  #000000;\n",
       "        }    #T_84860c5e_b526_11e9_9ce3_7200004d8020row6_col4 {\n",
       "            background-color:  #6b8df0;\n",
       "            color:  #000000;\n",
       "        }    #T_84860c5e_b526_11e9_9ce3_7200004d8020row6_col5 {\n",
       "            background-color:  #7b9ff9;\n",
       "            color:  #000000;\n",
       "        }    #T_84860c5e_b526_11e9_9ce3_7200004d8020row6_col6 {\n",
       "            background-color:  #b40426;\n",
       "            color:  #f1f1f1;\n",
       "        }    #T_84860c5e_b526_11e9_9ce3_7200004d8020row6_col7 {\n",
       "            background-color:  #779af7;\n",
       "            color:  #000000;\n",
       "        }    #T_84860c5e_b526_11e9_9ce3_7200004d8020row6_col8 {\n",
       "            background-color:  #aac7fd;\n",
       "            color:  #000000;\n",
       "        }    #T_84860c5e_b526_11e9_9ce3_7200004d8020row6_col9 {\n",
       "            background-color:  #afcafc;\n",
       "            color:  #000000;\n",
       "        }    #T_84860c5e_b526_11e9_9ce3_7200004d8020row7_col0 {\n",
       "            background-color:  #86a9fc;\n",
       "            color:  #000000;\n",
       "        }    #T_84860c5e_b526_11e9_9ce3_7200004d8020row7_col1 {\n",
       "            background-color:  #96b7ff;\n",
       "            color:  #000000;\n",
       "        }    #T_84860c5e_b526_11e9_9ce3_7200004d8020row7_col2 {\n",
       "            background-color:  #6282ea;\n",
       "            color:  #000000;\n",
       "        }    #T_84860c5e_b526_11e9_9ce3_7200004d8020row7_col3 {\n",
       "            background-color:  #3b4cc0;\n",
       "            color:  #f1f1f1;\n",
       "        }    #T_84860c5e_b526_11e9_9ce3_7200004d8020row7_col4 {\n",
       "            background-color:  #7b9ff9;\n",
       "            color:  #000000;\n",
       "        }    #T_84860c5e_b526_11e9_9ce3_7200004d8020row7_col5 {\n",
       "            background-color:  #3b4cc0;\n",
       "            color:  #f1f1f1;\n",
       "        }    #T_84860c5e_b526_11e9_9ce3_7200004d8020row7_col6 {\n",
       "            background-color:  #5875e1;\n",
       "            color:  #000000;\n",
       "        }    #T_84860c5e_b526_11e9_9ce3_7200004d8020row7_col7 {\n",
       "            background-color:  #b40426;\n",
       "            color:  #f1f1f1;\n",
       "        }    #T_84860c5e_b526_11e9_9ce3_7200004d8020row7_col8 {\n",
       "            background-color:  #a2c1ff;\n",
       "            color:  #000000;\n",
       "        }    #T_84860c5e_b526_11e9_9ce3_7200004d8020row7_col9 {\n",
       "            background-color:  #9bbcff;\n",
       "            color:  #000000;\n",
       "        }    #T_84860c5e_b526_11e9_9ce3_7200004d8020row8_col0 {\n",
       "            background-color:  #4961d2;\n",
       "            color:  #f1f1f1;\n",
       "        }    #T_84860c5e_b526_11e9_9ce3_7200004d8020row8_col1 {\n",
       "            background-color:  #3b4cc0;\n",
       "            color:  #f1f1f1;\n",
       "        }    #T_84860c5e_b526_11e9_9ce3_7200004d8020row8_col2 {\n",
       "            background-color:  #5470de;\n",
       "            color:  #000000;\n",
       "        }    #T_84860c5e_b526_11e9_9ce3_7200004d8020row8_col3 {\n",
       "            background-color:  #89acfd;\n",
       "            color:  #000000;\n",
       "        }    #T_84860c5e_b526_11e9_9ce3_7200004d8020row8_col4 {\n",
       "            background-color:  #3b4cc0;\n",
       "            color:  #f1f1f1;\n",
       "        }    #T_84860c5e_b526_11e9_9ce3_7200004d8020row8_col5 {\n",
       "            background-color:  #a7c5fe;\n",
       "            color:  #000000;\n",
       "        }    #T_84860c5e_b526_11e9_9ce3_7200004d8020row8_col6 {\n",
       "            background-color:  #3b4cc0;\n",
       "            color:  #f1f1f1;\n",
       "        }    #T_84860c5e_b526_11e9_9ce3_7200004d8020row8_col7 {\n",
       "            background-color:  #516ddb;\n",
       "            color:  #000000;\n",
       "        }    #T_84860c5e_b526_11e9_9ce3_7200004d8020row8_col8 {\n",
       "            background-color:  #b40426;\n",
       "            color:  #f1f1f1;\n",
       "        }    #T_84860c5e_b526_11e9_9ce3_7200004d8020row8_col9 {\n",
       "            background-color:  #3b4cc0;\n",
       "            color:  #f1f1f1;\n",
       "        }    #T_84860c5e_b526_11e9_9ce3_7200004d8020row9_col0 {\n",
       "            background-color:  #3b4cc0;\n",
       "            color:  #f1f1f1;\n",
       "        }    #T_84860c5e_b526_11e9_9ce3_7200004d8020row9_col1 {\n",
       "            background-color:  #4257c9;\n",
       "            color:  #f1f1f1;\n",
       "        }    #T_84860c5e_b526_11e9_9ce3_7200004d8020row9_col2 {\n",
       "            background-color:  #3b4cc0;\n",
       "            color:  #f1f1f1;\n",
       "        }    #T_84860c5e_b526_11e9_9ce3_7200004d8020row9_col3 {\n",
       "            background-color:  #5673e0;\n",
       "            color:  #000000;\n",
       "        }    #T_84860c5e_b526_11e9_9ce3_7200004d8020row9_col4 {\n",
       "            background-color:  #6687ed;\n",
       "            color:  #000000;\n",
       "        }    #T_84860c5e_b526_11e9_9ce3_7200004d8020row9_col5 {\n",
       "            background-color:  #7093f3;\n",
       "            color:  #000000;\n",
       "        }    #T_84860c5e_b526_11e9_9ce3_7200004d8020row9_col6 {\n",
       "            background-color:  #4257c9;\n",
       "            color:  #f1f1f1;\n",
       "        }    #T_84860c5e_b526_11e9_9ce3_7200004d8020row9_col7 {\n",
       "            background-color:  #485fd1;\n",
       "            color:  #f1f1f1;\n",
       "        }    #T_84860c5e_b526_11e9_9ce3_7200004d8020row9_col8 {\n",
       "            background-color:  #3b4cc0;\n",
       "            color:  #f1f1f1;\n",
       "        }    #T_84860c5e_b526_11e9_9ce3_7200004d8020row9_col9 {\n",
       "            background-color:  #b40426;\n",
       "            color:  #f1f1f1;\n",
       "        }</style><table id=\"T_84860c5e_b526_11e9_9ce3_7200004d8020\" ><thead>    <tr>        <th class=\"blank level0\" ></th>        <th class=\"col_heading level0 col0\" >ET</th>        <th class=\"col_heading level0 col1\" >RT</th>        <th class=\"col_heading level0 col2\" >L1_trig</th>        <th class=\"col_heading level0 col3\" >L1_rem</th>        <th class=\"col_heading level0 col4\" >MD_trig</th>        <th class=\"col_heading level0 col5\" >MD_rem</th>        <th class=\"col_heading level0 col6\" >flip_trig</th>        <th class=\"col_heading level0 col7\" >flip_rem</th>        <th class=\"col_heading level0 col8\" >SE_trig</th>        <th class=\"col_heading level0 col9\" >SE_rem</th>    </tr></thead><tbody>\n",
       "                <tr>\n",
       "                        <th id=\"T_84860c5e_b526_11e9_9ce3_7200004d8020level0_row0\" class=\"row_heading level0 row0\" >ET</th>\n",
       "                        <td id=\"T_84860c5e_b526_11e9_9ce3_7200004d8020row0_col0\" class=\"data row0 col0\" >1</td>\n",
       "                        <td id=\"T_84860c5e_b526_11e9_9ce3_7200004d8020row0_col1\" class=\"data row0 col1\" >0.955773</td>\n",
       "                        <td id=\"T_84860c5e_b526_11e9_9ce3_7200004d8020row0_col2\" class=\"data row0 col2\" >0.200234</td>\n",
       "                        <td id=\"T_84860c5e_b526_11e9_9ce3_7200004d8020row0_col3\" class=\"data row0 col3\" >0.0671445</td>\n",
       "                        <td id=\"T_84860c5e_b526_11e9_9ce3_7200004d8020row0_col4\" class=\"data row0 col4\" >0.202155</td>\n",
       "                        <td id=\"T_84860c5e_b526_11e9_9ce3_7200004d8020row0_col5\" class=\"data row0 col5\" >0.0811418</td>\n",
       "                        <td id=\"T_84860c5e_b526_11e9_9ce3_7200004d8020row0_col6\" class=\"data row0 col6\" >0.424305</td>\n",
       "                        <td id=\"T_84860c5e_b526_11e9_9ce3_7200004d8020row0_col7\" class=\"data row0 col7\" >0.242793</td>\n",
       "                        <td id=\"T_84860c5e_b526_11e9_9ce3_7200004d8020row0_col8\" class=\"data row0 col8\" >0.0630203</td>\n",
       "                        <td id=\"T_84860c5e_b526_11e9_9ce3_7200004d8020row0_col9\" class=\"data row0 col9\" >0.0153612</td>\n",
       "            </tr>\n",
       "            <tr>\n",
       "                        <th id=\"T_84860c5e_b526_11e9_9ce3_7200004d8020level0_row1\" class=\"row_heading level0 row1\" >RT</th>\n",
       "                        <td id=\"T_84860c5e_b526_11e9_9ce3_7200004d8020row1_col0\" class=\"data row1 col0\" >0.955773</td>\n",
       "                        <td id=\"T_84860c5e_b526_11e9_9ce3_7200004d8020row1_col1\" class=\"data row1 col1\" >1</td>\n",
       "                        <td id=\"T_84860c5e_b526_11e9_9ce3_7200004d8020row1_col2\" class=\"data row1 col2\" >0.196653</td>\n",
       "                        <td id=\"T_84860c5e_b526_11e9_9ce3_7200004d8020row1_col3\" class=\"data row1 col3\" >0.0765298</td>\n",
       "                        <td id=\"T_84860c5e_b526_11e9_9ce3_7200004d8020row1_col4\" class=\"data row1 col4\" >0.205641</td>\n",
       "                        <td id=\"T_84860c5e_b526_11e9_9ce3_7200004d8020row1_col5\" class=\"data row1 col5\" >0.0869088</td>\n",
       "                        <td id=\"T_84860c5e_b526_11e9_9ce3_7200004d8020row1_col6\" class=\"data row1 col6\" >0.434254</td>\n",
       "                        <td id=\"T_84860c5e_b526_11e9_9ce3_7200004d8020row1_col7\" class=\"data row1 col7\" >0.251632</td>\n",
       "                        <td id=\"T_84860c5e_b526_11e9_9ce3_7200004d8020row1_col8\" class=\"data row1 col8\" >-0.0306486</td>\n",
       "                        <td id=\"T_84860c5e_b526_11e9_9ce3_7200004d8020row1_col9\" class=\"data row1 col9\" >-0.00433415</td>\n",
       "            </tr>\n",
       "            <tr>\n",
       "                        <th id=\"T_84860c5e_b526_11e9_9ce3_7200004d8020level0_row2\" class=\"row_heading level0 row2\" >L1_trig</th>\n",
       "                        <td id=\"T_84860c5e_b526_11e9_9ce3_7200004d8020row2_col0\" class=\"data row2 col0\" >0.200234</td>\n",
       "                        <td id=\"T_84860c5e_b526_11e9_9ce3_7200004d8020row2_col1\" class=\"data row2 col1\" >0.196653</td>\n",
       "                        <td id=\"T_84860c5e_b526_11e9_9ce3_7200004d8020row2_col2\" class=\"data row2 col2\" >1</td>\n",
       "                        <td id=\"T_84860c5e_b526_11e9_9ce3_7200004d8020row2_col3\" class=\"data row2 col3\" >0.0456425</td>\n",
       "                        <td id=\"T_84860c5e_b526_11e9_9ce3_7200004d8020row2_col4\" class=\"data row2 col4\" >0.451914</td>\n",
       "                        <td id=\"T_84860c5e_b526_11e9_9ce3_7200004d8020row2_col5\" class=\"data row2 col5\" >0.0337344</td>\n",
       "                        <td id=\"T_84860c5e_b526_11e9_9ce3_7200004d8020row2_col6\" class=\"data row2 col6\" >0.0901128</td>\n",
       "                        <td id=\"T_84860c5e_b526_11e9_9ce3_7200004d8020row2_col7\" class=\"data row2 col7\" >0.0377824</td>\n",
       "                        <td id=\"T_84860c5e_b526_11e9_9ce3_7200004d8020row2_col8\" class=\"data row2 col8\" >-0.00778711</td>\n",
       "                        <td id=\"T_84860c5e_b526_11e9_9ce3_7200004d8020row2_col9\" class=\"data row2 col9\" >-0.100265</td>\n",
       "            </tr>\n",
       "            <tr>\n",
       "                        <th id=\"T_84860c5e_b526_11e9_9ce3_7200004d8020level0_row3\" class=\"row_heading level0 row3\" >L1_rem</th>\n",
       "                        <td id=\"T_84860c5e_b526_11e9_9ce3_7200004d8020row3_col0\" class=\"data row3 col0\" >0.0671445</td>\n",
       "                        <td id=\"T_84860c5e_b526_11e9_9ce3_7200004d8020row3_col1\" class=\"data row3 col1\" >0.0765298</td>\n",
       "                        <td id=\"T_84860c5e_b526_11e9_9ce3_7200004d8020row3_col2\" class=\"data row3 col2\" >0.0456425</td>\n",
       "                        <td id=\"T_84860c5e_b526_11e9_9ce3_7200004d8020row3_col3\" class=\"data row3 col3\" >1</td>\n",
       "                        <td id=\"T_84860c5e_b526_11e9_9ce3_7200004d8020row3_col4\" class=\"data row3 col4\" >0.0503862</td>\n",
       "                        <td id=\"T_84860c5e_b526_11e9_9ce3_7200004d8020row3_col5\" class=\"data row3 col5\" >0.872644</td>\n",
       "                        <td id=\"T_84860c5e_b526_11e9_9ce3_7200004d8020row3_col6\" class=\"data row3 col6\" >0.0769889</td>\n",
       "                        <td id=\"T_84860c5e_b526_11e9_9ce3_7200004d8020row3_col7\" class=\"data row3 col7\" >-0.0810467</td>\n",
       "                        <td id=\"T_84860c5e_b526_11e9_9ce3_7200004d8020row3_col8\" class=\"data row3 col8\" >0.177394</td>\n",
       "                        <td id=\"T_84860c5e_b526_11e9_9ce3_7200004d8020row3_col9\" class=\"data row3 col9\" >0.0184745</td>\n",
       "            </tr>\n",
       "            <tr>\n",
       "                        <th id=\"T_84860c5e_b526_11e9_9ce3_7200004d8020level0_row4\" class=\"row_heading level0 row4\" >MD_trig</th>\n",
       "                        <td id=\"T_84860c5e_b526_11e9_9ce3_7200004d8020row4_col0\" class=\"data row4 col0\" >0.202155</td>\n",
       "                        <td id=\"T_84860c5e_b526_11e9_9ce3_7200004d8020row4_col1\" class=\"data row4 col1\" >0.205641</td>\n",
       "                        <td id=\"T_84860c5e_b526_11e9_9ce3_7200004d8020row4_col2\" class=\"data row4 col2\" >0.451914</td>\n",
       "                        <td id=\"T_84860c5e_b526_11e9_9ce3_7200004d8020row4_col3\" class=\"data row4 col3\" >0.0503862</td>\n",
       "                        <td id=\"T_84860c5e_b526_11e9_9ce3_7200004d8020row4_col4\" class=\"data row4 col4\" >1</td>\n",
       "                        <td id=\"T_84860c5e_b526_11e9_9ce3_7200004d8020row4_col5\" class=\"data row4 col5\" >0.0083795</td>\n",
       "                        <td id=\"T_84860c5e_b526_11e9_9ce3_7200004d8020row4_col6\" class=\"data row4 col6\" >0.0580303</td>\n",
       "                        <td id=\"T_84860c5e_b526_11e9_9ce3_7200004d8020row4_col7\" class=\"data row4 col7\" >0.110068</td>\n",
       "                        <td id=\"T_84860c5e_b526_11e9_9ce3_7200004d8020row4_col8\" class=\"data row4 col8\" >-0.115663</td>\n",
       "                        <td id=\"T_84860c5e_b526_11e9_9ce3_7200004d8020row4_col9\" class=\"data row4 col9\" >0.0384432</td>\n",
       "            </tr>\n",
       "            <tr>\n",
       "                        <th id=\"T_84860c5e_b526_11e9_9ce3_7200004d8020level0_row5\" class=\"row_heading level0 row5\" >MD_rem</th>\n",
       "                        <td id=\"T_84860c5e_b526_11e9_9ce3_7200004d8020row5_col0\" class=\"data row5 col0\" >0.0811418</td>\n",
       "                        <td id=\"T_84860c5e_b526_11e9_9ce3_7200004d8020row5_col1\" class=\"data row5 col1\" >0.0869088</td>\n",
       "                        <td id=\"T_84860c5e_b526_11e9_9ce3_7200004d8020row5_col2\" class=\"data row5 col2\" >0.0337344</td>\n",
       "                        <td id=\"T_84860c5e_b526_11e9_9ce3_7200004d8020row5_col3\" class=\"data row5 col3\" >0.872644</td>\n",
       "                        <td id=\"T_84860c5e_b526_11e9_9ce3_7200004d8020row5_col4\" class=\"data row5 col4\" >0.0083795</td>\n",
       "                        <td id=\"T_84860c5e_b526_11e9_9ce3_7200004d8020row5_col5\" class=\"data row5 col5\" >1</td>\n",
       "                        <td id=\"T_84860c5e_b526_11e9_9ce3_7200004d8020row5_col6\" class=\"data row5 col6\" >0.105885</td>\n",
       "                        <td id=\"T_84860c5e_b526_11e9_9ce3_7200004d8020row5_col7\" class=\"data row5 col7\" >-0.121862</td>\n",
       "                        <td id=\"T_84860c5e_b526_11e9_9ce3_7200004d8020row5_col8\" class=\"data row5 col8\" >0.245793</td>\n",
       "                        <td id=\"T_84860c5e_b526_11e9_9ce3_7200004d8020row5_col9\" class=\"data row5 col9\" >0.0684341</td>\n",
       "            </tr>\n",
       "            <tr>\n",
       "                        <th id=\"T_84860c5e_b526_11e9_9ce3_7200004d8020level0_row6\" class=\"row_heading level0 row6\" >flip_trig</th>\n",
       "                        <td id=\"T_84860c5e_b526_11e9_9ce3_7200004d8020row6_col0\" class=\"data row6 col0\" >0.424305</td>\n",
       "                        <td id=\"T_84860c5e_b526_11e9_9ce3_7200004d8020row6_col1\" class=\"data row6 col1\" >0.434254</td>\n",
       "                        <td id=\"T_84860c5e_b526_11e9_9ce3_7200004d8020row6_col2\" class=\"data row6 col2\" >0.0901128</td>\n",
       "                        <td id=\"T_84860c5e_b526_11e9_9ce3_7200004d8020row6_col3\" class=\"data row6 col3\" >0.0769889</td>\n",
       "                        <td id=\"T_84860c5e_b526_11e9_9ce3_7200004d8020row6_col4\" class=\"data row6 col4\" >0.0580303</td>\n",
       "                        <td id=\"T_84860c5e_b526_11e9_9ce3_7200004d8020row6_col5\" class=\"data row6 col5\" >0.105885</td>\n",
       "                        <td id=\"T_84860c5e_b526_11e9_9ce3_7200004d8020row6_col6\" class=\"data row6 col6\" >1</td>\n",
       "                        <td id=\"T_84860c5e_b526_11e9_9ce3_7200004d8020row6_col7\" class=\"data row6 col7\" >0.0927902</td>\n",
       "                        <td id=\"T_84860c5e_b526_11e9_9ce3_7200004d8020row6_col8\" class=\"data row6 col8\" >-0.00272975</td>\n",
       "                        <td id=\"T_84860c5e_b526_11e9_9ce3_7200004d8020row6_col9\" class=\"data row6 col9\" >0.0225703</td>\n",
       "            </tr>\n",
       "            <tr>\n",
       "                        <th id=\"T_84860c5e_b526_11e9_9ce3_7200004d8020level0_row7\" class=\"row_heading level0 row7\" >flip_rem</th>\n",
       "                        <td id=\"T_84860c5e_b526_11e9_9ce3_7200004d8020row7_col0\" class=\"data row7 col0\" >0.242793</td>\n",
       "                        <td id=\"T_84860c5e_b526_11e9_9ce3_7200004d8020row7_col1\" class=\"data row7 col1\" >0.251632</td>\n",
       "                        <td id=\"T_84860c5e_b526_11e9_9ce3_7200004d8020row7_col2\" class=\"data row7 col2\" >0.0377824</td>\n",
       "                        <td id=\"T_84860c5e_b526_11e9_9ce3_7200004d8020row7_col3\" class=\"data row7 col3\" >-0.0810467</td>\n",
       "                        <td id=\"T_84860c5e_b526_11e9_9ce3_7200004d8020row7_col4\" class=\"data row7 col4\" >0.110068</td>\n",
       "                        <td id=\"T_84860c5e_b526_11e9_9ce3_7200004d8020row7_col5\" class=\"data row7 col5\" >-0.121862</td>\n",
       "                        <td id=\"T_84860c5e_b526_11e9_9ce3_7200004d8020row7_col6\" class=\"data row7 col6\" >0.0927902</td>\n",
       "                        <td id=\"T_84860c5e_b526_11e9_9ce3_7200004d8020row7_col7\" class=\"data row7 col7\" >1</td>\n",
       "                        <td id=\"T_84860c5e_b526_11e9_9ce3_7200004d8020row7_col8\" class=\"data row7 col8\" >-0.037116</td>\n",
       "                        <td id=\"T_84860c5e_b526_11e9_9ce3_7200004d8020row7_col9\" class=\"data row7 col9\" >-0.069888</td>\n",
       "            </tr>\n",
       "            <tr>\n",
       "                        <th id=\"T_84860c5e_b526_11e9_9ce3_7200004d8020level0_row8\" class=\"row_heading level0 row8\" >SE_trig</th>\n",
       "                        <td id=\"T_84860c5e_b526_11e9_9ce3_7200004d8020row8_col0\" class=\"data row8 col0\" >0.0630203</td>\n",
       "                        <td id=\"T_84860c5e_b526_11e9_9ce3_7200004d8020row8_col1\" class=\"data row8 col1\" >-0.0306486</td>\n",
       "                        <td id=\"T_84860c5e_b526_11e9_9ce3_7200004d8020row8_col2\" class=\"data row8 col2\" >-0.00778711</td>\n",
       "                        <td id=\"T_84860c5e_b526_11e9_9ce3_7200004d8020row8_col3\" class=\"data row8 col3\" >0.177394</td>\n",
       "                        <td id=\"T_84860c5e_b526_11e9_9ce3_7200004d8020row8_col4\" class=\"data row8 col4\" >-0.115663</td>\n",
       "                        <td id=\"T_84860c5e_b526_11e9_9ce3_7200004d8020row8_col5\" class=\"data row8 col5\" >0.245793</td>\n",
       "                        <td id=\"T_84860c5e_b526_11e9_9ce3_7200004d8020row8_col6\" class=\"data row8 col6\" >-0.00272975</td>\n",
       "                        <td id=\"T_84860c5e_b526_11e9_9ce3_7200004d8020row8_col7\" class=\"data row8 col7\" >-0.037116</td>\n",
       "                        <td id=\"T_84860c5e_b526_11e9_9ce3_7200004d8020row8_col8\" class=\"data row8 col8\" >1</td>\n",
       "                        <td id=\"T_84860c5e_b526_11e9_9ce3_7200004d8020row8_col9\" class=\"data row8 col9\" >-0.506686</td>\n",
       "            </tr>\n",
       "            <tr>\n",
       "                        <th id=\"T_84860c5e_b526_11e9_9ce3_7200004d8020level0_row9\" class=\"row_heading level0 row9\" >SE_rem</th>\n",
       "                        <td id=\"T_84860c5e_b526_11e9_9ce3_7200004d8020row9_col0\" class=\"data row9 col0\" >0.0153612</td>\n",
       "                        <td id=\"T_84860c5e_b526_11e9_9ce3_7200004d8020row9_col1\" class=\"data row9 col1\" >-0.00433415</td>\n",
       "                        <td id=\"T_84860c5e_b526_11e9_9ce3_7200004d8020row9_col2\" class=\"data row9 col2\" >-0.100265</td>\n",
       "                        <td id=\"T_84860c5e_b526_11e9_9ce3_7200004d8020row9_col3\" class=\"data row9 col3\" >0.0184745</td>\n",
       "                        <td id=\"T_84860c5e_b526_11e9_9ce3_7200004d8020row9_col4\" class=\"data row9 col4\" >0.0384432</td>\n",
       "                        <td id=\"T_84860c5e_b526_11e9_9ce3_7200004d8020row9_col5\" class=\"data row9 col5\" >0.0684341</td>\n",
       "                        <td id=\"T_84860c5e_b526_11e9_9ce3_7200004d8020row9_col6\" class=\"data row9 col6\" >0.0225703</td>\n",
       "                        <td id=\"T_84860c5e_b526_11e9_9ce3_7200004d8020row9_col7\" class=\"data row9 col7\" >-0.069888</td>\n",
       "                        <td id=\"T_84860c5e_b526_11e9_9ce3_7200004d8020row9_col8\" class=\"data row9 col8\" >-0.506686</td>\n",
       "                        <td id=\"T_84860c5e_b526_11e9_9ce3_7200004d8020row9_col9\" class=\"data row9 col9\" >1</td>\n",
       "            </tr>\n",
       "    </tbody></table>"
      ],
      "text/plain": [
       "<pandas.io.formats.style.Styler at 0x1c284f2048>"
      ]
     },
     "execution_count": 65,
     "metadata": {},
     "output_type": "execute_result"
    }
   ],
   "source": [
    "df_normalized = out_df[(out_df.Correct == 1)].drop(['Correct','Star'], axis = 1)\n",
    "corr = df_normalized.corr(method='spearman')\n",
    "corr.style.background_gradient(cmap='coolwarm')"
   ]
  },
  {
   "cell_type": "markdown",
   "metadata": {
    "slideshow": {
     "slide_type": "subslide"
    }
   },
   "source": [
    "Should we have defined $L_1$-norm as $L_1^{\\mathrm{new}} = T \\cdot L_1$, then 'ET' and 'L1_trig' would be highly correlated. This is expected. "
   ]
  },
  {
   "cell_type": "code",
   "execution_count": 69,
   "metadata": {
    "slideshow": {
     "slide_type": "fragment"
    }
   },
   "outputs": [
    {
     "name": "stdout",
     "output_type": "stream",
     "text": [
      "New correlation between L1_trig and ET is 0.915592.\n"
     ]
    }
   ],
   "source": [
    "print('New correlation between L1_trig and ET is %g.' %numpy.corrcoef(out_Star.L1_trig*out_Star.ET, out_Star.ET)[0, 1])"
   ]
  },
  {
   "cell_type": "markdown",
   "metadata": {
    "slideshow": {
     "slide_type": "fragment"
    }
   },
   "source": [
    "Take a look into Spearman's correlation with unnormalized $L_1$-norms."
   ]
  },
  {
   "cell_type": "code",
   "execution_count": 70,
   "metadata": {
    "scrolled": true,
    "slideshow": {
     "slide_type": "subslide"
    }
   },
   "outputs": [
    {
     "data": {
      "text/html": [
       "<style  type=\"text/css\" >\n",
       "    #T_77e71ce6_b53e_11e9_b382_7200004d8020row0_col0 {\n",
       "            background-color:  #b40426;\n",
       "            color:  #f1f1f1;\n",
       "        }    #T_77e71ce6_b53e_11e9_b382_7200004d8020row0_col1 {\n",
       "            background-color:  #c32e31;\n",
       "            color:  #f1f1f1;\n",
       "        }    #T_77e71ce6_b53e_11e9_b382_7200004d8020row0_col2 {\n",
       "            background-color:  #e16751;\n",
       "            color:  #000000;\n",
       "        }    #T_77e71ce6_b53e_11e9_b382_7200004d8020row0_col3 {\n",
       "            background-color:  #c1d4f4;\n",
       "            color:  #000000;\n",
       "        }    #T_77e71ce6_b53e_11e9_b382_7200004d8020row0_col4 {\n",
       "            background-color:  #98b9ff;\n",
       "            color:  #000000;\n",
       "        }    #T_77e71ce6_b53e_11e9_b382_7200004d8020row0_col5 {\n",
       "            background-color:  #7597f6;\n",
       "            color:  #000000;\n",
       "        }    #T_77e71ce6_b53e_11e9_b382_7200004d8020row0_col6 {\n",
       "            background-color:  #c9d7f0;\n",
       "            color:  #000000;\n",
       "        }    #T_77e71ce6_b53e_11e9_b382_7200004d8020row0_col7 {\n",
       "            background-color:  #a7c5fe;\n",
       "            color:  #000000;\n",
       "        }    #T_77e71ce6_b53e_11e9_b382_7200004d8020row0_col8 {\n",
       "            background-color:  #b9d0f9;\n",
       "            color:  #000000;\n",
       "        }    #T_77e71ce6_b53e_11e9_b382_7200004d8020row0_col9 {\n",
       "            background-color:  #aec9fc;\n",
       "            color:  #000000;\n",
       "        }    #T_77e71ce6_b53e_11e9_b382_7200004d8020row1_col0 {\n",
       "            background-color:  #c43032;\n",
       "            color:  #f1f1f1;\n",
       "        }    #T_77e71ce6_b53e_11e9_b382_7200004d8020row1_col1 {\n",
       "            background-color:  #b40426;\n",
       "            color:  #f1f1f1;\n",
       "        }    #T_77e71ce6_b53e_11e9_b382_7200004d8020row1_col2 {\n",
       "            background-color:  #e8765c;\n",
       "            color:  #000000;\n",
       "        }    #T_77e71ce6_b53e_11e9_b382_7200004d8020row1_col3 {\n",
       "            background-color:  #bfd3f6;\n",
       "            color:  #000000;\n",
       "        }    #T_77e71ce6_b53e_11e9_b382_7200004d8020row1_col4 {\n",
       "            background-color:  #9abbff;\n",
       "            color:  #000000;\n",
       "        }    #T_77e71ce6_b53e_11e9_b382_7200004d8020row1_col5 {\n",
       "            background-color:  #7699f6;\n",
       "            color:  #000000;\n",
       "        }    #T_77e71ce6_b53e_11e9_b382_7200004d8020row1_col6 {\n",
       "            background-color:  #cbd8ee;\n",
       "            color:  #000000;\n",
       "        }    #T_77e71ce6_b53e_11e9_b382_7200004d8020row1_col7 {\n",
       "            background-color:  #aac7fd;\n",
       "            color:  #000000;\n",
       "        }    #T_77e71ce6_b53e_11e9_b382_7200004d8020row1_col8 {\n",
       "            background-color:  #a3c2fe;\n",
       "            color:  #000000;\n",
       "        }    #T_77e71ce6_b53e_11e9_b382_7200004d8020row1_col9 {\n",
       "            background-color:  #aac7fd;\n",
       "            color:  #000000;\n",
       "        }    #T_77e71ce6_b53e_11e9_b382_7200004d8020row2_col0 {\n",
       "            background-color:  #e36b54;\n",
       "            color:  #000000;\n",
       "        }    #T_77e71ce6_b53e_11e9_b382_7200004d8020row2_col1 {\n",
       "            background-color:  #e9785d;\n",
       "            color:  #000000;\n",
       "        }    #T_77e71ce6_b53e_11e9_b382_7200004d8020row2_col2 {\n",
       "            background-color:  #b40426;\n",
       "            color:  #f1f1f1;\n",
       "        }    #T_77e71ce6_b53e_11e9_b382_7200004d8020row2_col3 {\n",
       "            background-color:  #afcafc;\n",
       "            color:  #000000;\n",
       "        }    #T_77e71ce6_b53e_11e9_b382_7200004d8020row2_col4 {\n",
       "            background-color:  #cad8ef;\n",
       "            color:  #000000;\n",
       "        }    #T_77e71ce6_b53e_11e9_b382_7200004d8020row2_col5 {\n",
       "            background-color:  #6f92f3;\n",
       "            color:  #000000;\n",
       "        }    #T_77e71ce6_b53e_11e9_b382_7200004d8020row2_col6 {\n",
       "            background-color:  #b3cdfb;\n",
       "            color:  #000000;\n",
       "        }    #T_77e71ce6_b53e_11e9_b382_7200004d8020row2_col7 {\n",
       "            background-color:  #97b8ff;\n",
       "            color:  #000000;\n",
       "        }    #T_77e71ce6_b53e_11e9_b382_7200004d8020row2_col8 {\n",
       "            background-color:  #b3cdfb;\n",
       "            color:  #000000;\n",
       "        }    #T_77e71ce6_b53e_11e9_b382_7200004d8020row2_col9 {\n",
       "            background-color:  #a2c1ff;\n",
       "            color:  #000000;\n",
       "        }    #T_77e71ce6_b53e_11e9_b382_7200004d8020row3_col0 {\n",
       "            background-color:  #c1d4f4;\n",
       "            color:  #000000;\n",
       "        }    #T_77e71ce6_b53e_11e9_b382_7200004d8020row3_col1 {\n",
       "            background-color:  #c9d7f0;\n",
       "            color:  #000000;\n",
       "        }    #T_77e71ce6_b53e_11e9_b382_7200004d8020row3_col2 {\n",
       "            background-color:  #bcd2f7;\n",
       "            color:  #000000;\n",
       "        }    #T_77e71ce6_b53e_11e9_b382_7200004d8020row3_col3 {\n",
       "            background-color:  #b40426;\n",
       "            color:  #f1f1f1;\n",
       "        }    #T_77e71ce6_b53e_11e9_b382_7200004d8020row3_col4 {\n",
       "            background-color:  #80a3fa;\n",
       "            color:  #000000;\n",
       "        }    #T_77e71ce6_b53e_11e9_b382_7200004d8020row3_col5 {\n",
       "            background-color:  #e9785d;\n",
       "            color:  #000000;\n",
       "        }    #T_77e71ce6_b53e_11e9_b382_7200004d8020row3_col6 {\n",
       "            background-color:  #86a9fc;\n",
       "            color:  #000000;\n",
       "        }    #T_77e71ce6_b53e_11e9_b382_7200004d8020row3_col7 {\n",
       "            background-color:  #6282ea;\n",
       "            color:  #000000;\n",
       "        }    #T_77e71ce6_b53e_11e9_b382_7200004d8020row3_col8 {\n",
       "            background-color:  #cfdaea;\n",
       "            color:  #000000;\n",
       "        }    #T_77e71ce6_b53e_11e9_b382_7200004d8020row3_col9 {\n",
       "            background-color:  #b1cbfc;\n",
       "            color:  #000000;\n",
       "        }    #T_77e71ce6_b53e_11e9_b382_7200004d8020row4_col0 {\n",
       "            background-color:  #779af7;\n",
       "            color:  #000000;\n",
       "        }    #T_77e71ce6_b53e_11e9_b382_7200004d8020row4_col1 {\n",
       "            background-color:  #85a8fc;\n",
       "            color:  #000000;\n",
       "        }    #T_77e71ce6_b53e_11e9_b382_7200004d8020row4_col2 {\n",
       "            background-color:  #bcd2f7;\n",
       "            color:  #000000;\n",
       "        }    #T_77e71ce6_b53e_11e9_b382_7200004d8020row4_col3 {\n",
       "            background-color:  #5a78e4;\n",
       "            color:  #000000;\n",
       "        }    #T_77e71ce6_b53e_11e9_b382_7200004d8020row4_col4 {\n",
       "            background-color:  #b40426;\n",
       "            color:  #f1f1f1;\n",
       "        }    #T_77e71ce6_b53e_11e9_b382_7200004d8020row4_col5 {\n",
       "            background-color:  #5e7de7;\n",
       "            color:  #000000;\n",
       "        }    #T_77e71ce6_b53e_11e9_b382_7200004d8020row4_col6 {\n",
       "            background-color:  #4c66d6;\n",
       "            color:  #000000;\n",
       "        }    #T_77e71ce6_b53e_11e9_b382_7200004d8020row4_col7 {\n",
       "            background-color:  #7da0f9;\n",
       "            color:  #000000;\n",
       "        }    #T_77e71ce6_b53e_11e9_b382_7200004d8020row4_col8 {\n",
       "            background-color:  #90b2fe;\n",
       "            color:  #000000;\n",
       "        }    #T_77e71ce6_b53e_11e9_b382_7200004d8020row4_col9 {\n",
       "            background-color:  #b3cdfb;\n",
       "            color:  #000000;\n",
       "        }    #T_77e71ce6_b53e_11e9_b382_7200004d8020row5_col0 {\n",
       "            background-color:  #4f69d9;\n",
       "            color:  #000000;\n",
       "        }    #T_77e71ce6_b53e_11e9_b382_7200004d8020row5_col1 {\n",
       "            background-color:  #5e7de7;\n",
       "            color:  #000000;\n",
       "        }    #T_77e71ce6_b53e_11e9_b382_7200004d8020row5_col2 {\n",
       "            background-color:  #5977e3;\n",
       "            color:  #000000;\n",
       "        }    #T_77e71ce6_b53e_11e9_b382_7200004d8020row5_col3 {\n",
       "            background-color:  #ed8366;\n",
       "            color:  #000000;\n",
       "        }    #T_77e71ce6_b53e_11e9_b382_7200004d8020row5_col4 {\n",
       "            background-color:  #5d7ce6;\n",
       "            color:  #000000;\n",
       "        }    #T_77e71ce6_b53e_11e9_b382_7200004d8020row5_col5 {\n",
       "            background-color:  #b40426;\n",
       "            color:  #f1f1f1;\n",
       "        }    #T_77e71ce6_b53e_11e9_b382_7200004d8020row5_col6 {\n",
       "            background-color:  #5b7ae5;\n",
       "            color:  #000000;\n",
       "        }    #T_77e71ce6_b53e_11e9_b382_7200004d8020row5_col7 {\n",
       "            background-color:  #3b4cc0;\n",
       "            color:  #f1f1f1;\n",
       "        }    #T_77e71ce6_b53e_11e9_b382_7200004d8020row5_col8 {\n",
       "            background-color:  #dcdddd;\n",
       "            color:  #000000;\n",
       "        }    #T_77e71ce6_b53e_11e9_b382_7200004d8020row5_col9 {\n",
       "            background-color:  #bad0f8;\n",
       "            color:  #000000;\n",
       "        }    #T_77e71ce6_b53e_11e9_b382_7200004d8020row6_col0 {\n",
       "            background-color:  #c5d6f2;\n",
       "            color:  #000000;\n",
       "        }    #T_77e71ce6_b53e_11e9_b382_7200004d8020row6_col1 {\n",
       "            background-color:  #cfdaea;\n",
       "            color:  #000000;\n",
       "        }    #T_77e71ce6_b53e_11e9_b382_7200004d8020row6_col2 {\n",
       "            background-color:  #bbd1f8;\n",
       "            color:  #000000;\n",
       "        }    #T_77e71ce6_b53e_11e9_b382_7200004d8020row6_col3 {\n",
       "            background-color:  #80a3fa;\n",
       "            color:  #000000;\n",
       "        }    #T_77e71ce6_b53e_11e9_b382_7200004d8020row6_col4 {\n",
       "            background-color:  #6b8df0;\n",
       "            color:  #000000;\n",
       "        }    #T_77e71ce6_b53e_11e9_b382_7200004d8020row6_col5 {\n",
       "            background-color:  #7b9ff9;\n",
       "            color:  #000000;\n",
       "        }    #T_77e71ce6_b53e_11e9_b382_7200004d8020row6_col6 {\n",
       "            background-color:  #b40426;\n",
       "            color:  #f1f1f1;\n",
       "        }    #T_77e71ce6_b53e_11e9_b382_7200004d8020row6_col7 {\n",
       "            background-color:  #779af7;\n",
       "            color:  #000000;\n",
       "        }    #T_77e71ce6_b53e_11e9_b382_7200004d8020row6_col8 {\n",
       "            background-color:  #aac7fd;\n",
       "            color:  #000000;\n",
       "        }    #T_77e71ce6_b53e_11e9_b382_7200004d8020row6_col9 {\n",
       "            background-color:  #afcafc;\n",
       "            color:  #000000;\n",
       "        }    #T_77e71ce6_b53e_11e9_b382_7200004d8020row7_col0 {\n",
       "            background-color:  #86a9fc;\n",
       "            color:  #000000;\n",
       "        }    #T_77e71ce6_b53e_11e9_b382_7200004d8020row7_col1 {\n",
       "            background-color:  #96b7ff;\n",
       "            color:  #000000;\n",
       "        }    #T_77e71ce6_b53e_11e9_b382_7200004d8020row7_col2 {\n",
       "            background-color:  #84a7fc;\n",
       "            color:  #000000;\n",
       "        }    #T_77e71ce6_b53e_11e9_b382_7200004d8020row7_col3 {\n",
       "            background-color:  #3b4cc0;\n",
       "            color:  #f1f1f1;\n",
       "        }    #T_77e71ce6_b53e_11e9_b382_7200004d8020row7_col4 {\n",
       "            background-color:  #7b9ff9;\n",
       "            color:  #000000;\n",
       "        }    #T_77e71ce6_b53e_11e9_b382_7200004d8020row7_col5 {\n",
       "            background-color:  #3b4cc0;\n",
       "            color:  #f1f1f1;\n",
       "        }    #T_77e71ce6_b53e_11e9_b382_7200004d8020row7_col6 {\n",
       "            background-color:  #5875e1;\n",
       "            color:  #000000;\n",
       "        }    #T_77e71ce6_b53e_11e9_b382_7200004d8020row7_col7 {\n",
       "            background-color:  #b40426;\n",
       "            color:  #f1f1f1;\n",
       "        }    #T_77e71ce6_b53e_11e9_b382_7200004d8020row7_col8 {\n",
       "            background-color:  #a2c1ff;\n",
       "            color:  #000000;\n",
       "        }    #T_77e71ce6_b53e_11e9_b382_7200004d8020row7_col9 {\n",
       "            background-color:  #9bbcff;\n",
       "            color:  #000000;\n",
       "        }    #T_77e71ce6_b53e_11e9_b382_7200004d8020row8_col0 {\n",
       "            background-color:  #4961d2;\n",
       "            color:  #f1f1f1;\n",
       "        }    #T_77e71ce6_b53e_11e9_b382_7200004d8020row8_col1 {\n",
       "            background-color:  #3b4cc0;\n",
       "            color:  #f1f1f1;\n",
       "        }    #T_77e71ce6_b53e_11e9_b382_7200004d8020row8_col2 {\n",
       "            background-color:  #506bda;\n",
       "            color:  #000000;\n",
       "        }    #T_77e71ce6_b53e_11e9_b382_7200004d8020row8_col3 {\n",
       "            background-color:  #6c8ff1;\n",
       "            color:  #000000;\n",
       "        }    #T_77e71ce6_b53e_11e9_b382_7200004d8020row8_col4 {\n",
       "            background-color:  #3b4cc0;\n",
       "            color:  #f1f1f1;\n",
       "        }    #T_77e71ce6_b53e_11e9_b382_7200004d8020row8_col5 {\n",
       "            background-color:  #a7c5fe;\n",
       "            color:  #000000;\n",
       "        }    #T_77e71ce6_b53e_11e9_b382_7200004d8020row8_col6 {\n",
       "            background-color:  #3b4cc0;\n",
       "            color:  #f1f1f1;\n",
       "        }    #T_77e71ce6_b53e_11e9_b382_7200004d8020row8_col7 {\n",
       "            background-color:  #516ddb;\n",
       "            color:  #000000;\n",
       "        }    #T_77e71ce6_b53e_11e9_b382_7200004d8020row8_col8 {\n",
       "            background-color:  #b40426;\n",
       "            color:  #f1f1f1;\n",
       "        }    #T_77e71ce6_b53e_11e9_b382_7200004d8020row8_col9 {\n",
       "            background-color:  #3b4cc0;\n",
       "            color:  #f1f1f1;\n",
       "        }    #T_77e71ce6_b53e_11e9_b382_7200004d8020row9_col0 {\n",
       "            background-color:  #3b4cc0;\n",
       "            color:  #f1f1f1;\n",
       "        }    #T_77e71ce6_b53e_11e9_b382_7200004d8020row9_col1 {\n",
       "            background-color:  #4257c9;\n",
       "            color:  #f1f1f1;\n",
       "        }    #T_77e71ce6_b53e_11e9_b382_7200004d8020row9_col2 {\n",
       "            background-color:  #3b4cc0;\n",
       "            color:  #f1f1f1;\n",
       "        }    #T_77e71ce6_b53e_11e9_b382_7200004d8020row9_col3 {\n",
       "            background-color:  #3c4ec2;\n",
       "            color:  #f1f1f1;\n",
       "        }    #T_77e71ce6_b53e_11e9_b382_7200004d8020row9_col4 {\n",
       "            background-color:  #6687ed;\n",
       "            color:  #000000;\n",
       "        }    #T_77e71ce6_b53e_11e9_b382_7200004d8020row9_col5 {\n",
       "            background-color:  #7093f3;\n",
       "            color:  #000000;\n",
       "        }    #T_77e71ce6_b53e_11e9_b382_7200004d8020row9_col6 {\n",
       "            background-color:  #4257c9;\n",
       "            color:  #f1f1f1;\n",
       "        }    #T_77e71ce6_b53e_11e9_b382_7200004d8020row9_col7 {\n",
       "            background-color:  #485fd1;\n",
       "            color:  #f1f1f1;\n",
       "        }    #T_77e71ce6_b53e_11e9_b382_7200004d8020row9_col8 {\n",
       "            background-color:  #3b4cc0;\n",
       "            color:  #f1f1f1;\n",
       "        }    #T_77e71ce6_b53e_11e9_b382_7200004d8020row9_col9 {\n",
       "            background-color:  #b40426;\n",
       "            color:  #f1f1f1;\n",
       "        }</style><table id=\"T_77e71ce6_b53e_11e9_b382_7200004d8020\" ><thead>    <tr>        <th class=\"blank level0\" ></th>        <th class=\"col_heading level0 col0\" >ET</th>        <th class=\"col_heading level0 col1\" >RT</th>        <th class=\"col_heading level0 col2\" >L1_trig</th>        <th class=\"col_heading level0 col3\" >L1_rem</th>        <th class=\"col_heading level0 col4\" >MD_trig</th>        <th class=\"col_heading level0 col5\" >MD_rem</th>        <th class=\"col_heading level0 col6\" >flip_trig</th>        <th class=\"col_heading level0 col7\" >flip_rem</th>        <th class=\"col_heading level0 col8\" >SE_trig</th>        <th class=\"col_heading level0 col9\" >SE_rem</th>    </tr></thead><tbody>\n",
       "                <tr>\n",
       "                        <th id=\"T_77e71ce6_b53e_11e9_b382_7200004d8020level0_row0\" class=\"row_heading level0 row0\" >ET</th>\n",
       "                        <td id=\"T_77e71ce6_b53e_11e9_b382_7200004d8020row0_col0\" class=\"data row0 col0\" >1</td>\n",
       "                        <td id=\"T_77e71ce6_b53e_11e9_b382_7200004d8020row0_col1\" class=\"data row0 col1\" >0.955773</td>\n",
       "                        <td id=\"T_77e71ce6_b53e_11e9_b382_7200004d8020row0_col2\" class=\"data row0 col2\" >0.854513</td>\n",
       "                        <td id=\"T_77e71ce6_b53e_11e9_b382_7200004d8020row0_col3\" class=\"data row0 col3\" >0.413862</td>\n",
       "                        <td id=\"T_77e71ce6_b53e_11e9_b382_7200004d8020row0_col4\" class=\"data row0 col4\" >0.202155</td>\n",
       "                        <td id=\"T_77e71ce6_b53e_11e9_b382_7200004d8020row0_col5\" class=\"data row0 col5\" >0.0811418</td>\n",
       "                        <td id=\"T_77e71ce6_b53e_11e9_b382_7200004d8020row0_col6\" class=\"data row0 col6\" >0.424305</td>\n",
       "                        <td id=\"T_77e71ce6_b53e_11e9_b382_7200004d8020row0_col7\" class=\"data row0 col7\" >0.242793</td>\n",
       "                        <td id=\"T_77e71ce6_b53e_11e9_b382_7200004d8020row0_col8\" class=\"data row0 col8\" >0.0630203</td>\n",
       "                        <td id=\"T_77e71ce6_b53e_11e9_b382_7200004d8020row0_col9\" class=\"data row0 col9\" >0.0153612</td>\n",
       "            </tr>\n",
       "            <tr>\n",
       "                        <th id=\"T_77e71ce6_b53e_11e9_b382_7200004d8020level0_row1\" class=\"row_heading level0 row1\" >RT</th>\n",
       "                        <td id=\"T_77e71ce6_b53e_11e9_b382_7200004d8020row1_col0\" class=\"data row1 col0\" >0.955773</td>\n",
       "                        <td id=\"T_77e71ce6_b53e_11e9_b382_7200004d8020row1_col1\" class=\"data row1 col1\" >1</td>\n",
       "                        <td id=\"T_77e71ce6_b53e_11e9_b382_7200004d8020row1_col2\" class=\"data row1 col2\" >0.822189</td>\n",
       "                        <td id=\"T_77e71ce6_b53e_11e9_b382_7200004d8020row1_col3\" class=\"data row1 col3\" >0.409709</td>\n",
       "                        <td id=\"T_77e71ce6_b53e_11e9_b382_7200004d8020row1_col4\" class=\"data row1 col4\" >0.205641</td>\n",
       "                        <td id=\"T_77e71ce6_b53e_11e9_b382_7200004d8020row1_col5\" class=\"data row1 col5\" >0.0869088</td>\n",
       "                        <td id=\"T_77e71ce6_b53e_11e9_b382_7200004d8020row1_col6\" class=\"data row1 col6\" >0.434254</td>\n",
       "                        <td id=\"T_77e71ce6_b53e_11e9_b382_7200004d8020row1_col7\" class=\"data row1 col7\" >0.251632</td>\n",
       "                        <td id=\"T_77e71ce6_b53e_11e9_b382_7200004d8020row1_col8\" class=\"data row1 col8\" >-0.0306486</td>\n",
       "                        <td id=\"T_77e71ce6_b53e_11e9_b382_7200004d8020row1_col9\" class=\"data row1 col9\" >-0.00433415</td>\n",
       "            </tr>\n",
       "            <tr>\n",
       "                        <th id=\"T_77e71ce6_b53e_11e9_b382_7200004d8020level0_row2\" class=\"row_heading level0 row2\" >L1_trig</th>\n",
       "                        <td id=\"T_77e71ce6_b53e_11e9_b382_7200004d8020row2_col0\" class=\"data row2 col0\" >0.854513</td>\n",
       "                        <td id=\"T_77e71ce6_b53e_11e9_b382_7200004d8020row2_col1\" class=\"data row2 col1\" >0.822189</td>\n",
       "                        <td id=\"T_77e71ce6_b53e_11e9_b382_7200004d8020row2_col2\" class=\"data row2 col2\" >1</td>\n",
       "                        <td id=\"T_77e71ce6_b53e_11e9_b382_7200004d8020row2_col3\" class=\"data row2 col3\" >0.363505</td>\n",
       "                        <td id=\"T_77e71ce6_b53e_11e9_b382_7200004d8020row2_col4\" class=\"data row2 col4\" >0.364762</td>\n",
       "                        <td id=\"T_77e71ce6_b53e_11e9_b382_7200004d8020row2_col5\" class=\"data row2 col5\" >0.0639755</td>\n",
       "                        <td id=\"T_77e71ce6_b53e_11e9_b382_7200004d8020row2_col6\" class=\"data row2 col6\" >0.361421</td>\n",
       "                        <td id=\"T_77e71ce6_b53e_11e9_b382_7200004d8020row2_col7\" class=\"data row2 col7\" >0.193241</td>\n",
       "                        <td id=\"T_77e71ce6_b53e_11e9_b382_7200004d8020row2_col8\" class=\"data row2 col8\" >0.0349794</td>\n",
       "                        <td id=\"T_77e71ce6_b53e_11e9_b382_7200004d8020row2_col9\" class=\"data row2 col9\" >-0.0407499</td>\n",
       "            </tr>\n",
       "            <tr>\n",
       "                        <th id=\"T_77e71ce6_b53e_11e9_b382_7200004d8020level0_row3\" class=\"row_heading level0 row3\" >L1_rem</th>\n",
       "                        <td id=\"T_77e71ce6_b53e_11e9_b382_7200004d8020row3_col0\" class=\"data row3 col0\" >0.413862</td>\n",
       "                        <td id=\"T_77e71ce6_b53e_11e9_b382_7200004d8020row3_col1\" class=\"data row3 col1\" >0.409709</td>\n",
       "                        <td id=\"T_77e71ce6_b53e_11e9_b382_7200004d8020row3_col2\" class=\"data row3 col2\" >0.363505</td>\n",
       "                        <td id=\"T_77e71ce6_b53e_11e9_b382_7200004d8020row3_col3\" class=\"data row3 col3\" >1</td>\n",
       "                        <td id=\"T_77e71ce6_b53e_11e9_b382_7200004d8020row3_col4\" class=\"data row3 col4\" >0.122155</td>\n",
       "                        <td id=\"T_77e71ce6_b53e_11e9_b382_7200004d8020row3_col5\" class=\"data row3 col5\" >0.805502</td>\n",
       "                        <td id=\"T_77e71ce6_b53e_11e9_b382_7200004d8020row3_col6\" class=\"data row3 col6\" >0.229424</td>\n",
       "                        <td id=\"T_77e71ce6_b53e_11e9_b382_7200004d8020row3_col7\" class=\"data row3 col7\" >0.0191482</td>\n",
       "                        <td id=\"T_77e71ce6_b53e_11e9_b382_7200004d8020row3_col8\" class=\"data row3 col8\" >0.174801</td>\n",
       "                        <td id=\"T_77e71ce6_b53e_11e9_b382_7200004d8020row3_col9\" class=\"data row3 col9\" >0.025343</td>\n",
       "            </tr>\n",
       "            <tr>\n",
       "                        <th id=\"T_77e71ce6_b53e_11e9_b382_7200004d8020level0_row4\" class=\"row_heading level0 row4\" >MD_trig</th>\n",
       "                        <td id=\"T_77e71ce6_b53e_11e9_b382_7200004d8020row4_col0\" class=\"data row4 col0\" >0.202155</td>\n",
       "                        <td id=\"T_77e71ce6_b53e_11e9_b382_7200004d8020row4_col1\" class=\"data row4 col1\" >0.205641</td>\n",
       "                        <td id=\"T_77e71ce6_b53e_11e9_b382_7200004d8020row4_col2\" class=\"data row4 col2\" >0.364762</td>\n",
       "                        <td id=\"T_77e71ce6_b53e_11e9_b382_7200004d8020row4_col3\" class=\"data row4 col3\" >0.122155</td>\n",
       "                        <td id=\"T_77e71ce6_b53e_11e9_b382_7200004d8020row4_col4\" class=\"data row4 col4\" >1</td>\n",
       "                        <td id=\"T_77e71ce6_b53e_11e9_b382_7200004d8020row4_col5\" class=\"data row4 col5\" >0.0083795</td>\n",
       "                        <td id=\"T_77e71ce6_b53e_11e9_b382_7200004d8020row4_col6\" class=\"data row4 col6\" >0.0580303</td>\n",
       "                        <td id=\"T_77e71ce6_b53e_11e9_b382_7200004d8020row4_col7\" class=\"data row4 col7\" >0.110068</td>\n",
       "                        <td id=\"T_77e71ce6_b53e_11e9_b382_7200004d8020row4_col8\" class=\"data row4 col8\" >-0.115663</td>\n",
       "                        <td id=\"T_77e71ce6_b53e_11e9_b382_7200004d8020row4_col9\" class=\"data row4 col9\" >0.0384432</td>\n",
       "            </tr>\n",
       "            <tr>\n",
       "                        <th id=\"T_77e71ce6_b53e_11e9_b382_7200004d8020level0_row5\" class=\"row_heading level0 row5\" >MD_rem</th>\n",
       "                        <td id=\"T_77e71ce6_b53e_11e9_b382_7200004d8020row5_col0\" class=\"data row5 col0\" >0.0811418</td>\n",
       "                        <td id=\"T_77e71ce6_b53e_11e9_b382_7200004d8020row5_col1\" class=\"data row5 col1\" >0.0869088</td>\n",
       "                        <td id=\"T_77e71ce6_b53e_11e9_b382_7200004d8020row5_col2\" class=\"data row5 col2\" >0.0639755</td>\n",
       "                        <td id=\"T_77e71ce6_b53e_11e9_b382_7200004d8020row5_col3\" class=\"data row5 col3\" >0.805502</td>\n",
       "                        <td id=\"T_77e71ce6_b53e_11e9_b382_7200004d8020row5_col4\" class=\"data row5 col4\" >0.0083795</td>\n",
       "                        <td id=\"T_77e71ce6_b53e_11e9_b382_7200004d8020row5_col5\" class=\"data row5 col5\" >1</td>\n",
       "                        <td id=\"T_77e71ce6_b53e_11e9_b382_7200004d8020row5_col6\" class=\"data row5 col6\" >0.105885</td>\n",
       "                        <td id=\"T_77e71ce6_b53e_11e9_b382_7200004d8020row5_col7\" class=\"data row5 col7\" >-0.121862</td>\n",
       "                        <td id=\"T_77e71ce6_b53e_11e9_b382_7200004d8020row5_col8\" class=\"data row5 col8\" >0.245793</td>\n",
       "                        <td id=\"T_77e71ce6_b53e_11e9_b382_7200004d8020row5_col9\" class=\"data row5 col9\" >0.0684341</td>\n",
       "            </tr>\n",
       "            <tr>\n",
       "                        <th id=\"T_77e71ce6_b53e_11e9_b382_7200004d8020level0_row6\" class=\"row_heading level0 row6\" >flip_trig</th>\n",
       "                        <td id=\"T_77e71ce6_b53e_11e9_b382_7200004d8020row6_col0\" class=\"data row6 col0\" >0.424305</td>\n",
       "                        <td id=\"T_77e71ce6_b53e_11e9_b382_7200004d8020row6_col1\" class=\"data row6 col1\" >0.434254</td>\n",
       "                        <td id=\"T_77e71ce6_b53e_11e9_b382_7200004d8020row6_col2\" class=\"data row6 col2\" >0.361421</td>\n",
       "                        <td id=\"T_77e71ce6_b53e_11e9_b382_7200004d8020row6_col3\" class=\"data row6 col3\" >0.229424</td>\n",
       "                        <td id=\"T_77e71ce6_b53e_11e9_b382_7200004d8020row6_col4\" class=\"data row6 col4\" >0.0580303</td>\n",
       "                        <td id=\"T_77e71ce6_b53e_11e9_b382_7200004d8020row6_col5\" class=\"data row6 col5\" >0.105885</td>\n",
       "                        <td id=\"T_77e71ce6_b53e_11e9_b382_7200004d8020row6_col6\" class=\"data row6 col6\" >1</td>\n",
       "                        <td id=\"T_77e71ce6_b53e_11e9_b382_7200004d8020row6_col7\" class=\"data row6 col7\" >0.0927902</td>\n",
       "                        <td id=\"T_77e71ce6_b53e_11e9_b382_7200004d8020row6_col8\" class=\"data row6 col8\" >-0.00272975</td>\n",
       "                        <td id=\"T_77e71ce6_b53e_11e9_b382_7200004d8020row6_col9\" class=\"data row6 col9\" >0.0225703</td>\n",
       "            </tr>\n",
       "            <tr>\n",
       "                        <th id=\"T_77e71ce6_b53e_11e9_b382_7200004d8020level0_row7\" class=\"row_heading level0 row7\" >flip_rem</th>\n",
       "                        <td id=\"T_77e71ce6_b53e_11e9_b382_7200004d8020row7_col0\" class=\"data row7 col0\" >0.242793</td>\n",
       "                        <td id=\"T_77e71ce6_b53e_11e9_b382_7200004d8020row7_col1\" class=\"data row7 col1\" >0.251632</td>\n",
       "                        <td id=\"T_77e71ce6_b53e_11e9_b382_7200004d8020row7_col2\" class=\"data row7 col2\" >0.193241</td>\n",
       "                        <td id=\"T_77e71ce6_b53e_11e9_b382_7200004d8020row7_col3\" class=\"data row7 col3\" >0.0191482</td>\n",
       "                        <td id=\"T_77e71ce6_b53e_11e9_b382_7200004d8020row7_col4\" class=\"data row7 col4\" >0.110068</td>\n",
       "                        <td id=\"T_77e71ce6_b53e_11e9_b382_7200004d8020row7_col5\" class=\"data row7 col5\" >-0.121862</td>\n",
       "                        <td id=\"T_77e71ce6_b53e_11e9_b382_7200004d8020row7_col6\" class=\"data row7 col6\" >0.0927902</td>\n",
       "                        <td id=\"T_77e71ce6_b53e_11e9_b382_7200004d8020row7_col7\" class=\"data row7 col7\" >1</td>\n",
       "                        <td id=\"T_77e71ce6_b53e_11e9_b382_7200004d8020row7_col8\" class=\"data row7 col8\" >-0.037116</td>\n",
       "                        <td id=\"T_77e71ce6_b53e_11e9_b382_7200004d8020row7_col9\" class=\"data row7 col9\" >-0.069888</td>\n",
       "            </tr>\n",
       "            <tr>\n",
       "                        <th id=\"T_77e71ce6_b53e_11e9_b382_7200004d8020level0_row8\" class=\"row_heading level0 row8\" >SE_trig</th>\n",
       "                        <td id=\"T_77e71ce6_b53e_11e9_b382_7200004d8020row8_col0\" class=\"data row8 col0\" >0.0630203</td>\n",
       "                        <td id=\"T_77e71ce6_b53e_11e9_b382_7200004d8020row8_col1\" class=\"data row8 col1\" >-0.0306486</td>\n",
       "                        <td id=\"T_77e71ce6_b53e_11e9_b382_7200004d8020row8_col2\" class=\"data row8 col2\" >0.0349794</td>\n",
       "                        <td id=\"T_77e71ce6_b53e_11e9_b382_7200004d8020row8_col3\" class=\"data row8 col3\" >0.174801</td>\n",
       "                        <td id=\"T_77e71ce6_b53e_11e9_b382_7200004d8020row8_col4\" class=\"data row8 col4\" >-0.115663</td>\n",
       "                        <td id=\"T_77e71ce6_b53e_11e9_b382_7200004d8020row8_col5\" class=\"data row8 col5\" >0.245793</td>\n",
       "                        <td id=\"T_77e71ce6_b53e_11e9_b382_7200004d8020row8_col6\" class=\"data row8 col6\" >-0.00272975</td>\n",
       "                        <td id=\"T_77e71ce6_b53e_11e9_b382_7200004d8020row8_col7\" class=\"data row8 col7\" >-0.037116</td>\n",
       "                        <td id=\"T_77e71ce6_b53e_11e9_b382_7200004d8020row8_col8\" class=\"data row8 col8\" >1</td>\n",
       "                        <td id=\"T_77e71ce6_b53e_11e9_b382_7200004d8020row8_col9\" class=\"data row8 col9\" >-0.506686</td>\n",
       "            </tr>\n",
       "            <tr>\n",
       "                        <th id=\"T_77e71ce6_b53e_11e9_b382_7200004d8020level0_row9\" class=\"row_heading level0 row9\" >SE_rem</th>\n",
       "                        <td id=\"T_77e71ce6_b53e_11e9_b382_7200004d8020row9_col0\" class=\"data row9 col0\" >0.0153612</td>\n",
       "                        <td id=\"T_77e71ce6_b53e_11e9_b382_7200004d8020row9_col1\" class=\"data row9 col1\" >-0.00433415</td>\n",
       "                        <td id=\"T_77e71ce6_b53e_11e9_b382_7200004d8020row9_col2\" class=\"data row9 col2\" >-0.0407499</td>\n",
       "                        <td id=\"T_77e71ce6_b53e_11e9_b382_7200004d8020row9_col3\" class=\"data row9 col3\" >0.025343</td>\n",
       "                        <td id=\"T_77e71ce6_b53e_11e9_b382_7200004d8020row9_col4\" class=\"data row9 col4\" >0.0384432</td>\n",
       "                        <td id=\"T_77e71ce6_b53e_11e9_b382_7200004d8020row9_col5\" class=\"data row9 col5\" >0.0684341</td>\n",
       "                        <td id=\"T_77e71ce6_b53e_11e9_b382_7200004d8020row9_col6\" class=\"data row9 col6\" >0.0225703</td>\n",
       "                        <td id=\"T_77e71ce6_b53e_11e9_b382_7200004d8020row9_col7\" class=\"data row9 col7\" >-0.069888</td>\n",
       "                        <td id=\"T_77e71ce6_b53e_11e9_b382_7200004d8020row9_col8\" class=\"data row9 col8\" >-0.506686</td>\n",
       "                        <td id=\"T_77e71ce6_b53e_11e9_b382_7200004d8020row9_col9\" class=\"data row9 col9\" >1</td>\n",
       "            </tr>\n",
       "    </tbody></table>"
      ],
      "text/plain": [
       "<pandas.io.formats.style.Styler at 0x1c1bb3fc88>"
      ]
     },
     "execution_count": 70,
     "metadata": {},
     "output_type": "execute_result"
    }
   ],
   "source": [
    "df_nonnormalized = out_df[(out_df.Correct == 1)].drop(['Correct','Star'], axis = 1)\n",
    "df_nonnormalized.L1_trig = df_nonnormalized.L1_trig * df_nonnormalized.ET\n",
    "df_nonnormalized.L1_rem = df_nonnormalized.L1_rem * df_nonnormalized.ET\n",
    "\n",
    "corr = df_nonnormalized.corr(method='spearman')\n",
    "corr.style.background_gradient(cmap='coolwarm')"
   ]
  },
  {
   "cell_type": "markdown",
   "metadata": {
    "slideshow": {
     "slide_type": "slide"
    }
   },
   "source": [
    "## Observations\n",
    "\n",
    "- A strong positive correlation between *Event Time* and *Reaction Time* (this is expected)\n",
    "- A strong correlation between *L1_trig* and *ET* (this is by construction of $L_1$-norm)\n",
    "- A significan correlation between *Maximal Deviation of the nontriggering axis* (MD_rem) and L1_rem (the greater the amplitude of the nonleading (nontriggering) deviation (in the opposite direction from the target) the greater L1_rem norm)\n",
    "- No significant correlation between geometric and entropic (Sample Entropy) meassures (this might be due to not particularily well tuned parameters)"
   ]
  },
  {
   "cell_type": "markdown",
   "metadata": {
    "slideshow": {
     "slide_type": "slide"
    }
   },
   "source": [
    "## Conclusions\n",
    "\n",
    "- There is a statistical difference between trials with Star and without Star cursor\n",
    "\n",
    "- The observed difference is subtle\n",
    "\n",
    "- In addition to tracking incorrect answers, we can also look into correct answers and compute tha amount of spatial bias towards the competing alternatives\n",
    "\n",
    "- A crosss-populational differences can be studied by averaging results (meta-analysis)"
   ]
  }
 ],
 "metadata": {
  "celltoolbar": "Slideshow",
  "kernelspec": {
   "display_name": "Python 3",
   "language": "python",
   "name": "python3"
  },
  "language_info": {
   "codemirror_mode": {
    "name": "ipython",
    "version": 3
   },
   "file_extension": ".py",
   "mimetype": "text/x-python",
   "name": "python",
   "nbconvert_exporter": "python",
   "pygments_lexer": "ipython3",
   "version": "3.6.8"
  }
 },
 "nbformat": 4,
 "nbformat_minor": 2
}
